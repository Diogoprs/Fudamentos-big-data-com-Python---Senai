{
 "cells": [
  {
   "cell_type": "markdown",
   "metadata": {},
   "source": [
    "#### Gerando uma mensagem no console\n",
    "\n",
    "Markdown é um texto que não reconhecido pela linguagem"
   ]
  },
  {
   "cell_type": "markdown",
   "metadata": {},
   "source": [
    "Aula 1 - Introdução Python\n",
    "stackoverflow   Site para programação"
   ]
  },
  {
   "cell_type": "code",
   "execution_count": 94,
   "metadata": {},
   "outputs": [
    {
     "name": "stdout",
     "output_type": "stream",
     "text": [
      "['False', 'None', 'True', 'and', 'as', 'assert', 'async', 'await', 'break', 'class', 'continue', 'def', 'del', 'elif', 'else', 'except', 'finally', 'for', 'from', 'global', 'if', 'import', 'in', 'is', 'lambda', 'nonlocal', 'not', 'or', 'pass', 'raise', 'return', 'try', 'while', 'with', 'yield']\n"
     ]
    }
   ],
   "source": [
    "### Carregar bibliotecas\n",
    "import numpy as np      ### Bibliotecas de processamento de dados\n",
    "import keyword          ### biblioteca de palavras reservadas\n",
    "print(keyword.kwlist)   ### listar palavras\n",
    "import math as mt            ### Arrendondar\n"
   ]
  },
  {
   "cell_type": "code",
   "execution_count": null,
   "metadata": {},
   "outputs": [],
   "source": [
    "### Funções\n",
    "\"\"\"\n",
    "type  - Verifica o tipo de dados\n",
    "int   - Numero Inteiro\n",
    "float - Numero Decimal\n",
    "str   - Tipo texto\n",
    "print - apresenta resultado\n",
    "\"\"\""
   ]
  },
  {
   "cell_type": "code",
   "execution_count": null,
   "metadata": {},
   "outputs": [],
   "source": [
    "### Operadores\n",
    "\"\"\"\n",
    "+       - soma\n",
    "-       - subtração\n",
    "*       - multiplicação\n",
    "/       - divisão\n",
    "**      - potencia/elevado\n",
    "**(1/2) - fração\n",
    "\"\"\"\n",
    "\n",
    "### Operadores Relacionais\n",
    "\"\"\"\n",
    "==  - Igual\n",
    ">   - Maior\n",
    "<   - Menor\n",
    ">=  - Maior ou igual\n",
    "<=  - Menor ou Igual\n",
    "!=  - Diferente\n",
    "\"\"\""
   ]
  },
  {
   "cell_type": "code",
   "execution_count": null,
   "metadata": {},
   "outputs": [],
   "source": [
    "print('Hello, baby') ### Apresenta valores"
   ]
  },
  {
   "cell_type": "code",
   "execution_count": null,
   "metadata": {},
   "outputs": [],
   "source": [
    "#### Aula 1 - Criando as variaveis e atribuindo valores a elas\n",
    "#### Exercício 01 – Crie um programa para receber dois valores e em seguida, exiba o valor da soma.\n",
    "num1 = 20\n",
    "num2 = 5\n",
    "num3 = 6\n",
    "\n",
    "soma = num1+num2+num3\n",
    "\n",
    "print(soma)"
   ]
  },
  {
   "cell_type": "code",
   "execution_count": 8,
   "metadata": {},
   "outputs": [
    {
     "name": "stdout",
     "output_type": "stream",
     "text": [
      "O resultado da substração é 5\n"
     ]
    }
   ],
   "source": [
    "### Exercício 02 – Crie um programa para receber dois valores e em seguida, exiba o valor da diferença entre eles.\n",
    "num1 = 10\n",
    "num2 = 5\n",
    "soma = num1 - num2\n",
    "print(f'O resultado da substração é {soma}.')"
   ]
  },
  {
   "cell_type": "code",
   "execution_count": 15,
   "metadata": {},
   "outputs": [
    {
     "name": "stdout",
     "output_type": "stream",
     "text": [
      "O resultado é:  100.0 ok\n"
     ]
    }
   ],
   "source": [
    "### Exercício 03 – Crie um programa para receber dois valores e em seguida, exiba o produto entre eles.\n",
    "num1 = input(\"Digite o primeiro valor\")\n",
    "num2 = input(\"Digite o segundo valor\")\n",
    "produto = float(num1) * float(num2)\n",
    "print('O resultado é: ',produto,'ok')"
   ]
  },
  {
   "cell_type": "code",
   "execution_count": null,
   "metadata": {},
   "outputs": [],
   "source": [
    "### Calcular o Raio\n",
    "### Utilizando a função PI da biblioteca numpy\n",
    "### Utilizando INPUT para informar um valor\n",
    "\n",
    "raio = float(input(\"digite o raio\"))\n",
    "pi = round(float(np.pi),3)\n",
    "Area_circulo = pi*raio**2\n",
    "\n",
    "print(f\"O Ciruclo com raio de {raio}mm, tem uma area de {Area_circulo}mm² \")\n",
    "print(round(float(Area_circulo),3))"
   ]
  },
  {
   "cell_type": "code",
   "execution_count": null,
   "metadata": {},
   "outputs": [],
   "source": [
    "## Calcular o Lado\n",
    "\n",
    "lado = float(input(\"digite o lado\"))\n",
    "Aq = round(float(2),3)\n",
    "Calculo_lado = lado**Aq\n",
    "\n",
    "print(round(float(Calculo_lado),3))"
   ]
  },
  {
   "cell_type": "code",
   "execution_count": null,
   "metadata": {},
   "outputs": [],
   "source": [
    "## Calcular o F\n",
    "\n",
    "Ac = round(float(1.8),3)\n",
    "raio = Ac*float(input(\"digite o raio\"))+32\n",
    "\n",
    "print(round(float(raio),3))"
   ]
  },
  {
   "cell_type": "code",
   "execution_count": 16,
   "metadata": {},
   "outputs": [
    {
     "name": "stdout",
     "output_type": "stream",
     "text": [
      "A temperatura de 10.0 graus Celsius é equivalente a 50.0 graus fahrenheit !\n"
     ]
    }
   ],
   "source": [
    "### Exercício 15 - Faça um Programa que peça a temperatura em graus Celsius, transforme e mostre em graus Fahrenheit.\n",
    "\n",
    "celsius = float(input('Digite aqui a temperatura em celsius'))\n",
    "fahrenheit = (celsius * 9/5) + 32\n",
    "\n",
    "print (f'A temperatura de {celsius} graus Celsius é equivalente a {fahrenheit} graus fahrenheit !')"
   ]
  },
  {
   "cell_type": "code",
   "execution_count": null,
   "metadata": {},
   "outputs": [],
   "source": [
    "### Exercício 16 - Faça um Programa que peça 2 números inteiros e um número real. Calcule e mostre:\n",
    "\n",
    "### Numero Inteiro\n",
    "valor1 = int(input('Digite o primeiro valor'))\n",
    "valor2 = int(input('Digite o segundo valor'))\n",
    "### Numero real\n",
    "valor3 = float(input('Digite o terceiro valor'))\n",
    "\n",
    "### A o produto do dobro do primeiro com metade do segundo.\n",
    "calc_A = (valor1 * 2) + (valor2 / 2) \n",
    "print('Resposta A: ',int(calc_A))\n",
    "### B a soma do triplo do primeiro com o terceiro.\n",
    "calc_B = (valor1 * 3) + valor3\n",
    "print('Resposta B: ',int(calc_B))\n",
    "### C o terceiro elevado ao cubo.\n",
    "calc_C= (valor3 ** 3)\n",
    "print('Resposta C: ',int(calc_C))\n"
   ]
  },
  {
   "cell_type": "code",
   "execution_count": 42,
   "metadata": {},
   "outputs": [
    {
     "name": "stdout",
     "output_type": "stream",
     "text": [
      "Sem Multa\n"
     ]
    }
   ],
   "source": [
    "### Exercício 17 - João Papo-de-Pescador\n",
    "\"\"\"\n",
    "Homem de bem, comprou um microcomputador\n",
    "para controlar o rendimento diário de seu trabalho. Toda vez que ele traz um peso de\n",
    "peixes maior que o estabelecido pelo regulamento de pesca do estado de São Paulo\n",
    "(50 quilos) deve pagar uma multa de R$ 4,00 por quilo excedente. João precisa que\n",
    "você faça um programa que leia a variável peso (peso de peixes) e calcule o excesso.\n",
    "Gravar na variável excesso a quantidade de quilos além do limite e na variável multa o\n",
    "valor da multa que João deverá pagar. Imprima os dados do programa com as\n",
    "mensagens adequadas.\n",
    "\"\"\"\n",
    "Entrada = float(50)\n",
    "Peso = float(input('Digite o peso do peixes ?'))\n",
    "if Peso <= 50:\n",
    "    print('Sem Multa')\n",
    "else:\n",
    "    VlPorKL = 4\n",
    "    Excesso = (Peso - Entrada)\n",
    "    multa = (Peso - Entrada)*VlPorKL\n",
    "    print('Valor Excesso: ',Excesso)\n",
    "    print('Valor Multa: ',multa)\n"
   ]
  },
  {
   "cell_type": "code",
   "execution_count": null,
   "metadata": {},
   "outputs": [],
   "source": [
    "### Exercício 18 - Calculo Salarial \n",
    "\"\"\"\n",
    "Faça um Programa que pergunte quanto você ganha por hora e o número\n",
    "de horas trabalhadas no mês. Calcule e mostre o total do seu salário no referido mês,\n",
    "sabendo-se que são descontados 11% para o Imposto de Renda, 8% para o INSS e 5%\n",
    "para o sindicato, faça um programa que nos dê:\n",
    "\"\"\"\n",
    "### a) salário bruto.\n",
    "ValorHora = round(float(input('Valor Salario por hora ?')),0)\n",
    "HorasTrabalhadas = round(float(input('Horas trabalhadas no mês ?')),0)\n",
    "print('Salario por hora :', ValorHora)\n",
    "print('Horas trabalhadas :',HorasTrabalhadas)\n",
    "\n",
    "### a) salário bruto.\n",
    "SalarioBruto = ValorHora * HorasTrabalhadas\n",
    "print('Salario Bruto :',SalarioBruto)\n",
    "\n",
    "### IR (11%) : R$\n",
    "per_ir = 0.11\n",
    "DescontoIr = SalarioBruto * per_ir\n",
    "print('Valor desconto IR: ',DescontoIr)\n",
    "\n",
    "### INSS (8%) : R$\n",
    "per_inss = 0.08\n",
    "DescontoInss = SalarioBruto * per_inss\n",
    "print('Valor desconto INSS: ',DescontoInss)\n",
    "\n",
    "### Sindicato ( 5%) : R$\n",
    "per_sindicato = 0.05\n",
    "DescontoSindicato = SalarioBruto * per_sindicato\n",
    "print('Valor desconto Sindicato: ',DescontoSindicato)\n",
    "\n",
    "### Salário Liquido : R$\n",
    "SalarioLiquido = SalarioBruto - DescontoIr - DescontoInss - DescontoSindicato\n",
    "print('Valor Salário Liquido: ',SalarioLiquido)\n"
   ]
  },
  {
   "cell_type": "code",
   "execution_count": 95,
   "metadata": {},
   "outputs": [
    {
     "name": "stdout",
     "output_type": "stream",
     "text": [
      "Area total de pitura:  125.0\n",
      "Quantidade de latas:  3\n",
      "Custo Total:  240.0\n"
     ]
    }
   ],
   "source": [
    "### Exercício 19 - Calculo de Preço \n",
    "\"\"\"\n",
    "Faça um programa para uma loja de tintas. O programa deverá pedir o\n",
    "tamanho em metros quadrados da área a ser pintada. Considere que a cobertura da\n",
    "tinta é de 1 litro para cada 3 metros quadrados e que a tinta é vendida em latas de 18\n",
    "litros, que custam R$ 80,00. Informe ao usuário a quantidades de latas de tinta a serem\n",
    "compradas e o preço total.\n",
    "\"\"\"\n",
    "largura = round(float(input('Informe a largura total')),0)\n",
    "altura = round(float(input('Informe a largura Altura')),0)\n",
    "\n",
    "areaTotal = largura * altura\n",
    "\n",
    "formula = mt.ceil(float((areaTotal)/(18*3))) ### função mt.ceil arrendoda para cima\n",
    "\n",
    "ValorLata = round(float(formula),1) * 80\n",
    "\n",
    "print('Area total de pitura: ',areaTotal)\n",
    "print('Quantidade de latas: ',formula)\n",
    "print('Custo Total: ',ValorLata)\n"
   ]
  }
 ],
 "metadata": {
  "kernelspec": {
   "display_name": "Python 3",
   "language": "python",
   "name": "python3"
  },
  "language_info": {
   "codemirror_mode": {
    "name": "ipython",
    "version": 3
   },
   "file_extension": ".py",
   "mimetype": "text/x-python",
   "name": "python",
   "nbconvert_exporter": "python",
   "pygments_lexer": "ipython3",
   "version": "3.11.0"
  }
 },
 "nbformat": 4,
 "nbformat_minor": 2
}
