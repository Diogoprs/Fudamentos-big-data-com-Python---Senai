{
 "cells": [
  {
   "cell_type": "markdown",
   "metadata": {},
   "source": [
    "#### Gerando uma mensagem no console\n",
    "\n",
    "Markdown é um texto que não reconhecido pela linguagem"
   ]
  },
  {
   "cell_type": "markdown",
   "metadata": {},
   "source": [
    "\n",
    "Site para programação\n",
    "https://stackoverflow.com/\n",
    "\n",
    "Apredendo outras linguagens\n",
    "https://www.w3schools.com/\n",
    "\n",
    "Python documentação\n",
    "https://docs.python.org/pt-br/3/library/"
   ]
  },
  {
   "cell_type": "code",
   "execution_count": null,
   "metadata": {},
   "outputs": [],
   "source": [
    "### Aula dia 16/10/2023\n",
    "### Auala 01"
   ]
  },
  {
   "cell_type": "code",
   "execution_count": null,
   "metadata": {},
   "outputs": [],
   "source": [
    "### Instalando Marplotlib e SSeaborn, bibliotecas de graficos\n",
    "\n",
    "!pip install matplotlib     ### Biblioteca de graficos\n",
    "!pip install Seaborn        ### Biblioteca de graficos\n",
    "!pip install scikit-learn   ### Biblioteca de Marshine Learining\n",
    "\n"
   ]
  },
  {
   "cell_type": "code",
   "execution_count": null,
   "metadata": {},
   "outputs": [],
   "source": [
    "### Carregar bibliotecas\n",
    "import numpy as np      ### Bibliotecas de processamento de dados\n",
    "import keyword          ### biblioteca de palavras reservadas\n",
    "import math as mt       ### Arrendondar\n",
    "import pandas as pd     ### Pandas\n",
    "import os as os         ### Bibliotecas do python, para gerenciar o sistema operacional\n",
    "import matplotlib.pyplot as mat ### import biblioteca matplotlib\n",
    "import seaborn as seab  ## Biblioteca de graficos\n",
    "import pylab as pyl\n",
    "from pylab import randn ### Imprta somente uma função, função de numeros aleatorios\n",
    "### Marshine learning\n",
    "from sklearn.model_selection import train_test_split # Dividir amostras\n",
    "from sklearn.datasets import load_diabetes #datasets com informações publicas\n",
    "from sklearn.datasets import load_diabetes #datasets com informações publicas\n",
    "from sklearn.linear_model import LinearRegression # Biblioteca de algoritmo de regressão\n",
    "#print(keyword.kwlist)   ### listar palavras"
   ]
  },
  {
   "cell_type": "code",
   "execution_count": null,
   "metadata": {},
   "outputs": [],
   "source": [
    "### Funções\n",
    "\"\"\"\n",
    "type()  - Verifica o tipo de dados\n",
    "int()   - Numero Inteiro\n",
    "float() - Numero Decimal\n",
    "str()   - Tipo texto\n",
    "print() - apresenta resultado\n",
    "range() - (start, stop)\n",
    "\"\"\"\n",
    "### Funções texto\n",
    "\"\"\"\n",
    ".startswith   - Verificar a inicial\n",
    ".__contains__ - Verifica se Contem dentro do texto, funciona como um like no sql\n",
    "\"\"\"\n",
    "\n",
    "### Funções Buit-in\n",
    "\"\"\"\n",
    "sum - Soma\n",
    "max - Maior numero\n",
    "min - Menor numero\n",
    "len - Contar numero de itens ou elementos\n",
    "std - Desvio padrão\n",
    "count - contagem\n",
    "\"\"\""
   ]
  },
  {
   "cell_type": "code",
   "execution_count": null,
   "metadata": {},
   "outputs": [],
   "source": [
    "### Operadores\n",
    "\"\"\"\n",
    "+       - soma\n",
    "-       - subtração\n",
    "*       - multiplicação\n",
    "/       - divisão\n",
    "**      - potencia/elevado\n",
    "**(1/2) - fração\n",
    "\"\"\"\n",
    "\n",
    "### Operadores Relacionais\n",
    "\"\"\"\n",
    "==  - Igual\n",
    ">   - Maior\n",
    "<   - Menor\n",
    ">=  - Maior ou igual\n",
    "<=  - Menor ou Igual\n",
    "!=  - Diferente\n",
    "max - Maior\n",
    "nim - Menor\n",
    "\"\"\"\n",
    "\n",
    "### Operadore Logicos\n",
    "\"\"\"\n",
    "and - e\n",
    "or  - ou\n",
    "not - não\n",
    "\"\"\""
   ]
  },
  {
   "cell_type": "code",
   "execution_count": null,
   "metadata": {},
   "outputs": [],
   "source": [
    "print('Hello, baby') ### Apresenta valores"
   ]
  },
  {
   "cell_type": "code",
   "execution_count": null,
   "metadata": {},
   "outputs": [],
   "source": [
    "#### Aula 1 - Criando as variaveis e atribuindo valores a elas\n",
    "#### Exercício 01 – Crie um programa para receber dois valores e em seguida, exiba o valor da soma.\n",
    "num1 = 20\n",
    "num2 = 5\n",
    "num3 = 6\n",
    "\n",
    "soma = num1+num2+num3\n",
    "\n",
    "print(soma)"
   ]
  },
  {
   "cell_type": "code",
   "execution_count": null,
   "metadata": {},
   "outputs": [],
   "source": [
    "### Exercício 02 – Crie um programa para receber dois valores e em seguida, exiba o valor da diferença entre eles.\n",
    "num1 = 10\n",
    "num2 = 5\n",
    "soma = num1 - num2\n",
    "print(f'O resultado da substração é {soma}.')"
   ]
  },
  {
   "cell_type": "code",
   "execution_count": null,
   "metadata": {},
   "outputs": [],
   "source": [
    "### Exercício 03 – Crie um programa para receber dois valores e em seguida, exiba o produto entre eles.\n",
    "num1 = input(\"Digite o primeiro valor\")\n",
    "num2 = input(\"Digite o segundo valor\")\n",
    "produto = float(num1) * float(num2)\n",
    "print('O resultado é: ',produto,'ok')"
   ]
  },
  {
   "cell_type": "code",
   "execution_count": null,
   "metadata": {},
   "outputs": [],
   "source": [
    "### Calcular o Raio\n",
    "### Utilizando a função PI da biblioteca numpy\n",
    "### Utilizando INPUT para informar um valor\n",
    "\n",
    "raio = float(input(\"digite o raio\"))\n",
    "pi = round(float(np.pi),3)\n",
    "Area_circulo = pi*raio**2\n",
    "\n",
    "print(f\"O Ciruclo com raio de {raio}mm, tem uma area de {Area_circulo}mm² \")\n",
    "print(round(float(Area_circulo),3))"
   ]
  },
  {
   "cell_type": "code",
   "execution_count": null,
   "metadata": {},
   "outputs": [],
   "source": [
    "## Calcular o Lado\n",
    "\n",
    "lado = float(input(\"digite o lado\"))\n",
    "Aq = round(float(2),3)\n",
    "Calculo_lado = lado**Aq\n",
    "\n",
    "print(round(float(Calculo_lado),3))"
   ]
  },
  {
   "cell_type": "code",
   "execution_count": null,
   "metadata": {},
   "outputs": [],
   "source": [
    "## Calcular o F\n",
    "\n",
    "Ac = round(float(1.8),3)\n",
    "raio = Ac*float(input(\"digite o raio\"))+32\n",
    "\n",
    "print(round(float(raio),3))"
   ]
  },
  {
   "cell_type": "code",
   "execution_count": null,
   "metadata": {},
   "outputs": [],
   "source": [
    "### Aula dia 18/10/2023\n",
    "### Auala 02"
   ]
  },
  {
   "cell_type": "code",
   "execution_count": null,
   "metadata": {},
   "outputs": [],
   "source": [
    "### Exercício 15 - Faça um Programa que peça a temperatura em graus Celsius, transforme e mostre em graus Fahrenheit.\n",
    "\n",
    "celsius = float(input('Digite aqui a temperatura em celsius'))\n",
    "fahrenheit = (celsius * 9/5) + 32\n",
    "\n",
    "print (f'A temperatura de {celsius} graus Celsius é equivalente a {fahrenheit} graus fahrenheit !')"
   ]
  },
  {
   "cell_type": "code",
   "execution_count": null,
   "metadata": {},
   "outputs": [],
   "source": [
    "### Exercício 16 - Faça um Programa que peça 2 números inteiros e um número real. Calcule e mostre:\n",
    "\n",
    "### Numero Inteiro\n",
    "valor1 = int(input('Digite o primeiro valor'))\n",
    "valor2 = int(input('Digite o segundo valor'))\n",
    "### Numero real\n",
    "valor3 = float(input('Digite o terceiro valor'))\n",
    "\n",
    "### A o produto do dobro do primeiro com metade do segundo.\n",
    "calc_A = (valor1 * 2) + (valor2 / 2) \n",
    "print('Resposta A: ',int(calc_A))\n",
    "### B a soma do triplo do primeiro com o terceiro.\n",
    "calc_B = (valor1 * 3) + valor3\n",
    "print('Resposta B: ',int(calc_B))\n",
    "### C o terceiro elevado ao cubo.\n",
    "calc_C= (valor3 ** 3)\n",
    "print('Resposta C: ',int(calc_C))\n"
   ]
  },
  {
   "cell_type": "code",
   "execution_count": null,
   "metadata": {},
   "outputs": [],
   "source": [
    "### Exercício 17 - João Papo-de-Pescador\n",
    "\"\"\"\n",
    "Homem de bem, comprou um microcomputador\n",
    "para controlar o rendimento diário de seu trabalho. Toda vez que ele traz um peso de\n",
    "peixes maior que o estabelecido pelo regulamento de pesca do estado de São Paulo\n",
    "(50 quilos) deve pagar uma multa de R$ 4,00 por quilo excedente. João precisa que\n",
    "você faça um programa que leia a variável peso (peso de peixes) e calcule o excesso.\n",
    "Gravar na variável excesso a quantidade de quilos além do limite e na variável multa o\n",
    "valor da multa que João deverá pagar. Imprima os dados do programa com as\n",
    "mensagens adequadas.\n",
    "\"\"\"\n",
    "Entrada = float(50)\n",
    "Peso = float(input('Digite o peso do peixes ?'))\n",
    "if Peso <= 50:\n",
    "    print('Sem Multa')\n",
    "else:\n",
    "    VlPorKL = 4\n",
    "    Excesso = (Peso - Entrada)\n",
    "    multa = (Peso - Entrada)*VlPorKL\n",
    "    print('Valor Excesso: ',Excesso)\n",
    "    print('Valor Multa: ',multa)\n"
   ]
  },
  {
   "cell_type": "code",
   "execution_count": null,
   "metadata": {},
   "outputs": [],
   "source": [
    "### Exercício 18 - Calculo Salarial \n",
    "\"\"\"\n",
    "Faça um Programa que pergunte quanto você ganha por hora e o número\n",
    "de horas trabalhadas no mês. Calcule e mostre o total do seu salário no referido mês,\n",
    "sabendo-se que são descontados 11% para o Imposto de Renda, 8% para o INSS e 5%\n",
    "para o sindicato, faça um programa que nos dê:\n",
    "\"\"\"\n",
    "### a) salário bruto.\n",
    "ValorHora = round(float(input('Valor Salario por hora ?')),0)\n",
    "HorasTrabalhadas = round(float(input('Horas trabalhadas no mês ?')),0)\n",
    "print('Salario por hora :', ValorHora)\n",
    "print('Horas trabalhadas :',HorasTrabalhadas)\n",
    "\n",
    "### a) salário bruto.\n",
    "SalarioBruto = ValorHora * HorasTrabalhadas\n",
    "print('Salario Bruto :',SalarioBruto)\n",
    "\n",
    "### IR (11%) : R$\n",
    "per_ir = 0.11\n",
    "DescontoIr = SalarioBruto * per_ir\n",
    "print('Valor desconto IR: ',DescontoIr)\n",
    "\n",
    "### INSS (8%) : R$\n",
    "per_inss = 0.08\n",
    "DescontoInss = SalarioBruto * per_inss\n",
    "print('Valor desconto INSS: ',DescontoInss)\n",
    "\n",
    "### Sindicato ( 5%) : R$\n",
    "per_sindicato = 0.05\n",
    "DescontoSindicato = SalarioBruto * per_sindicato\n",
    "print('Valor desconto Sindicato: ',DescontoSindicato)\n",
    "\n",
    "### Salário Liquido : R$\n",
    "SalarioLiquido = SalarioBruto - DescontoIr - DescontoInss - DescontoSindicato\n",
    "print('Valor Salário Liquido: ',SalarioLiquido)\n"
   ]
  },
  {
   "cell_type": "code",
   "execution_count": null,
   "metadata": {},
   "outputs": [],
   "source": [
    "### Exercício 19 - Calculo de Preço \n",
    "\"\"\"\n",
    "Faça um programa para uma loja de tintas. O programa deverá pedir o\n",
    "tamanho em metros quadrados da área a ser pintada. Considere que a cobertura da\n",
    "tinta é de 1 litro para cada 3 metros quadrados e que a tinta é vendida em latas de 18\n",
    "litros, que custam R$ 80,00. Informe ao usuário a quantidades de latas de tinta a serem\n",
    "compradas e o preço total.\n",
    "\"\"\"\n",
    "largura = round(float(input('Informe a largura total')),0)\n",
    "altura = round(float(input('Informe a largura Altura')),0)\n",
    "\n",
    "areaTotal = largura * altura\n",
    "\n",
    "formula = mt.ceil(float((areaTotal)/(18*3))) ### função mt.ceil arrendoda para cima\n",
    "\n",
    "ValorLata = round(float(formula),1) * 80\n",
    "\n",
    "print('Area total de pitura: ',areaTotal)\n",
    "print('Quantidade de latas: ',formula)\n",
    "print('Custo Total: ',ValorLata)\n"
   ]
  },
  {
   "cell_type": "code",
   "execution_count": null,
   "metadata": {},
   "outputs": [],
   "source": [
    "### Função IF e ELSE\n",
    "\n",
    "### Exercício 01 – \n",
    "\"\"\"\n",
    "Crie uma variável chamada \"idade\" e atribua um valor inteiro a ela.\n",
    "Verifique se a idade é maior ou igual a 18 e imprima \"Maior de idade\" ou \"Menor de\n",
    "idade\" de acordo com a condição.\n",
    "\"\"\"\n",
    "\n",
    "Idade = int(input('Informe sua idade'))\n",
    "if Idade >=18:\n",
    "    print('Maior de idade')\n",
    "else:\n",
    "    print('Menor de Idade')"
   ]
  },
  {
   "cell_type": "code",
   "execution_count": null,
   "metadata": {},
   "outputs": [],
   "source": [
    "### Exercício 02 - Positivo ou Negativo\n",
    "\"\"\"\n",
    "Crie uma variável chamada \"número\" e atribua um valor inteiro a ela.\n",
    "Verifique se o número é positivo, negativo ou zero e imprima a mensagem\n",
    "correspondente.\n",
    "\"\"\"\n",
    "Numero = int(input('Informe numero'))\n",
    "\n",
    "if Numero >0:\n",
    "    print('Positivo')\n",
    "elif Numero <0:\n",
    "    print('Negativo')\n",
    "else:\n",
    "    print('Neutro')\n"
   ]
  },
  {
   "cell_type": "code",
   "execution_count": null,
   "metadata": {},
   "outputs": [],
   "source": [
    "### Aula dia 23/10/2023\n",
    "### Auala 03"
   ]
  },
  {
   "cell_type": "code",
   "execution_count": null,
   "metadata": {},
   "outputs": [],
   "source": [
    "### Exercício 03 - Reprovado ou Aprovado\n",
    "\"\"\"\n",
    "Crie duas variáveis, \"nota1\" e \"nota2\", e atribua valores numéricos a elas.\n",
    "Verifique se a média das notas é maior ou igual a 7 e imprima \"Aprovado\" ou\n",
    "\"Reprovado\" de acordo com a condição.\n",
    "\"\"\"\n",
    "\n",
    "Nota1 = round(float(input('Informe Nota 1')),1)\n",
    "Nota2 = round(float(input('Informe Nota 2')),1)\n",
    "Media = (Nota1 + Nota2)/2\n",
    "print(Media)\n",
    "\n",
    "if Media >= 7:\n",
    "    print('Aprovado')\n",
    "else:\n",
    "    print('Reprovado')"
   ]
  },
  {
   "cell_type": "code",
   "execution_count": null,
   "metadata": {},
   "outputs": [],
   "source": [
    "### Exercício 04 - Idade Valida\n",
    "\"\"\"\n",
    "Crie uma variável chamada \"idade\" e atribua um valor inteiro a ela.\n",
    "Verifique se a idade está dentro do intervalo de 18 a 30 (inclusive) e imprima a\n",
    "mensagem \"Idade válida\" ou \"Idade inválida\" de acordo com a condição.\n",
    "\"\"\"\n",
    "\n",
    "Idade = int(input('Informe Sua Idade'))\n",
    "print(Idade)\n",
    "\n",
    "if Idade >= 18 and Idade <= 30:\n",
    "    print('Idade válida')\n",
    "else:\n",
    "    print('Idade inválida')"
   ]
  },
  {
   "cell_type": "code",
   "execution_count": null,
   "metadata": {},
   "outputs": [],
   "source": [
    "### Exercício 05 - Par ou impar\n",
    "\"\"\"\n",
    "Crie uma variável chamada \"numero\" e atribua um valor inteiro a ela.\n",
    "Verifique se o número é par ou ímpar e imprima a mensagem correspondente.\n",
    "\"\"\"\n",
    "\n",
    "Numero = int(input('Informe um numero'))\n",
    "\n",
    "### Este bloco calcula o resto da divisão do valor inserido por 2\n",
    "Resto = Numero % 2\n",
    "print(Resto)\n",
    "\n",
    "if Numero % 2 == 0:\n",
    "    print(f\"Número {Numero} é par.\")\n",
    "else:\n",
    "    print(f\"Número {Numero} é ímpar.\")"
   ]
  },
  {
   "cell_type": "code",
   "execution_count": null,
   "metadata": {},
   "outputs": [],
   "source": [
    "### Exercício 06 - Verificar periodo\n",
    "\"\"\"\n",
    "Crie uma variável chamada \"horario\" e atribua um valor inteiro\n",
    "representando a hora do dia (em formato 24 horas). Verifique se o horário está dentro\n",
    "do período da manhã (das 6h às 12h), da tarde (das 12h às 18h) ou da noite (das 18h\n",
    "às 23h) e imprima a mensagem correspondente.\n",
    "\"\"\"\n",
    "\n",
    "Horario = int(input('Informe um horario'))\n",
    "print(f'Horario informado: {Horario}hs.')\n",
    "\n",
    "\n",
    "\n",
    "if Horario >= 6 and Horario < 12:\n",
    "    print('Periodo da Manhã.')\n",
    "elif Horario >= 12 and Horario < 18:\n",
    "    print('Periodo da tarde.')\n",
    "elif Horario >= 18 and Horario <= 23:\n",
    "    print('Periodo da Noite.')\n",
    "else:\n",
    "    print('Meia noite')\n"
   ]
  },
  {
   "cell_type": "code",
   "execution_count": null,
   "metadata": {},
   "outputs": [],
   "source": [
    "### Exercício 07 - Verificar peso\n",
    "\"\"\"\n",
    "Crie uma variável chamada \"peso\" e atribua um valor numérico a ela.\n",
    "Verifique se o peso está dentro do intervalo de 50 a 100 (inclusive) e imprima a\n",
    "mensagem \"Peso válido\" ou \"Peso inválido\" de acordo com a condição.\n",
    "\"\"\"\n",
    "Peso = int(input('Informe seu peso'))\n",
    "print(f'Peso informado: {Peso}.')\n",
    "\n",
    "if Peso >= 50 and Peso <= 100:\n",
    "    print('Peso válido.')\n",
    "else:\n",
    "    print('Peso inválido.')"
   ]
  },
  {
   "cell_type": "code",
   "execution_count": null,
   "metadata": {},
   "outputs": [],
   "source": [
    "### Exercício 08 - Multiplos de 3 e 5\n",
    "\"\"\"\n",
    "Crie uma variável chamada \"numero\" e atribua um valor inteiro a ela.\n",
    "Verifique se o número é múltiplo de 3 e de 5 ao mesmo tempo e imprima a mensagem\n",
    "correspondente.\n",
    "\"\"\"\n",
    "Numero = int(input('Informe um numero'))\n",
    "\n",
    "### Este bloco calcula o resto da divisão do valor inserido por 2\n",
    "Resto = (Numero % 3) and (Numero % 5)\n",
    "print(Resto)\n",
    "\n",
    "if (Numero % 3 == 0) and (Numero % 5 == 0):\n",
    "    print(f\"O Numero {Numero} é Multiplo de 3 e 5.\")\n",
    "else:\n",
    "    print(f\"O Numero {Numero}, não é Multiplo de 3 e 5.\")\n"
   ]
  },
  {
   "cell_type": "code",
   "execution_count": null,
   "metadata": {},
   "outputs": [],
   "source": [
    "### Exercício 09 - Valida ano Bissexto\n",
    "\"\"\"\n",
    "Crie uma variável chamada \"ano\" e atribua um valor inteiro\n",
    "representando um ano. Verifique se o ano é bissexto (divisível por 4, mas não por 100,\n",
    "exceto se for divisível por 400) e imprima a mensagem correspondente.\n",
    "\"\"\"\n",
    "\n",
    "Ano = int(input('Informe um numero'))\n",
    "\n",
    "if (Ano % 4 ==0 and Ano % 100 !=0) or (Ano % 400 ==0):\n",
    "    print(f'O {Ano} é bissexto.')\n",
    "else:\n",
    "    print(f'O {Ano} não é bissexto.')"
   ]
  },
  {
   "cell_type": "code",
   "execution_count": null,
   "metadata": {},
   "outputs": [],
   "source": [
    "### Exercício 15 - \n",
    "\"\"\"\n",
    "Faça um programa para a leitura de duas notas parciais de um aluno. \n",
    "O programa deve calcular a média alcançada por aluno e apresentar:\n",
    "• A mensagem \"Aprovado\", se a média alcançada for maior ou igual a sete;\n",
    "• A mensagem \"Reprovado\", se a média for menor do que sete;\n",
    "• A mensagem \"Aprovado com Distinção\", se a média for igual a dez.\n",
    "\"\"\"\n",
    "\n",
    "Nota1 = round(float(input('Nota 1')),1)\n",
    "Nota2 = round(float(input('Nota 2')),1)\n",
    "\n",
    "Notamedia = ((Nota1 + Nota2)/2)\n",
    "print(Notamedia)\n",
    "\n",
    "if Notamedia >=7 and Notamedia <10:\n",
    "    print(f'Aluno aprovado com media {Notamedia}.')\n",
    "elif Notamedia == 10:\n",
    "    print(f'Aluno aprovado com Distinção com media {Notamedia}.')\n",
    "else:\n",
    "    print(f'Aluno reprovado com media {Notamedia}.')"
   ]
  },
  {
   "cell_type": "code",
   "execution_count": null,
   "metadata": {},
   "outputs": [],
   "source": [
    "### Exercício 16 - Verificar o maior numero\n",
    "\"\"\"\n",
    "Faça um Programa que leia três números e mostre o maior deles.\n",
    "\"\"\"\n",
    "\n",
    "Numero1 = round(float(input('Nota 1')),1)\n",
    "Numero2 = round(float(input('Nota 2')),1)\n",
    "Numero3 = round(float(input('Nota 2')),1)\n",
    "\n",
    "NumeroMaior = max(Numero1,Numero2,Numero3)\n",
    "print(NumeroMaior)"
   ]
  },
  {
   "cell_type": "code",
   "execution_count": null,
   "metadata": {},
   "outputs": [],
   "source": [
    "### Exercício 16 - Verificar o maior numero\n",
    "\"\"\"\n",
    "Faça um Programa que leia três números e mostre o maior deles.\n",
    "\"\"\"\n",
    "\n",
    "Numero1 = round(float(input('Numero 1')),1)\n",
    "Numero2 = round(float(input('Numero 2')),1)\n",
    "Numero3 = round(float(input('Numero 2')),1)\n",
    "\n",
    "\n",
    "if (Numero1 > Numero2 and Numero1 > Numero3):\n",
    "   print(f'Numero 1 é o maior {Numero1}')\n",
    "elif (Numero2 > Numero1 and Numero2 > Numero3):\n",
    "   print(f'Numero 2 é o maior {Numero2}')\n",
    "elif (Numero3 > Numero1 and Numero3 > Numero2):\n",
    "   print(f'Numero 3 é o maior {Numero3}')\n",
    "else:\n",
    "   print('tudo errado')"
   ]
  },
  {
   "cell_type": "code",
   "execution_count": null,
   "metadata": {},
   "outputs": [],
   "source": [
    "### Exercício 17 - Verificar o Maior e menor\n",
    "\"\"\"\n",
    "Faça um Programa que leia três números e mostre o maior e o menor deles.\n",
    "\"\"\"\n",
    "Numero1 = round(float(input('Nota 1')),1)\n",
    "Numero2 = round(float(input('Nota 2')),1)\n",
    "Numero3 = round(float(input('Nota 2')),1)\n",
    "\n",
    "NumeroMaior = max(Numero1,Numero2,Numero3)\n",
    "print(NumeroMaior)\n",
    "\n",
    "NumeroMenor = min(Numero1,Numero2,Numero3)\n",
    "print(NumeroMenor)"
   ]
  },
  {
   "cell_type": "code",
   "execution_count": null,
   "metadata": {},
   "outputs": [],
   "source": [
    "### Exercício 17 - Verificar o Maior e menor\n",
    "\"\"\"\n",
    "Faça um Programa que leia três números e mostre o maior e o menor deles.\n",
    "\"\"\"\n",
    "Numero1 = round(float(input('Numero 1')),1)\n",
    "Numero2 = round(float(input('Numero 2')),1)\n",
    "Numero3 = round(float(input('Numero 2')),1)\n",
    "\n",
    "if (Numero1 > Numero2 and Numero1 > Numero3):\n",
    "   print(f'Numero 1 é o maior {Numero1}')\n",
    "elif (Numero2 > Numero1 and Numero2 > Numero3):\n",
    "   print(f'Numero 2 é o maior {Numero2}')\n",
    "elif (Numero3 > Numero1 and Numero3 > Numero2):\n",
    "   print(f'Numero 3 é o maior {Numero3}')\n",
    "\n",
    "if (Numero1 < Numero2 and Numero1 < Numero3):\n",
    "   print(f'Numero 1 é o menor {Numero1}')\n",
    "elif (Numero2 < Numero1 and Numero2 < Numero3):\n",
    "   print(f'Numero 2 é o menor {Numero2}')\n",
    "elif (Numero3 < Numero1 and Numero3 < Numero2):\n",
    "   print(f'Numero 3 é o menor {Numero3}')\n",
    "\n",
    "else:\n",
    "   print('tudo errado')"
   ]
  },
  {
   "cell_type": "code",
   "execution_count": null,
   "metadata": {},
   "outputs": [],
   "source": [
    "### Exercício 18 - Verificar o produto mais barato\n",
    "\"\"\"\n",
    "Faça um programa que pergunte o preço de três produtos e informe qual\n",
    "produto você deve comprar, sabendo que a decisão é sempre pelo mais barato.\n",
    "\"\"\"\n",
    "\n",
    "Produto1 = round(float(input('Produto 1')),1)\n",
    "Produto2 = round(float(input('Produto 2')),1)\n",
    "Produto3 = round(float(input('Produto 2')),1)\n",
    "\n",
    "if (Produto1 < Produto2 and Produto1 < Produto3):\n",
    "   print(f'Produto 1 é o menor, valor {Produto1}')\n",
    "elif (Produto2 < Produto1 and Produto2 < Produto3):\n",
    "   print(f'Produto 2 é o menor, valor {Produto2}')\n",
    "elif (Produto3 < Produto1 and Produto3 < Produto2):\n",
    "   print(f'Produto 3 é o menor, valor {Produto3}')\n",
    "\n",
    "else:\n",
    "   print('tudo errado')\n"
   ]
  },
  {
   "cell_type": "code",
   "execution_count": null,
   "metadata": {},
   "outputs": [],
   "source": [
    "### Aula 4 - 35/10/2023\n",
    "\n",
    "### Lista | Tupulas | Dicionarios"
   ]
  },
  {
   "cell_type": "code",
   "execution_count": null,
   "metadata": {},
   "outputs": [],
   "source": [
    "### Lista\n",
    "\n",
    "aluno = ['Ana','Amanda','Bruno','Joao',1]\n",
    "notas = [10,9,8,7]\n"
   ]
  },
  {
   "cell_type": "code",
   "execution_count": null,
   "metadata": {},
   "outputs": [],
   "source": [
    "### Indice\n",
    "### O indice no pytho, começa sempre com 0\n",
    "\n",
    "### Exibir o primeiro nome da lista aluno\n",
    "print(aluno[0])\n",
    "\n",
    "### Exibir o primeiro nome da lista notas\n",
    "print(notas[2])\n"
   ]
  },
  {
   "cell_type": "code",
   "execution_count": null,
   "metadata": {},
   "outputs": [],
   "source": [
    "### Listas(List) - Acessando Itens - Python sem inicia a lista com \"0\" sendo a primeira posição\n",
    "### Visualizar mais que um item da lista, Posição Inicia : Posição Final +1\n",
    "### Criamos utilizando []\n",
    "aluno[2:4]\n",
    "aluno[2:] ### apartir do 2 até o ultimo elemento da lista\n"
   ]
  },
  {
   "cell_type": "code",
   "execution_count": null,
   "metadata": {},
   "outputs": [],
   "source": [
    "### Identifica o tipo de dado\n",
    "print(type(aluno))\n",
    "print(type(aluno[4])) ### Verifica o tipo de dados da posição\n",
    "\n",
    "### Contar a quantidade de elementos da lista\n",
    "print(len(aluno))"
   ]
  },
  {
   "cell_type": "code",
   "execution_count": null,
   "metadata": {},
   "outputs": [],
   "source": [
    "### Exercício 01 - Criando Lista de times\n",
    "'''\n",
    "Crie uma lista com nomes de 4 times de futebol. \n",
    "a) Palmeiras \n",
    "b) São Paulo \n",
    "c) Santos \n",
    "d) Água Santa \n",
    "e) Acesse o time que está na 3a posição. \n",
    "f) Crie uma lista com duas listas de 3 times de futebol, cada uma de uma  divisão diferente. \n",
    "'''\n",
    "### Lista de times\n",
    "times = ['Palmeiras','São Paulo','Santos','Água Santa']\n",
    "\n",
    "### Acessar posição 3\n",
    "print(times[2])\n",
    "\n",
    "### Criando sublista\n",
    "### Acessar a lista com 3 times\n",
    "print(times[1:4])\n",
    "\n"
   ]
  },
  {
   "cell_type": "code",
   "execution_count": null,
   "metadata": {},
   "outputs": [],
   "source": [
    "### juntando duas listas \n",
    "\n",
    "Com_mundial = ['São Paulo','Corinthians','Santos']\n",
    "Sem_mundial = ['Palmeiras','Cruzeiro','Agua Negra']\n",
    "\n",
    "lista_times = [Com_mundial,Sem_mundial]\n",
    "print(lista_times[0][0])"
   ]
  },
  {
   "cell_type": "code",
   "execution_count": null,
   "metadata": {},
   "outputs": [],
   "source": [
    "### Exercício 02 - Inserir novas informações na lista\n",
    "'''\n",
    "Crie uma lista com 3 diferentes moedas. Acrescente mais 2  outras moedas à essa mesma lista\n",
    "'''\n",
    "Moedas = ['Dolar','Real','Euro']\n",
    "print(Moedas)\n"
   ]
  },
  {
   "cell_type": "code",
   "execution_count": null,
   "metadata": {},
   "outputs": [],
   "source": [
    "### Inserir novos informações na lista, o \"Append\" adiciona novo elemento no final da lista\n",
    "Moedas.append('Peso')\n",
    "print(Moedas)\n"
   ]
  },
  {
   "cell_type": "code",
   "execution_count": null,
   "metadata": {},
   "outputs": [],
   "source": [
    "#### Inseri em uma posição especifica, utilizar o \"Insert (lista.insert(posicao,valor)\"\n",
    "Moedas.insert(1,\"Rand\")\n",
    "print(Moedas)"
   ]
  },
  {
   "cell_type": "code",
   "execution_count": null,
   "metadata": {},
   "outputs": [],
   "source": [
    "#### Deletar um elemento da lista\n",
    "Moedas.remove(\"Peso\")\n",
    "print(Moedas)"
   ]
  },
  {
   "cell_type": "code",
   "execution_count": null,
   "metadata": {},
   "outputs": [],
   "source": [
    "### Lista (list) - Conversão de lista para string\n",
    "\n",
    "Supermercado = ['Batata','Oleo','Margarina','Cafe']\n",
    "print(supermecado)\n",
    "print(type(Supermercado))\n",
    "\n",
    "\n",
    "### Convertendo de list para string\n",
    "ListaConvertida = ';'.join(Supermercado)\n",
    "print(ListaConvertida)\n",
    "print(type(ListaConvertida))\n",
    "\n",
    "\n",
    "### Convertendo de string para list\n",
    "\n",
    "lista = ListaConvertida.split(';')\n",
    "print(lista)\n",
    "print(type(lista))"
   ]
  },
  {
   "cell_type": "code",
   "execution_count": null,
   "metadata": {},
   "outputs": [],
   "source": [
    "MoedasConvertidas = ';'.join(Moedas)\n",
    "print(MoedasConvertidas)\n",
    "print(type(MoedasConvertidas))\n",
    "\n",
    "MoedasLista = MoedasConvertidas.split(';')\n",
    "print(MoedasLista)\n",
    "print(type(MoedasLista))\n"
   ]
  },
  {
   "cell_type": "code",
   "execution_count": null,
   "metadata": {},
   "outputs": [],
   "source": [
    "### Tuplas(tuple) - Criamos utilizando () || Separamos os elementos por virgula \n",
    "### Tuplas não pode ser alterada a estrutura de criação\n",
    "\n",
    "valores = ('diogo','maya','rosa')\n",
    "print(valores)\n",
    "type(valores)"
   ]
  },
  {
   "cell_type": "code",
   "execution_count": null,
   "metadata": {},
   "outputs": [],
   "source": [
    "my_list = [1, 2] ### Criando Lista\n",
    "my_list[0] = 10\n",
    "print(my_list)\n",
    "type(my_list)\n"
   ]
  },
  {
   "cell_type": "code",
   "execution_count": null,
   "metadata": {},
   "outputs": [],
   "source": [
    "my_tuple = (1, 2) ### Criando tuplas\n",
    "\n",
    "print(my_tuple)\n",
    "type(my_tuple)\n",
    "\n",
    "try:\n",
    "    my_tuple[0] = 3\n",
    "except TypeError:\n",
    "    print('Tuplas não é possivel alterar')\n"
   ]
  },
  {
   "cell_type": "code",
   "execution_count": null,
   "metadata": {},
   "outputs": [],
   "source": [
    "### Tuplas é idael para criação de função\n",
    "### Criando uma função com tuplas\n",
    "\n",
    "def sum_and_product (x, y):\n",
    "    return (x + y),(x * y)"
   ]
  },
  {
   "cell_type": "code",
   "execution_count": null,
   "metadata": {},
   "outputs": [],
   "source": [
    "### Chamando a função criado\n",
    "print(sum_and_product(10,5))\n",
    "print(type(sum_and_product(10,5)))"
   ]
  },
  {
   "cell_type": "code",
   "execution_count": null,
   "metadata": {},
   "outputs": [],
   "source": [
    "### Dicionarios\n",
    "### Dicionarios são estruturas\n",
    "### Chave: Valor que permite associar valores a um identificador.\n",
    "### *** É criado com Chaves {}\n",
    "### *** Permite alterações\n",
    "\n",
    "'''\n",
    "Exemplo:\n",
    "Chave || Valor\n",
    "'Ana':10\n",
    "'Jorge':cpf,rg,sexo\n",
    "'Maria':horario,turma,sala\n",
    "'''"
   ]
  },
  {
   "cell_type": "code",
   "execution_count": null,
   "metadata": {},
   "outputs": [],
   "source": [
    "### Criando um Dicionario\n",
    "d_altura = {\n",
    "    'Amanda':1.65\n",
    "    ,'Ana':1.72\n",
    "    ,'Joao':1.5\n",
    "}\n",
    "print(d_altura)\n",
    "type(d_altura)\n",
    "\n",
    "\n",
    "d_peso = {\n",
    "    'Amanda':60\n",
    "    ,'Ana':82\n",
    "    ,'Joao':100\n",
    "}\n",
    "print(d_peso)\n",
    "type(d_peso)"
   ]
  },
  {
   "cell_type": "code",
   "execution_count": null,
   "metadata": {},
   "outputs": [],
   "source": [
    "### Acessar/filtra as informações do dicionairio\n",
    "d_altura['Amanda']"
   ]
  },
  {
   "cell_type": "code",
   "execution_count": null,
   "metadata": {},
   "outputs": [],
   "source": [
    "### Exercício 05 - Criando dicionario referente o almoço da servido na semana\n",
    "'''\n",
    "Crie um dicionário chamado cardápio em que as chaves são os  dias da semana e os respectivos valores sejam os pratos do dia\n",
    "'''\n",
    "\n",
    "AlmocoSemanal = {\n",
    "     'Segunda':'Virada Paulista'\n",
    "    ,'Terca':'Peixe'\n",
    "    ,'Quarta':'Feijoada'\n",
    "    ,'Quinta':'Lasanha'\n",
    "    ,'Sexta':'Churasco'\n",
    "    ,'Sabado':'Feijoada'\n",
    "    ,'Domingo':'Fechado'\n",
    "\n",
    "}\n",
    "\n",
    "print(AlmocoSemanal)\n",
    "print(AlmocoSemanal['Terca'])"
   ]
  },
  {
   "cell_type": "code",
   "execution_count": null,
   "metadata": {},
   "outputs": [],
   "source": [
    "### Exercício 06 - Criando dicionario de hemograma\n",
    "'''\n",
    "Crie um dicionário chamado hemograma que contenha as  seguintes chaves:valor. \n",
    "'''\n",
    "hemograma = {\n",
    "    'hemacias':4.71\n",
    "    ,'hemoglobina':14.1\n",
    "    ,'hematocrito':41.2\n",
    "    ,'linfócitos':38\n",
    "    ,'monocitos':7\n",
    "    ,'resultado':'saudável' \n",
    "}\n",
    "\n",
    "print(hemograma)\n",
    "\n",
    "print(hemograma['resultado'])\n"
   ]
  },
  {
   "cell_type": "code",
   "execution_count": null,
   "metadata": {},
   "outputs": [],
   "source": [
    "### Alterar dado no dicionario\n",
    "\n",
    "### Exercício 07 - Corrija o dicionário acima com monocitos:12\n",
    "\n",
    "hemograma['monocitos']=12\n",
    "\n",
    "print(hemograma)\n",
    "\n",
    "print(hemograma['monocitos'])"
   ]
  },
  {
   "cell_type": "code",
   "execution_count": null,
   "metadata": {},
   "outputs": [],
   "source": [
    "### Aula 27/10/2023\n",
    "### Estrutura de Repetição\n",
    "\n",
    "### for \"variavel\" in \"lista de elementos\" - O \"in\" captura e retor a informação para o \"for\" de acordo com a quantidade de elementos\n",
    "### for /while"
   ]
  },
  {
   "cell_type": "code",
   "execution_count": null,
   "metadata": {},
   "outputs": [],
   "source": [
    "repeticao = ['A','E','B','Z','E']\n",
    "for repeticao in repeticao:\n",
    "    print(repeticao)"
   ]
  },
  {
   "cell_type": "code",
   "execution_count": null,
   "metadata": {},
   "outputs": [],
   "source": [
    "### Incluindo um condição \"if\" dentro do \"for\"\n",
    "\n",
    "repeticao = ['abacaxi','elefante','banana','zebra','cobra']\n",
    "for repeticao in repeticao:\n",
    "    if repeticao.startswith('eb'):\n",
    "        print(repeticao)"
   ]
  },
  {
   "cell_type": "code",
   "execution_count": null,
   "metadata": {},
   "outputs": [],
   "source": [
    "### Incluindo a variaveç Acumuladora/\"soma\" no \"for\"\n",
    "\n",
    "numerofor = [1,2,3,4,5,6,7,8,9,10]\n",
    "soma = 0 # Variavel Acumuladora\n",
    "for numerofor in numerofor:\n",
    "    soma=soma + numerofor\n",
    "    print(soma) ### Apresenta o processo completa\n",
    "print(soma) ### Apresenta somente o resultado final\n"
   ]
  },
  {
   "cell_type": "code",
   "execution_count": null,
   "metadata": {},
   "outputs": [],
   "source": [
    "### Exercício 06 - Listar numero diagonal e horizontal\n",
    "### Adicionando a função \"range\" \n",
    "'''\n",
    "Faça um programa que imprima na tela os números de 1 a 20, um abaixo\n",
    "do outro. Depois modifique o programa para que ele mostre os números um ao lado do\n",
    "outro.\n",
    "'''\n",
    "\n",
    "rangernumeto = range(1,21)\n",
    "\n",
    "for rangernumeto in rangernumeto:\n",
    "    if rangernumeto >0:\n",
    "        print(rangernumeto)\n"
   ]
  },
  {
   "cell_type": "code",
   "execution_count": null,
   "metadata": {},
   "outputs": [],
   "source": [
    "rangernumeto = range(1,21)\n",
    "listavazia = [] ## lista vazia\n",
    "\n",
    "for inserirnumeros in rangernumeto:\n",
    "    listavazia.append(inserirnumeros) ## Inserir dado em uma lista vazia, utilizando o append\n",
    "    print(listavazia)"
   ]
  },
  {
   "cell_type": "code",
   "execution_count": null,
   "metadata": {},
   "outputs": [],
   "source": [
    "### Exercício 07 - Exercicio função sum, min, len\n",
    "'''\n",
    "Faça um programa que leia 5 números e informe o maior número. \n",
    "'''\n",
    "listacontrole = range(1,6) ## numero de elementos necessario\n",
    "listavazia = [] ## lista vazia\n",
    "for i in listacontrole: ## Contrele a posição range()\n",
    "    digitenumero= int(input(f'Informe o numero {i}')) ## Inserir dado em uma lista vazia, utilizando o append\n",
    "    listavazia.append(digitenumero) ## Inserir dado em uma lista vazia, utilizando o append\n",
    "print(listavazia)\n",
    "print(f'O maior valor é {sum(listavazia)}') ## soma dos elemento ou valores\n",
    "print(f'O maior valor é {max(listavazia)}') ## maior valor\n",
    "print(f'O menor valor é {min(listavazia)}') ## menor valor\n",
    "print(f'Você informou {len(listavazia)} elementos') ## conta a quantidade de elemento ou itens\n"
   ]
  },
  {
   "cell_type": "code",
   "execution_count": null,
   "metadata": {},
   "outputs": [],
   "source": [
    "### Exercício 08 - Inserindo o len() e a media (soma e media, utilizando sum e len)\n",
    "'''\n",
    "Faça um programa que leia 5 números e informe a soma e a média dos  números. \n",
    "'''\n",
    "\n",
    "listacontrole = range(1,6) ## numero de elementos necessario\n",
    "listavazia = [] ## lista vazia\n",
    "for i in listacontrole: ## Contrele a posição range()\n",
    "    digitenumero= int(input(f'Informe o numero {i}')) ## Inserir dado em uma lista vazia, utilizando o append\n",
    "    listavazia.append(digitenumero) ## Inserir dado em uma lista vazia, utilizando o append\n",
    "print(listavazia)\n",
    "print(f'O maior valor é {sum(listavazia)}') ## soma dos elemento ou valores\n",
    "print(f'O maior valor é {max(listavazia)}') ## maior valor\n",
    "print(f'O menor valor é {min(listavazia)}') ## menor valor\n",
    "print(f'Quantidade de elementos {len(listavazia)}') ## conta a quantidade de elemento ou itens\n",
    "print(f'O maior valor é {round(float((sum(listavazia)/len(listavazia))),1)}') ## soma e media, utilizando sum e len\n"
   ]
  },
  {
   "cell_type": "code",
   "execution_count": null,
   "metadata": {},
   "outputs": [],
   "source": [
    "### Exercício 09 - Apresentar numeros impares\n",
    "'''\n",
    "Faça um programa que imprima na tela apenas os números ímpares  entre 1 e 50. \n",
    "'''\n",
    "listacontrole = range(1,51) ## numero de elementos necessario\n",
    "for i in listacontrole: ## Contrele a posição range()\n",
    "    if i % 2 != 0:\n",
    "        print(i)\n"
   ]
  },
  {
   "cell_type": "code",
   "execution_count": null,
   "metadata": {},
   "outputs": [],
   "source": [
    "### Exercício 10 - \n",
    "'''\n",
    "Faça um programa que receba dois números inteiros e gere os números  inteiros que estão no intervalo compreendido por eles. \n",
    "'''\n",
    "listacontrole = range(int(input(\"Informe o 1° numero\")),int(input(\"Informe o 2° numero\"))) ## numero de elementos necessario\n",
    "listavazia = [] ## lista vazia\n",
    "for i in listacontrole: ## Contrele a posição range()\n",
    "        digitenumero = i\n",
    "        listavazia.append(digitenumero) ## Inserir dado em uma lista vazia, utilizando o append\n",
    "        ##print(i)\n",
    "print(listavazia)\n",
    "\n",
    "### Exercício 11 - Efetuando uma soma\n",
    "'''\n",
    "Altere o programa anterior para mostrar no final a soma dos números. \n",
    "'''\n",
    "print(f'Valor total {sum(listavazia)}') ## soma dos elemento ou valores\n"
   ]
  },
  {
   "cell_type": "code",
   "execution_count": null,
   "metadata": {},
   "outputs": [],
   "source": [
    "### Exercício 10 - Outra forma de fazer\n",
    "\n",
    "numInferior = int(input(\"Informe o 1° numero\"))\n",
    "numsuperior = int(input(\"Informe o 2° numero\")) ## numero de elementos necessario\n",
    "soma = 0\n",
    "for x in range(numInferior,numsuperior +1):\n",
    "    soma += x\n",
    "    print('Valor da variavel x =',x)\n",
    "    print(f'Valor da variavel soma = {soma}')"
   ]
  },
  {
   "cell_type": "code",
   "execution_count": null,
   "metadata": {},
   "outputs": [],
   "source": [
    "### Exercício 12 - Criando uma Tabuada\n",
    "'''\n",
    "Desenvolva um gerador de tabuada, capaz de gerar a tabuada de  qualquer número inteiro entre 1 a 10. \n",
    "O usuário deve informar de qual numero ele deseja  ver a tabuada. A saída deve ser conforme o exemplo abaixo: \n",
    "'''\n",
    "tabuada = int(input(\"Digite o numero da tabuada\"))\n",
    "for multiplicador in range(11):\n",
    "    print(f'{tabuada} x {multiplicador} = {tabuada * multiplicador}')"
   ]
  },
  {
   "cell_type": "code",
   "execution_count": null,
   "metadata": {},
   "outputs": [],
   "source": [
    "### Estrutura de Repetição \"While\"\n",
    "'''\n",
    "\"While\" Condição ex( ==, >, <, >=, <=, !=)\n",
    "Ações a serem reoetidas enquanto a condição for \"VERDADEIRA\"\n",
    "'''"
   ]
  },
  {
   "cell_type": "code",
   "execution_count": null,
   "metadata": {},
   "outputs": [],
   "source": [
    "### LOOP WHILE\n",
    "'''\n",
    "A estrutura de repetição \"while\" é utilizada quando precisamos repetir uma ação alguma vezes ou fazer uma interação até que uma condição seja satisfeita\n",
    "'''\n",
    "\n",
    "i = 1 ## Variavel de controle\n",
    "soma = 0 ## Variavel acumulado\n",
    "\n",
    "while i <= 10:\n",
    "    soma +=1\n",
    "    i += 1\n",
    "    print(soma)"
   ]
  },
  {
   "cell_type": "code",
   "execution_count": null,
   "metadata": {},
   "outputs": [],
   "source": [
    "### Aula 30/10/2013 - BIBLIOTECA PANDAS\n",
    "\n",
    "###Importando dados em excel\n",
    "import pandas as pd"
   ]
  },
  {
   "cell_type": "code",
   "execution_count": null,
   "metadata": {},
   "outputs": [],
   "source": [
    "### Localizar o caminho do arquivo\n",
    "### Importando arquivo xlsx\n",
    "##caminho = 'C:\\\\Users\\\\FIC\\\\Documents\\\\Python Fundamentos de Bigdata - Diogo\\\\Arquivos\\\\bank-full.xlsx'\n",
    "\n",
    "### Carrega o arquivo para um Dataframe\n",
    "tabela = pd.read_excel(caminho, sheet_name='Sheet 1 - bank-full')\n",
    "display(tabela)\n"
   ]
  },
  {
   "cell_type": "code",
   "execution_count": null,
   "metadata": {},
   "outputs": [],
   "source": [
    "### Visualizar as primeiras linhas do dataframe\n",
    "##tabela.head(2)\n",
    "\n",
    "### Visualizar a primeira e ultima linha\n",
    "##tabela.tail(2)\n",
    "\n",
    "### Obter informações do dataframe\n",
    "##tabela.info()\n",
    "\n",
    "### Renomear Todas as Colunas, precisa ter a mesma quantidade do arquivo\n",
    "tabela.columns = [\n",
    "    'idade'\n",
    "    ,'job'\n",
    "    ,'estado civil'\n",
    "    ,'educacao'\n",
    "    ,'default'\n",
    "    ,'balance'\n",
    "    ,'housing'\n",
    "    ,'emprestimo'\n",
    "    ,'contato'\n",
    "    ,'dia'\n",
    "    ,'mes'\n",
    "    ,'duracao'\n",
    "    ,'campanha'\n",
    "    ,'pdays'\n",
    "    ,'previous'\n",
    "    ,'poutcome'\n",
    "]\n",
    "\n",
    "tabela.head(2)\n",
    "tabela.tail(2)\n"
   ]
  },
  {
   "cell_type": "code",
   "execution_count": null,
   "metadata": {},
   "outputs": [],
   "source": [
    "### Renomear Todas as Colunas, colunas especificas\n",
    "tabela =tabela.rename(columns = {\n",
    "    'job':'profissao'\n",
    "    ,'default':'padrao'\n",
    "})\n",
    "\n",
    "tabela.head(2)\n",
    "tabela.tail(2)"
   ]
  },
  {
   "cell_type": "code",
   "execution_count": null,
   "metadata": {},
   "outputs": [],
   "source": [
    "### Utilizando a finção decribe(), Descrver os dados do dataframe\n",
    "### Valores Numericos\n",
    "tabela.describe()"
   ]
  },
  {
   "cell_type": "code",
   "execution_count": null,
   "metadata": {},
   "outputs": [],
   "source": [
    "#### Valores categoricos, utilizar o \"O\"\n",
    "tabela.describe(include=['O'])"
   ]
  },
  {
   "cell_type": "code",
   "execution_count": null,
   "metadata": {},
   "outputs": [],
   "source": [
    "### Exercício 01 – Manipulando dataframes com Pandas.\n",
    "### Importando arquivo CSV\n",
    "### Abra o arquivo world_happiness_report_2015.csv e o aloque em um dataframe.\n",
    "caminho = 'C:\\\\Users\\\\FIC\\\\Documents\\\\Python Fundamentos de Bigdata - Diogo\\\\Arquivos\\\\world_happiness_report_2015.csv'\n",
    "\n",
    "### Carrega o arquivo para um Dataframe\n",
    "#happiness = pd.read_csv(caminho)\n",
    "#display(happiness)\n",
    "\n",
    "### Verifique o cabeçalho e o final do dataframe.\n",
    "#happiness.head(2) ### Visulaizar cabeçalho e duas linhas\n",
    "#happiness.tail(2) ### Visulaizar cabeçalho e ultimas linhas\n",
    "\n",
    "### Quais as colunas desse dataframe?\n",
    "#happiness.info() # Visualizar o todos os detalhe do dataframe\n",
    "\n",
    "### Quais os tipos de dados temos no dataframe?\n",
    "#happiness.info() # Vislizar os tipos de dados do datafarme\n",
    "\n",
    "### Há valores faltantes ou nulos? Em quais colunas?\n",
    "#happiness.info() # Visulizar se existe ou não valores nulos\n",
    "\n",
    "### Renomeie as variáveis como segue:\n",
    "\n",
    "### Renomear Todas as Colunas, colunas especificas\n",
    "happiness =happiness.rename(columns = {\n",
    "    'happiness rank':'rank_felicidade'\n",
    "    ,'happiness score':'score_felicidade'\n",
    "    ,'standard error':'stande_error'\n",
    "    ,'economy (GDP per Capita)':'pib'\n",
    "\n",
    "    ,'economy (GDP per Capita)':'pib'\n",
    "    ,'economy (GDP per Capita)':'pib'\n",
    "})\n",
    "\n",
    "### Renomear Todas as Colunas, colunas especificas\n",
    "# happiness =happiness.rename(columns = {\n",
    "#     'health (Life Expectancy)':'expect_vida'\n",
    "#     ,'trust (Government Corruption)':'corrupcao'\n",
    "\n",
    "# })\n"
   ]
  },
  {
   "cell_type": "code",
   "execution_count": null,
   "metadata": {},
   "outputs": [],
   "source": [
    "### g) Quais os valores médios de expect_vida? E o valor mediano? E o máximo da\n",
    "### variável PIB?\n",
    "\n",
    "# happiness.describe() #Verificar probalidade/statisca dos dados"
   ]
  },
  {
   "cell_type": "code",
   "execution_count": null,
   "metadata": {},
   "outputs": [],
   "source": [
    "### Exercício 02 – Manipulando dados com Pandas\n",
    "### a) Crie um programa em pandas para ler o arquivo em Excel imobiliária.xlsx\n",
    "\n",
    "# caminho = \"C:\\\\Users\\\\FIC\\\\Documents\\\\Python Fundamentos de Bigdata - Diogo\\Arquivos\\Imobiliária.xlsx\"\n",
    "\n",
    "### b) e coloque em um dataframe.\n",
    "# Imobiliaria = pd.read_excel(caminho)\n",
    "# Imobiliaria.info()\n",
    "\n",
    "### c) Visualize o cabeçalho dos dados;\n",
    "# Imobiliaria.head(2) ### Visulaizar cabeçalho e duas linhas\n",
    "\n",
    "### d) Visualize as últimas linhas;\n",
    "# Imobiliaria.tail(2)\n",
    "\n",
    "### e) Escreva um programa para renomear o cabeçalho da tabela com os\n",
    "# Imobiliaria.info()\n",
    "\n",
    "### e) Escreva um programa para renomear o cabeçalho da tabela com os\n",
    "### f) seguintes nomes:\n",
    "\n",
    "#renomear todas as colunas\n",
    "# Imobiliaria.columns = [\n",
    "#     'filial'\n",
    "#     ,'vendedor'\n",
    "#     ,'data'\n",
    "#     ,'tipo'\n",
    "#     ,'area'\n",
    "#     ,'dorms'\n",
    "#     ,'garag'\n",
    "#     ,'piscina'\n",
    "#     ,'preco'\n",
    "#     ,'comissao'\n",
    "\n",
    "# ]\n",
    "\n",
    "# Imobiliaria.info()\n",
    "\n",
    "### g) 5. Quais são os tipos de dados que temos no dataframe?\n",
    "# Imobiliaria.info()\n",
    "# Dtype || responde essa pergunta\n",
    "\n",
    "### h) 6. Há valores faltantes ou nulos?\n",
    "# Imobiliaria.info()\n",
    "# Non-RangeIndex: x Non-Null || responde essa pergunta\n",
    "\n"
   ]
  },
  {
   "cell_type": "code",
   "execution_count": null,
   "metadata": {},
   "outputs": [],
   "source": [
    "### i) 7. Calcule a soma, média, máximo, mínimo e contagem da coluna Preço.\n",
    "import numpy as np      ### Bibliotecas de processamento de dados\n",
    "print(Imobiliaria['preco'].sum())   # Verificar a soma\n",
    "print(Imobiliaria['preco'].mean())  # Verificar a media\n",
    "print(Imobiliaria['preco'].max())   # Verificar a menimo\n",
    "print(Imobiliaria['preco'].min())   # Verificar a menor valor\n",
    "print(Imobiliaria['preco'].std())   # Verificar a desvio padrão\n",
    "print(Imobiliaria['preco'].count()) # Verificar a contagem"
   ]
  },
  {
   "cell_type": "code",
   "execution_count": null,
   "metadata": {},
   "outputs": [],
   "source": [
    "### Criando filtro de do Dataframe\n",
    "\n",
    "\n",
    "\n",
    "### j) 8. Crie um programa para criar um dataframe para mostrar as vendas por\n",
    "#arquivofilial = Imobiliaria[Imobiliaria['filial']=='Centro']   # Fitrando o arquivo\n",
    "### k) região, e salvar um arquivo em Excel para cada região.\n",
    "### ▪ Centro\n",
    "\n",
    "arquivofilial = Imobiliaria[Imobiliaria['filial']=='Centro']\n",
    "caminho_filiais = 'C:\\\\Users\\\\FIC\\\\Documents\\\\Python Fundamentos de Bigdata - Diogo\\\\Ralatorios_Filiais\\\\' ## Mapeando caminho de relatorios por Filial \n",
    "arquivo = 'filial_centro.xlsx'\n",
    "### Salvar o arquivo na pasta\n",
    "arquivofilial.to_excel(caminho_filiais + arquivo)\n",
    "\n",
    "\n",
    "### ▪ Noroeste\n",
    "arquivofilial = Imobiliaria[Imobiliaria['filial']=='Noroeste']\n",
    "caminho_filiais = 'C:\\\\Users\\\\FIC\\\\Documents\\\\Python Fundamentos de Bigdata - Diogo\\\\Ralatorios_Filiais\\\\' ## Mapeando caminho de relatorios por Filial \n",
    "arquivo = 'filial_Noroeste.xlsx'\n",
    "### Salvar o arquivo na pasta\n",
    "arquivofilial.to_excel(caminho_filiais + arquivo)\n",
    "\n",
    "### ▪ Norte\n",
    "arquivofilial = Imobiliaria[Imobiliaria['filial']=='Norte']\n",
    "caminho_filiais = 'C:\\\\Users\\\\FIC\\\\Documents\\\\Python Fundamentos de Bigdata - Diogo\\\\Ralatorios_Filiais\\\\' ## Mapeando caminho de relatorios por Filial \n",
    "arquivo = 'filial_Norte.xlsx'\n",
    "### Salvar o arquivo na pasta\n",
    "arquivofilial.to_excel(caminho_filiais + arquivo)\n",
    "\n",
    "### ▪ Sudeste\n",
    "arquivofilial = Imobiliaria[Imobiliaria['filial']=='Sudeste']\n",
    "caminho_filiais = 'C:\\\\Users\\\\FIC\\\\Documents\\\\Python Fundamentos de Bigdata - Diogo\\\\Ralatorios_Filiais\\\\' ## Mapeando caminho de relatorios por Filial \n",
    "arquivo = 'filial_Sudeste.xlsx'\n",
    "### Salvar o arquivo na pasta\n",
    "arquivofilial.to_excel(caminho_filiais + arquivo)\n",
    "\n",
    "### ▪ Oeste\n",
    "arquivofilial = Imobiliaria[Imobiliaria['filial']=='Oeste']\n",
    "caminho_filiais = 'C:\\\\Users\\\\FIC\\\\Documents\\\\Python Fundamentos de Bigdata - Diogo\\\\Ralatorios_Filiais\\\\' ## Mapeando caminho de relatorios por Filial \n",
    "arquivo = 'filial_Oeste.xlsx'\n",
    "### Salvar o arquivo na pasta\n",
    "arquivofilial.to_excel(caminho_filiais + arquivo)\n",
    "\n",
    "### ▪ Leste\n",
    "arquivofilial = Imobiliaria[Imobiliaria['filial']=='Leste']\n",
    "caminho_filiais = 'C:\\\\Users\\\\FIC\\\\Documents\\\\Python Fundamentos de Bigdata - Diogo\\\\Ralatorios_Filiais\\\\' ## Mapeando caminho de relatorios por Filial \n",
    "arquivo = 'filial_Leste.xlsx'\n",
    "### Salvar o arquivo na pasta\n",
    "arquivofilial.to_excel(caminho_filiais + arquivo)\n",
    "\n",
    "### ▪ Sudoeste\n",
    "arquivofilial = Imobiliaria[Imobiliaria['filial']=='Sudoeste']\n",
    "caminho_filiais = 'C:\\\\Users\\\\FIC\\\\Documents\\\\Python Fundamentos de Bigdata - Diogo\\\\Ralatorios_Filiais\\\\' ## Mapeando caminho de relatorios por Filial \n",
    "arquivo = 'filial_Sudoeste.xlsx'\n",
    "### Salvar o arquivo na pasta\n",
    "arquivofilial.to_excel(caminho_filiais + arquivo)\n",
    "\n",
    "### ▪ Sul\n",
    "arquivofilial = Imobiliaria[Imobiliaria['filial']=='Sul']\n",
    "caminho_filiais = 'C:\\\\Users\\\\FIC\\\\Documents\\\\Python Fundamentos de Bigdata - Diogo\\\\Ralatorios_Filiais\\\\' ## Mapeando caminho de relatorios por Filial \n",
    "arquivo = 'filial_Sul.xlsx'\n",
    "### Salvar o arquivo na pasta\n",
    "arquivofilial.to_excel(caminho_filiais + arquivo)\n",
    "\n",
    "### ▪ Nordeste\n",
    "arquivofilial = Imobiliaria[Imobiliaria['filial']=='Nordeste']\n",
    "caminho_filiais = 'C:\\\\Users\\\\FIC\\\\Documents\\\\Python Fundamentos de Bigdata - Diogo\\\\Ralatorios_Filiais\\\\' ## Mapeando caminho de relatorios por Filial \n",
    "arquivo = 'filial_Nordeste.xlsx'\n",
    "### Salvar o arquivo na pasta\n",
    "arquivofilial.to_excel(caminho_filiais + arquivo)"
   ]
  },
  {
   "cell_type": "code",
   "execution_count": null,
   "metadata": {},
   "outputs": [],
   "source": [
    "### Aula 01/11/2023\n",
    "\n",
    "# Gere um arquivo em Excel para representar as vendas efetuadas pela filial norte em 2010.\n",
    "\n",
    "norte_2010 = tabela[\n",
    "    (tabela['Filial']== 'Norte') &\n",
    "    (tabela['Data']>= '2010-01-01' ) &\n",
    "    (tabela ['Data']<= '2010-12-31')\n",
    "]\n",
    "\n",
    "caminho_destino = 'C:\\\\Users\\\\FIC\\\\Documents\\\\AlbuquerquePython\\\\Filiais\\\\'\n",
    "arquivo_final = 'relatório-vendas-norte2010.xlsx'\n",
    "\n",
    "norte_2010.to_excel(caminho_destino + arquivo_final, index = False)"
   ]
  },
  {
   "cell_type": "code",
   "execution_count": null,
   "metadata": {},
   "outputs": [],
   "source": [
    "# Gere um arquivo em Excel para representar as vendas efetuadas pela filial Sudeste em 2010. Sendo que no relatório deve conter apenas vendas de casas sem garagem.\n",
    "\n",
    "sudeste_2010 = tabela[(tabela['Filial']=='Sudeste') &\n",
    "                      (tabela['Data']>= '2010-01-01') &\n",
    "                      (tabela['Data']<= '2010-12-31') &\n",
    "                      (tabela['Tipo']== 'Casa') &\n",
    "                      (tabela['Garagem']== 0)\n",
    "                      ]\n",
    "caminho_destino = 'C:\\\\Users\\\\FIC\\\\Documents\\\\AlbuquerquePython\\\\Filiais\\\\'\n",
    "arquivo_final = 'relatório-vendas-sudeste2010.xlsx'\n",
    "\n",
    "sudeste_2010.to_excel(caminho_destino + arquivo_final, index = False)"
   ]
  },
  {
   "cell_type": "code",
   "execution_count": null,
   "metadata": {},
   "outputs": [],
   "source": [
    "## Qual o valor máximo de comissão que a imobiliária numa venda?\n",
    "\n",
    "tabela.describe ()\n",
    "print(tabela['Comissao'].max())\n"
   ]
  },
  {
   "cell_type": "code",
   "execution_count": null,
   "metadata": {},
   "outputs": [],
   "source": [
    "## Qual o valor máximo de comissão que a imobiliária numa venda?\n",
    "\n",
    "vendas_comissao = tabela[tabela['Comissao']== max(tabela['Comissao'])]\n",
    "\n",
    "caminho_destino = 'C:\\\\Users\\\\FIC\\\\Documents\\\\AlbuquerquePython\\\\Filiais\\\\'\n",
    "arquivo_final = 'relatório-vendas-maior-comissao.xlsx'\n",
    "\n",
    "vendas_comissao.to_excel(caminho_destino + arquivo_final, index = False)\n",
    "\n"
   ]
  },
  {
   "cell_type": "code",
   "execution_count": null,
   "metadata": {},
   "outputs": [],
   "source": [
    "# Quantas casas de 2 ou 3 dormitórios foram vendidas pelo Ricardo antes de 2011.\n",
    "\n",
    "vendas_Ricardo =tabela[(tabela['Vendedor'] == 'Ricardo') &\n",
    "                       (tabela['Data']< '2011-01-01') &\n",
    "                       (tabela['Tipo']== 'Casa') &\n",
    "                       (tabela['Dorms']< 4) &\n",
    "                       (tabela['Dorms'] >= 2)]\n",
    "caminho_destino = 'C:\\\\Users\\\\FIC\\\\Documents\\\\AlbuquerquePython\\\\Filiais\\\\'\n",
    "arquivo_final = 'relatório-vendas-ricardo.xlsx'\n",
    "\n",
    "vendas_Ricardo.to_excel(caminho_destino + arquivo_final, index = False)\n",
    "\n"
   ]
  },
  {
   "cell_type": "code",
   "execution_count": null,
   "metadata": {},
   "outputs": [],
   "source": [
    "#1 Selecionar a coluna de interesse\n",
    "\n",
    "df_cargos = df['cargo'].drop_duplicates()\n",
    "\n",
    "#2 Converter o df_cargos em lista\n",
    "cargos = df_cargos.to_list()\n",
    "\n",
    "#3 Filtrar o dataframe utilizando a lista cargos\n",
    "\n",
    "\n",
    "for cargo in cargos:\n",
    "    df_final = df[df['cargo'] == cargo] # Filtrar de acordo com os cargos\n",
    "    caminho = './relatorios-exercicio-03/' # Caminho da pasta\n",
    "    arquivo = cargo + '.xlsx' # Nome do arquivo\n",
    "    df_final.to_excel(caminho + arquivo) # Gerando um arquivo em Excel"
   ]
  },
  {
   "cell_type": "code",
   "execution_count": null,
   "metadata": {},
   "outputs": [],
   "source": [
    "### Aula 03/11/2023\n",
    "import pandas as df ## import pandas\n",
    "\n",
    "caminho = 'C:\\\\Users\\\\FIC\\\\Documents\\\\Python Fundamentos de Bigdata - Diogo\\\\Arquivos\\\\bank-full.xlsx'\n",
    "\n",
    "### Carrega o arquivo para um Dataframe por sheet\n",
    "bankfull = pd.read_excel(caminho, sheet_name='Sheet 1 - bank-full')\n",
    "display(bankfull)\n"
   ]
  },
  {
   "cell_type": "code",
   "execution_count": null,
   "metadata": {},
   "outputs": [],
   "source": [
    "### Metodo volue_counts\n",
    "\n",
    "bankfull['education']."
   ]
  },
  {
   "cell_type": "code",
   "execution_count": null,
   "metadata": {},
   "outputs": [],
   "source": [
    "### Forma de fazer o calculo de duas colunas\n",
    "\n",
    "bankfull[['balance','duration']].sum()\n",
    "#bankfull.duration.mean()"
   ]
  },
  {
   "cell_type": "code",
   "execution_count": null,
   "metadata": {},
   "outputs": [],
   "source": [
    "### unique - apresenta o valor unico da variavel  - Exemplo: faz um distinct\n",
    "\n",
    "bankfull.job.unique()"
   ]
  },
  {
   "cell_type": "code",
   "execution_count": null,
   "metadata": {},
   "outputs": [],
   "source": [
    "### nunique -  apresenta a quantidade de valores unicos em uma variavel\n",
    "\n",
    "bankfull.job.nunique()"
   ]
  },
  {
   "cell_type": "code",
   "execution_count": null,
   "metadata": {},
   "outputs": [],
   "source": [
    "# bankfull.job.duplicated() ## Verificar os itens duplicados\n",
    "# bankfull.drop.duplicates() ## Exclui itens duplicados\n",
    "# bankfull.job.duplicated().sum() ## Verificar os itens duplicados, por quantidade\n",
    "# bankfull.job.value_counts() ## Verificar quantas vezes o intem aparece, por nome e quantidade\n",
    "# bankfull[bankfull['job'].duplicated() ==True] # Exebir quais linhas são duplicadas"
   ]
  },
  {
   "cell_type": "code",
   "execution_count": null,
   "metadata": {},
   "outputs": [],
   "source": [
    "### Exercício 01 – Operações com Pandas\n",
    "\n",
    "### a) Abra o arquivo World Happiness.\n",
    "\n",
    "### Verifique o cabeçalho e o final do dataframe.\n",
    "# happiness.head(2) ### Visulaizar cabeçalho e duas linhas\n",
    "# happiness.info(2) ### Visulaizar cabeçalho e ultimas linhas\n",
    "\n",
    "\n",
    "### b) Qual a média do score_felicidade?\n",
    "\n",
    "# mediafelicidade = happiness['score_felicidade'].mean()\n",
    "# print(f'A media é{mediafelicidade: .2f}') # mostra valor com duas casas decimais\n",
    "\n",
    "### c) Qual a soma do PIB?\n",
    "\n",
    "# somapib = happiness['pib'].sum()\n",
    "# print(f'A soma é{somapib: .2f}') # mostra valor com duas casas decimais\n",
    "\n",
    "### d) Qual a soma do freedom e corrupção?\n",
    "# happiness[['freedom','corrupcao']].sum()\n",
    "# print(f'A soma é{somafrecor: .2f}') # mostra valor com duas casas decimais\n",
    "\n",
    "### e) Há dados duplicados? Quantos? Verifique quais são eles?\n",
    "\n",
    "# happiness.duplicated() ## Verificar os itens duplicados\n",
    "# happiness.duplicated().sum() ## Verificar os itens duplicados, por quantidade\n",
    "# happiness[happiness.duplicated() == True] ## Filtra somente os intens com dados duplicados\n",
    "\n",
    "\n",
    "### f) Verifique a quantidade de dados faltantes.\n",
    "### df.isnull ## Verificar quantidades de dados nulos ou faltantes\n",
    "### df.isna ## Verificar quantidades de dados nulos ou faltantes\n",
    "\n",
    "# happines.isna().sum()\n",
    "# happiness.isnull().sum()\n",
    "\n",
    "### g) Crie um dataframe onde os valores faltantes de score_felicidade sejam\n",
    "### substituídos por -9999.\n",
    "### Prencher os dados isnull por um dado especifico\n",
    "\n",
    "# happines = happiness.fillna('n/a')\n",
    "\n",
    "\n",
    "### h) Quantas e quais são as regiões existentes nos dados?\n",
    "### i) Verifique a frequência dos dados segundo suas regiões. Qual a região com maior\n",
    "### quantidade de dados? E a região com a menor quantidade?"
   ]
  },
  {
   "cell_type": "code",
   "execution_count": null,
   "metadata": {},
   "outputs": [],
   "source": [
    "### Criando um diretorio no windows\n",
    "import os as os\n",
    "os.mkdir('../Python Fundamentos de Bigdata - Diogo/relatorio_execicio_4')"
   ]
  },
  {
   "cell_type": "code",
   "execution_count": null,
   "metadata": {},
   "outputs": [],
   "source": [
    "### Exercico 4\n",
    "### Exercício 04\n",
    "### Criando relatórios em função do arquivo dados-vendas.xlsx. \n",
    "### a) Crie um dataframe, utilizando o arquivo dados-vendas.xlsx. \n",
    "\n",
    "# import pandas as pd\n",
    "# caminhodadosvendas = \"C:\\\\Users\\\\FIC\\\\Documents\\\\Python Fundamentos de Bigdata - Diogo\\\\Arquivos\\\\dados_vendas.xlsx\"\n",
    "# caminhodadosvendas = '../Python Fundamentos de Bigdata - Diogo/Arquivos/dados_vendas.xlsx'\n",
    "\n",
    "### Crie data frames para dividir a planilha vendas em 4 arquivos. \n",
    "# dadosvendas = pd.read_excel(caminhodadosvendas)\n",
    "dadosvendas.info() #Apresentar detalhes do excel\n",
    "# dadosvendas.head() #Apresentar dados do excel\n",
    "\n",
    "### São eles:"
   ]
  },
  {
   "cell_type": "code",
   "execution_count": null,
   "metadata": {},
   "outputs": [],
   "source": [
    "### Divdir o dataframe em 4 tabelas\n",
    "### utilizando o a função \"loc\"\n",
    "### Tabela Fato - \n",
    "\n",
    "dadosvendas = dadosvendas.rename(columns={'Vendedor':'Vendedores'})\n"
   ]
  },
  {
   "cell_type": "code",
   "execution_count": null,
   "metadata": {},
   "outputs": [],
   "source": [
    "# dadosvendas = dadosvendas.rename(columns={'Vendedor':'Vendedores'})\n",
    "\n",
    "# fatovenda = dadosvendas.loc[\n",
    "#     :\n",
    "#     ,['ID-Produto','ID-loja','ID-Vendedor','Data','ValorVenda']\n",
    "#     ]\n",
    "\n",
    "# fatovenda.duplicated().sum() #Verificar duplicados\n",
    "fatovenda.to_excel('../Python Fundamentos de Bigdata - Diogo/relatorio_execicio_4/fatovenda.xlsx')\n"
   ]
  },
  {
   "cell_type": "code",
   "execution_count": null,
   "metadata": {},
   "outputs": [],
   "source": [
    "### Dimensão Produto\n",
    "\n",
    "# dimProduto = dadosvendas.loc[\n",
    "#     :\n",
    "#     ,['ID-Produto','Produto','Categoria','Segmento','Fabricante']\n",
    "#     ]\n",
    "\n",
    "# dimProduto.duplicated().sum() #Verificar duplicados\n",
    "dimProduto.to_excel('../Python Fundamentos de Bigdata - Diogo/relatorio_execicio_4/dimProduto.xlsx')"
   ]
  },
  {
   "cell_type": "code",
   "execution_count": null,
   "metadata": {},
   "outputs": [],
   "source": [
    "### Dimensão Vendendor\n",
    "\n",
    "# dimVendendor = dadosvendas.loc[\n",
    "#     :\n",
    "#     ,['ID-Vendedor','Vendedores']\n",
    "#     ]\n",
    "\n",
    "# dimVendendor.duplicated().sum() #Verificar duplicados\n",
    "# dimVendendor = dimVendendor.drop_duplicates() #Remover duplicados\n",
    "dimVendendor.to_excel('../Python Fundamentos de Bigdata - Diogo/relatorio_execicio_4/dimVendendor.xlsx')"
   ]
  },
  {
   "cell_type": "code",
   "execution_count": null,
   "metadata": {},
   "outputs": [],
   "source": [
    "### Dimensão Lojas\n",
    "\n",
    "# dimLojas = dadosvendas.loc[\n",
    "#     :\n",
    "#     ,['ID-loja','Cidade','Estado']\n",
    "#     ]\n",
    "\n",
    "# dimLojas.duplicated().sum() #Verificar duplicados\n",
    "# dimLojas = dimLojas.drop_duplicates() #Remover duplicados\n",
    "dimLojas.to_excel('../Python Fundamentos de Bigdata - Diogo/relatorio_execicio_4/dimLojas.xlsx')"
   ]
  },
  {
   "cell_type": "code",
   "execution_count": null,
   "metadata": {},
   "outputs": [],
   "source": [
    "### Gerar relatorios por vendedor\n",
    "\n",
    "### Criar pasta\n",
    "# os.mkdir('../Python Fundamentos de Bigdata - Diogo/relatorios_exercicios_5')\n",
    "# os.mkdir('../Python Fundamentos de Bigdata - Diogo/relatorios_exercicios_5/relatorio_vendedores')\n",
    "\n",
    "### Selecionar a coluna do dataframe e remover as duplicadas\n",
    "# dadosvendas.info() #Apresentar detalhes do excel\n",
    "# df_vendedores = dadosvendas['Vendedores'].drop_duplicates()\n",
    "\n",
    "### Converte para lista\n",
    "# df_vendedores = df_vendedores.to_list()\n",
    "# df_vendedores\n",
    "\n",
    "\n",
    "### Filtra a dataframe por uma coluna\n",
    "dadosvendas[\n",
    "    dadosvendas['Vendedores'] =='Ana Teixeira'\n",
    "    ]\n"
   ]
  },
  {
   "cell_type": "code",
   "execution_count": null,
   "metadata": {},
   "outputs": [],
   "source": [
    "# df_vendedores\n",
    "\n",
    "for df_vendedor in df_vendedores:\n",
    "    print(f'Filtrando vendedor= {df_vendedor}')\n",
    "    relatorio_vendedor = dadosvendas[dadosvendas['Vendedores'] == df_vendedor]\n",
    "    # print(relatorio_vendedor)\n",
    "    relatorio_vendedor.to_excel(f'../Python Fundamentos de Bigdata - Diogo/relatorios_exercicios_5/relatorio_vendedores/relatorio {df_vendedor}.xlsx')"
   ]
  },
  {
   "cell_type": "code",
   "execution_count": null,
   "metadata": {},
   "outputs": [],
   "source": [
    "### Aula 06/11/2023\n",
    "\n",
    "### Introdução a Biblioteca de Graficos\n",
    "### Cyborg(Seaborn) e MetplotLib"
   ]
  },
  {
   "cell_type": "code",
   "execution_count": null,
   "metadata": {},
   "outputs": [],
   "source": [
    "### Instalação de Bibliotecas\n",
    "!pip install matplotlib\n",
    "!pip install Seaborn"
   ]
  },
  {
   "cell_type": "code",
   "execution_count": null,
   "metadata": {},
   "outputs": [],
   "source": [
    "### Import das bibliotecas\n",
    "\n",
    "### Metplotlib\n",
    "import matplotlib.pyplot as mat\n",
    "import numpy as np"
   ]
  },
  {
   "cell_type": "code",
   "execution_count": null,
   "metadata": {},
   "outputs": [],
   "source": [
    "### Metplotlib\n",
    "\n",
    "### Crinando os arrays(Matrizes) para utilizar nos graficos\n",
    "\n",
    "x = np.array([1,2,3,4,5])\n",
    "y = np.array([2,4,6,8,10])\n",
    "\n",
    "\n",
    "### Criando um gradico com os valores anteriores\n",
    "mat.title('Grafico arrays (Matrizes)')\n",
    "mat.xlabel('Eixo x')\n",
    "mat.ylabel('Eixo y')\n",
    "#it.plot(x, y)\n",
    "mat.plot(x, y, color=\"red\", marker=\"o\", label=\"Array Matrizes\")\n",
    "mat.legend()\n",
    "mat.show\n"
   ]
  },
  {
   "cell_type": "code",
   "execution_count": null,
   "metadata": {},
   "outputs": [],
   "source": [
    "### Crinando os arrays(Matrizes) para utilizar nos graficos\n",
    "### adobe color\n",
    "x = np.array([1,2,3,4,5])\n",
    "y = np.array([2,4,6,8,10])\n",
    "\n",
    "\n",
    "### Criando um gradico com os valores anteriores\n",
    "mat.title('Grafico arrays (Matrizes)')\n",
    "mat.xlabel('Eixo x')\n",
    "mat.ylabel('Eixo y')\n",
    "#mat.plot(x, y)\n",
    "mat.plot(\n",
    "    x\n",
    "    ,y\n",
    "    ,c=\"#FF3333\"\n",
    "    ,marker=\"*\" \n",
    "    ,ds = 'steps'\n",
    "    ,ls = '--'\n",
    "    ,label=\"Array Matrizes\"\n",
    "    )\n",
    "mat.legend()\n",
    "mat.show\n"
   ]
  },
  {
   "cell_type": "code",
   "execution_count": null,
   "metadata": {},
   "outputs": [],
   "source": [
    "### Crinando os arrays(Matrizes) para utilizar nos graficos\n",
    "### adobe color\n",
    "x = np.array([1,2,3,4,5])\n",
    "y = np.array([2,4,6,8,10])\n",
    "\n",
    "\n",
    "### Criando um gradico com os valores anteriores\n",
    "mat.title('Grafico arrays (Matrizes)', fontsize = 12)\n",
    "mat.xlabel('Valores de x', fontsize = 12) # Titulo de eixo\n",
    "mat.xticks(fontsize = 8, color='blue') # Alterado cores do nome do eixo\n",
    "\n",
    "mat.ylabel('Valores de y', fontsize = 12) # Titulo de eixo\n",
    "mat.yticks(fontsize = 8, color='blue') # Alterado cores do nome do eixo\n",
    "\n",
    "#it.plot(x, y)\n",
    "mat.plot(\n",
    "    x # Valores X\n",
    "    ,y # Valores X\n",
    "    ,color=\"#000099\" # Cor da linha', possivel utilizar o codigo de cores RGD'\n",
    "    ,marker=\"*\" # Ponto de referencia/ Marcador \"*\" | \"o\"\n",
    "    ,mec = '#CC0000' # Cor do Marcador', possivel utilizar o codigo de cores RGD'\n",
    "    ,ds = 'steps' # Forma de ligação\n",
    "    ,ls = '--' # Estilo de linha\n",
    "    ,label=\"Array Matrizes\"\n",
    "    )\n",
    "mat.legend()\n",
    "mat.show\n"
   ]
  },
  {
   "cell_type": "code",
   "execution_count": null,
   "metadata": {},
   "outputs": [],
   "source": [
    "### Mapear o caminho do arquivo\n",
    "### Arquivo csv\n",
    "\n",
    "caminhoarquivo = '../Python Fundamentos de Bigdata - Diogo/arquivos/company_sales_data.csv' \n",
    "#Alocar arquivo no tabela\n",
    "company = pd.read_csv(caminhoarquivo)\n",
    "\n",
    "company.info()\n"
   ]
  },
  {
   "cell_type": "code",
   "execution_count": null,
   "metadata": {},
   "outputs": [],
   "source": [
    "totalvendido = company['total_units'].to_list()\n",
    "listameses = company['month_number'].to_list()\n",
    "\n",
    "mat.plot(\n",
    "    listameses # Valores X - linha em pé\n",
    "    ,totalvendido # Valores y - linha deitada\n",
    "\n",
    "    ,ls = '--' # Estilo de linha\n",
    "    #,ds = 'steps' # Forma de ligação\n",
    "    ,color=\"#FF0000\" # Cor da linha', possivel utilizar o codigo de cores RGD'\n",
    "\n",
    "    ,marker=\"o\" # Ponto de referencia/ Marcador \"*\" | \"o\"\n",
    "    ,mec = '#0000CC' # Cor do Marcador com preenchimento ', possivel utilizar o codigo de cores RGD'\n",
    "    ,markerfacecolor = 'k' # Sem preenchimento no marker\n",
    "    ,label=\"Lucro do ano anterior\" # Titulo do Marcador\n",
    "    ,linewidth = 3 # Espesura da linha\n",
    "    )\n",
    "\n",
    "### Criando um gradico com os valores anteriores\n",
    "mat.title('Lucro mensal da Empresa', fontsize = 12) # Titulo do Grafico\n",
    "\n",
    "mat.xlabel('Meses', fontsize = 12) # Titulo de eixo x - linha em pé\n",
    "mat.xticks(fontsize = 8, color='blue') # Alterado cores do nome do eixo\n",
    "\n",
    "mat.ylabel('Lucro', fontsize = 12) # Titulo de eixo y - linha deitada\n",
    "\n",
    "#mat.yticks(fontsize = 8, color='blue') # Alterado cores do nome do eixo\n",
    "mat.yticks([10000,20000,30000,40000,50000] # alteração de valores de eixo\n",
    "           , fontsize = 8, color='blue') # Alterado cores do nome do eixo\n",
    "\n",
    "mat.legend(loc='lower left') #(locals ='' )\n",
    "mat.show"
   ]
  },
  {
   "cell_type": "code",
   "execution_count": null,
   "metadata": {},
   "outputs": [],
   "source": [
    "listameses = company['month_number'].to_list()\n",
    "totalfacecream = company['facecream'].to_list()\n",
    "totalfacewash = company['facewash'].to_list()\n",
    "totalvtoothpaste = company['toothpaste'].to_list()\n",
    "totalbathingsoap = company['bathingsoap'].to_list()\n",
    "totalshampoo = company['shampoo'].to_list()\n",
    "totalmoisturizer = company['moisturizer'].to_list()\n",
    "totalvendido = company['total_units'].to_list()\n",
    "totaltotal_profit = company['total_profit'].to_list()\n",
    "\n",
    "\n",
    "mat.plot(listameses,totalfacecream ,label=\"totalfacecream\",marker=\"o\" ,linewidth = 3,ls = '--',color=\"#000099\") #AZUL\n",
    "mat.plot(listameses,totalfacewash ,label=\"totalfacewash\",marker=\"o\" ,linewidth = 3,ls = '--',color=\"#990000\") #VERMELHO ESCURO\n",
    "mat.plot(listameses,totalvtoothpaste ,label=\"totalvtoothpaste\",marker=\"o\" ,linewidth = 3,ls = '--',color=\"#000000\") #PRETO\n",
    "mat.plot(listameses,totalvtoothpaste ,label=\"totalvtoothpaste\",marker=\"o\" ,linewidth = 3,ls = '--',color=\"#FFFF33\") #AMARELO\n",
    "mat.plot(listameses,totalbathingsoap ,label=\"totalbathingsoap\",marker=\"o\" ,linewidth = 3,ls = '--',color=\"#606060\") #CINZA\n",
    "mat.plot(listameses,totalshampoo ,label=\"totalshampoo\",marker=\"o\",linewidth = 3,ls = '--',color=\"#00CC00\") #VERDE\n",
    "mat.plot(listameses,totalmoisturizer ,label=\"totalmoisturizer\",marker=\"o\",linewidth = 3,ls = '--',color=\"#FF8000\") #LARANJA\n",
    "mat.plot(listameses,totalvendido ,label=\"totalvendido\",marker=\"o\",linewidth = 3,ls = '--',color=\"#CC0066\") #ROSA\n",
    "mat.plot(listameses,totaltotal_profit ,label=\"totaltotal_profit\",marker=\"o\",linewidth = 3,ls = '--',color=\"#6600CC\") #ROXO\n",
    "\n",
    "\n",
    "### Criando um gradico com os valores anteriores\n",
    "mat.title('Dados da venda', fontsize = 12) # Titulo do Grafico\n",
    "\n",
    "mat.xlabel('month_number', fontsize = 12) # Titulo de eixo x - linha em pé\n",
    "mat.xticks(listameses)\n",
    "\n",
    "mat.ylabel('Sales units in number', fontsize = 12) # Titulo de eixo y - linha deitada\n",
    "#mat.yticks([1000,2000,4000,6000,8000,10000,12000,14000,16000,18000], fontsize = 12)\n",
    "\n",
    "\n",
    "mat.legend(loc='upper left') #(locals ='' )\n",
    "mat.show"
   ]
  },
  {
   "cell_type": "code",
   "execution_count": null,
   "metadata": {},
   "outputs": [],
   "source": []
  },
  {
   "cell_type": "code",
   "execution_count": null,
   "metadata": {},
   "outputs": [],
   "source": [
    "### DESAFIO\n",
    "BASECARRO = '../Python Fundamentos de Bigdata - Diogo/arquivos/DadosVendaCarros.xlsx' \n",
    "vendascarros = pd.read_excel(BASECARRO)\n",
    "vendascarros.info()"
   ]
  },
  {
   "cell_type": "code",
   "execution_count": null,
   "metadata": {},
   "outputs": [],
   "source": [
    "vendascar=vendascarros.rename(columns = {\n",
    "    'Coluna 1':'DataNotaFiscal'\n",
    "    ,'Coluna 2':'Fabricante' \n",
    "    ,'Coluna 3':'Estado' \n",
    "    ,'Coluna 4':'ValorVenda'  \n",
    "    ,'Coluna 5':'ValorCusto'\n",
    "    ,'Coluna 6':'TotalDesconto'\n",
    "    ,'Coluna 7':'CustoEntrega'\n",
    "    ,'Coluna 8':'CustoMaoDeObra'\n",
    "    ,'Coluna 9':'NomeCliente' \n",
    "    ,'Coluna 10':'Modelo' \n",
    "    ,'Coluna 11':'Cor'\n",
    "    ,'Coluna 12':'Ano'\n",
    "    ,'Coluna 13':'Mês'\n",
    "})\n",
    "vendascar.info()"
   ]
  },
  {
   "cell_type": "code",
   "execution_count": null,
   "metadata": {},
   "outputs": [],
   "source": [
    "### 5 Existe informações nulus\n",
    "vendascars = vendascar.dropna()\n",
    "vendascars.info()"
   ]
  },
  {
   "cell_type": "code",
   "execution_count": null,
   "metadata": {},
   "outputs": [],
   "source": [
    "VendasAno = vendascars.groupby('Ano')['ValorVenda'].sum()\n",
    "print(VendasAno)"
   ]
  },
  {
   "cell_type": "code",
   "execution_count": null,
   "metadata": {},
   "outputs": [],
   "source": [
    "anos = VendasAno.index #eixo x\n",
    "vendas = VendasAno.values #eixo y\n",
    "\n",
    "mat.plot(anos,vendas ,label=\"ValorVenda\",marker=\"o\" ,linewidth = 3,ls = '--',color=\"#000099\") #AZUL\n",
    "\n",
    "\n",
    "# ### Criando um gradico com os valores anteriores\n",
    "mat.title('Vendas por ano', fontsize = 12) # Titulo do Grafico\n",
    "\n",
    "mat.xlabel('anos', fontsize = 12) # Titulo de eixo x - linha em pé\n",
    "# mat.xticks(lista_ano)\n",
    "\n",
    "mat.ylabel('vendas', fontsize = 12) # Titulo de eixo y - linha deitada\n",
    "# mat.yticks([1000,2000,4000,6000,8000,10000,12000,14000,16000,18000], fontsize = 12)\n",
    "\n",
    "\n",
    "# mat.legend(loc='upper left') #(locals ='' )\n",
    "# mat.show"
   ]
  },
  {
   "cell_type": "code",
   "execution_count": null,
   "metadata": {},
   "outputs": [],
   "source": [
    "anos = VendasAno.index #eixo x\n",
    "vendas = VendasAno.values #eixo y\n",
    "\n",
    "### Grafico de Barras\n",
    "mat.bar(anos,vendas) \n"
   ]
  },
  {
   "cell_type": "code",
   "execution_count": null,
   "metadata": {},
   "outputs": [],
   "source": [
    "\n",
    "Vendas2016 = vendascars[vendascars['Ano'] == 2016]\n",
    "# Vendas2016.info()\n",
    "Vendas2016 = Vendas2016.groupby('Mês')['ValorVenda'].sum() #groupby por duas variaveis (['variavel1','variavel2'])\n",
    "# print(Vendas2016)\n",
    "\n",
    "mes = Vendas2016.index #eixo x\n",
    "vendas = Vendas2016.values #eixo y\n",
    "\n",
    "### Grafico de Barras\n",
    "mat.bar(mes,vendas) "
   ]
  },
  {
   "cell_type": "code",
   "execution_count": null,
   "metadata": {},
   "outputs": [],
   "source": [
    "### Multiplas Curvas no Mecanismo\n",
    "\n",
    "x = np.linspace(0, 2 * np.pi, 100)\n",
    "y = np.sin(x) # Função Seno\n",
    "z = np.cos(x) # Função Conseno\n",
    "\n",
    "mat.plot(x,y\n",
    "         ,label = 'Função Seno'\n",
    "         ,color = '#33FF33')\n",
    "mat.plot(x,z\n",
    "         ,label = 'Função Cosseno'\n",
    "         ,color = '#CC0000')\n",
    "### Criando um gradico com os valores anteriores\n",
    "mat.title('Função Trigonometricas', fontsize = 12) # Titulo do Grafico\n",
    "\n",
    "mat.xlabel('Valores de X', fontsize = 12) # Titulo de eixo x - linha em pé\n",
    "\n",
    "mat.ylabel('Valore de Y', fontsize = 12) # Titulo de eixo y - linha deitada\n",
    "\n",
    "mat.legend(loc='lower left') #(locals ='' ) # lower/upper left\n",
    "\n",
    "### Salvador o Grafico como imagem \n",
    "mat.savefig('../Python Fundamentos de Bigdata - Diogo/Grafico/funcao_trigonometrica.png')\n"
   ]
  },
  {
   "cell_type": "code",
   "execution_count": null,
   "metadata": {},
   "outputs": [],
   "source": [
    "### Multiplos Subgraficos - Nas Linhas 2 graficos\n",
    "mat.subplot(\n",
    "    2   # numero de linhas\n",
    "    ,1  # numero de colunas\n",
    "    ,1  # Posição do Grafico\n",
    ")\n",
    "mat.plot(x,y)\n",
    "\n",
    "mat.subplot(\n",
    "    2   # numero de linhas\n",
    "    ,1  # numero de colunas\n",
    "    ,2  # Posição do Grafico\n",
    ")\n",
    "mat.plot(x,y)"
   ]
  },
  {
   "cell_type": "code",
   "execution_count": null,
   "metadata": {},
   "outputs": [],
   "source": [
    "### Multiplos Subgraficos - Nas Linhas 4 graficos\n",
    "mat.subplot(\n",
    "    4   # numero de linhas\n",
    "    ,2  # numero de colunas\n",
    "    ,1  # Posição do Grafico\n",
    ")\n",
    "mat.plot(x,y)\n",
    "\n",
    "mat.subplot(\n",
    "    4   # numero de linhas\n",
    "    ,2  # numero de colunas\n",
    "    ,2  # Posição do Grafico\n",
    ")\n",
    "mat.plot(x,y)\n",
    "\n",
    "mat.subplot(\n",
    "    4   # numero de linhas\n",
    "    ,2  # numero de colunas\n",
    "    ,3  # Posição do Grafico\n",
    ")\n",
    "mat.plot(x,y)\n",
    "\n",
    "mat.subplot(\n",
    "    4   # numero de linhas\n",
    "    ,2  # numero de colunas\n",
    "    ,4  # Posição do Grafico\n",
    ")\n",
    "mat.plot(x,y)"
   ]
  },
  {
   "cell_type": "code",
   "execution_count": null,
   "metadata": {},
   "outputs": [],
   "source": [
    "### Multiplos Subgraficos - Nas Colunas 2 graficos\n",
    "mat.subplot(\n",
    "    1   # numero de linhas\n",
    "    ,2  # numero de colunas\n",
    "    ,1  # Posição do Grafico\n",
    ")\n",
    "mat.plot(x,y)\n",
    "\n",
    "mat.subplot(\n",
    "    1   # numero de linhas\n",
    "    ,2  # numero de colunas\n",
    "    ,2  # Posição do Grafico\n",
    ")\n",
    "mat.plot(x,y)\n"
   ]
  },
  {
   "cell_type": "code",
   "execution_count": null,
   "metadata": {},
   "outputs": [],
   "source": [
    "### Multiplos Subgraficos - Nas Colunas 4 graficos\n",
    "mat.subplot(\n",
    "    1   # numero de linhas\n",
    "    ,4  # numero de colunas\n",
    "    ,1  # Posição do Grafico\n",
    ")\n",
    "mat.plot(x,y)\n",
    "\n",
    "mat.subplot(\n",
    "    1   # numero de linhas\n",
    "    ,4  # numero de colunas\n",
    "    ,2  # Posição do Grafico\n",
    ")\n",
    "mat.plot(x,y)\n",
    "\n",
    "mat.subplot(\n",
    "    1   # numero de linhas\n",
    "    ,4  # numero de colunas\n",
    "    ,3  # Posição do Grafico\n",
    ")\n",
    "mat.plot(x,y)\n",
    "\n",
    "mat.subplot(\n",
    "    1   # numero de linhas\n",
    "    ,4  # numero de colunas\n",
    "    ,4  # Posição do Grafico\n",
    ")\n",
    "mat.plot(x,y)"
   ]
  },
  {
   "cell_type": "code",
   "execution_count": null,
   "metadata": {},
   "outputs": [],
   "source": [
    "### Gafico de Pizza\n",
    "\n",
    "### import as biblioteca\n",
    "import matplotlib.pyplot as mat\n",
    "\n",
    "### Dados para plotar no Grafico\n",
    "languages = ['Java','Python','PHP','JavaScript','C#','C++']\n",
    "popularidade = [22.2, 17.6, 8.8, 8, 7.7, 6.7]\n",
    "\n",
    "explosao    = [0.1 ,0 ,0 ,0 ,0 ,0] # Destacando a fatia\n",
    "cores       = ['#C0C0C0' ,'#FF0000' ,'#FF9900' ,'#33FF33' , '#3366FF' , '#CC33CC'] #Extenção Color highlight\n",
    "### Gerar o Grafico de Pizza\n",
    "mat.pie(\n",
    "    popularidade\n",
    "    ,labels= languages\n",
    "    ,autopct= '%1.2f%%' # Rotulos numericos, formato dos rotulos decimais\n",
    "    #,shadow=True # Sombra\n",
    "    ,explode= explosao\n",
    "    ,colors= cores\n",
    ")\n"
   ]
  },
  {
   "cell_type": "code",
   "execution_count": null,
   "metadata": {},
   "outputs": [],
   "source": [
    "### EXERCÍCIO - VISUALIZAÇÃO DE DADOS - MATPLOTLIB\n",
    "\n",
    "# Crie dois arrays x e y com as listas [-3,-2.5,-2,-1,0,1,2,2.5,3] e [-27,-15.62,-8,-1,0,1,8,15.62,27].\n",
    "\n",
    "### Dados para plotar no Grafico\n",
    "x = np.array([-3,-2.5,-2,-1,0,1,2,2.5,3])\n",
    "y = np.array([-27,-15.62,-8,-1,0,1,8,15.62,27])\n",
    "\n",
    "# 2. Use a função plot() e faça um gráfico de x e y.\n",
    "\n",
    "mat.plot(x,y\n",
    "         ,label = 'Função Cúbica'\n",
    "         ,color = '#CC0000'\n",
    "         ,marker = 'o')\n",
    "\n",
    "# 3. Use a função xlabel() para adicionar o nome “Valor de X” ao eixo x.\n",
    "# 4. Deixe com fonte de tamanho 15. \n",
    "mat.xlabel('Valor x', fontsize = 15)\n",
    "\n",
    "# 5. Use a função ylabel() para adicionar o nome “Valor de Y” ao eixo y.  \n",
    "# 6. Deixe com fonte de tamanho 15. 5. \n",
    "mat.xlabel('Valor y', fontsize = 15.5)\n",
    "\n",
    "\n",
    "# 7. Use a função legend() para adicionar o nome “Função Cúbica” ao gráfico.  \n",
    "# 8. Deixe com fonte de tamanho 20. \n",
    "\n",
    "mat.legend(loc='lower right', fontsize = 12) #(locals ='' ) # lower/upper left/\n",
    "mat.title('Titulo Grafico', fontsize = 12) # Titulo do Grafico\n",
    "\n"
   ]
  },
  {
   "cell_type": "code",
   "execution_count": null,
   "metadata": {},
   "outputs": [],
   "source": [
    "### Seaborn\n",
    "\n",
    "### Seaborn é uma biblioteca baseada em Matplolib que traz uma interface mais atraente para os graficos, \n",
    "### alem de falicita a modificação de paramentros default do Matplolib e permite a utilizaçao de dataframes"
   ]
  },
  {
   "cell_type": "code",
   "execution_count": null,
   "metadata": {},
   "outputs": [],
   "source": [
    "### Import do Seaborn\n",
    "   \n",
    "import pylab as pyl\n",
    "from pylab import randn ### Imprta somente uma função"
   ]
  },
  {
   "cell_type": "code",
   "execution_count": null,
   "metadata": {},
   "outputs": [],
   "source": [
    "### Gerar 200 dados aleatorios\n",
    "x = randn(200)\n",
    "y = randn(200)\n",
    "\n",
    "### Criar o grafico de dispersão\n",
    "seab.scatterplot(x=x,y=y)"
   ]
  },
  {
   "cell_type": "code",
   "execution_count": null,
   "metadata": {},
   "outputs": [],
   "source": [
    "# caminhoarquivo = \"../Python Fundamentos de Bigdata - Diogo/Arquivos/sea-level.csv\"\n",
    "# sea = pd.read_csv(caminhoarquivo)\n",
    "# sea = sea.loc[6:,:] ### Utiliza apartir de \n",
    "# sea.info()\n",
    "\n",
    "# sea.columns = [\n",
    "#     'year'\n",
    "#     ,'csiro_adjus'\n",
    "#     ,'csiro_lower'\n",
    "#     ,'csiro_upper'\n",
    "#     ,'noaa_adjus'\n",
    "# ]\n",
    "\n",
    "# sea.info()\n",
    "\n",
    "### Transfomando/covertendo tipo de dados para numerico \n",
    "# sea['year'] = sea['year'].astype(int)\n",
    "# sea['csiro_adjus'] = sea['csiro_adjus'].astype(float)\n",
    "# sea['csiro_lower'] = sea['csiro_lower'].astype(float)\n",
    "# sea['csiro_upper'] = sea['csiro_upper'].astype(float)\n",
    "# sea['noaa_adjus'] = sea['noaa_adjus'].astype(float)\n",
    "\n",
    "sea.info()\n"
   ]
  },
  {
   "cell_type": "code",
   "execution_count": null,
   "metadata": {},
   "outputs": [],
   "source": [
    "### Gerar 200 dados aleatorios\n",
    "anos = sea['year'].to_list()\n",
    "nivel = sea['csiro_adjus'].to_list()\n",
    "\n",
    "### Criar o grafico de dispersão\n",
    "seab.scatterplot(x=anos,y=nivel)"
   ]
  },
  {
   "cell_type": "code",
   "execution_count": null,
   "metadata": {},
   "outputs": [],
   "source": [
    "### Exercício 01 - Leia o lucro total de todos os meses e mostre-o usando um gráfico  de linhas.\n",
    "\n",
    "caminhoarquivo = \"../Python Fundamentos de Bigdata - Diogo/Arquivos/company_sales_data.csv\"\n",
    "company = pd.read_csv(caminhoarquivo)\n",
    "# company = sea.loc[6:,:] ### Utiliza apartir de \n",
    "company.info()"
   ]
  },
  {
   "cell_type": "code",
   "execution_count": null,
   "metadata": {},
   "outputs": [],
   "source": [
    "### Gerar lista de dados\n",
    "meses = company['month_number'].to_list()\n",
    "vendascremedental = company['toothpaste'].to_list()\n",
    "\n",
    "### Criar graficos\n",
    "\n",
    "seab.scatterplot(x=meses, y=vendascremedental)\n",
    "# adicionar grade ao grafico\n",
    "mat.grid(\n",
    "    True\n",
    "    ,linewidth =0.5\n",
    "    ,linestyle = '--'\n",
    "    ,c='#D9F5BA'\n",
    ")\n",
    "\n",
    "mat.title('Vendas de creme dental')\n",
    "mat.xlabel('Meses')\n",
    "mat.ylabel('Unidades vendidas')\n"
   ]
  },
  {
   "cell_type": "code",
   "execution_count": null,
   "metadata": {},
   "outputs": [],
   "source": [
    "### Exercício 05: Leia os dados de vendas de cremes faciais e produtos de lavagem facial  e mostre-os usando o gráfico de barras. \n",
    "### O gráfico de barras deve exibir o número de unidades vendidas por mês para cada  produto. Adicione uma barra separada para cada produto no mesmo gráfico. \n",
    "### O gráfico de barras deve ficar assim.\n",
    "### Grafico empilhados\n",
    "\n",
    "\n",
    "### Gerar lista de dados\n",
    "meses = company['month_number'].to_list()\n",
    "vendascremedental = company['toothpaste'].to_list()\n",
    "vendasCremeFacial = company['facewash'].to_list()\n",
    "\n",
    "### Gerar Graficos\n",
    "seab.barplot(\n",
    "    x=meses\n",
    "    ,y=vendascremedental\n",
    "    ,label = 'Creme Dental'\n",
    "    # ,width = 0.10\n",
    "    #,ec='k'\n",
    ")\n",
    "\n",
    "seab.barplot(\n",
    "    x=meses\n",
    "    ,y=vendasCremeFacial\n",
    "    ,label = 'Creme Facial'\n",
    "    # ,width = 0.10\n",
    "    #,ec='k'\n",
    ")"
   ]
  },
  {
   "cell_type": "code",
   "execution_count": null,
   "metadata": {},
   "outputs": [],
   "source": [
    "### Exercício 05: Leia os dados de vendas de cremes faciais e produtos de lavagem facial  e mostre-os usando o gráfico de barras. \n",
    "### O gráfico de barras deve exibir o número de unidades vendidas por mês para cada  produto. Adicione uma barra separada para cada produto no mesmo gráfico. \n",
    "### Grafico de Barras comparativo\n",
    "### Biblioteca Dash(plotly), para grafico mais visuais\n",
    "\n",
    "\n",
    "### Gerar lista de dados\n",
    "meses = company['month_number'].to_list()\n",
    "vendascremedental = company['facecream'].to_list()\n",
    "vendasCremeFacial = company['facewash'].to_list()\n",
    "\n",
    "### Gerar Graficos\n",
    "mat.bar(\n",
    "    [pos - 0.125 for pos in meses]\n",
    "    ,vendascremedental\n",
    "    ,width=0.35\n",
    ")\n",
    "\n",
    "mat.bar(\n",
    "    [pos + 0.125 for pos in meses]\n",
    "    ,vendasCremeFacial\n",
    "    ,width=0.35\n",
    ")"
   ]
  },
  {
   "cell_type": "code",
   "execution_count": null,
   "metadata": {},
   "outputs": [],
   "source": [
    "### Exercício 12 - Leia o lucro total de todos os meses e mostre-o usando um gráfico  de linhas.\n",
    "\n",
    "caminhoarquivo = \"../Python Fundamentos de Bigdata - Diogo/Arquivos/dados-satisfação.xlsx\"\n",
    "company = pd.read_excel(caminhoarquivo, sheet_name='treino')\n",
    "# company = sea.loc[6:,:] ### Utiliza apartir de \n",
    "company.head()\n",
    "\n",
    "### Substituir informações nos dados 'metodo replace'\n",
    "\n",
    "company['Elogio quanto ao app']=company['Elogio quanto ao app'].replace('SIM',1)\n",
    "company['Elogio quanto ao app']=company['Elogio quanto ao app'].replace('NÃO',0)\n",
    "company['Elogio quanto ao app']=company['Elogio quanto ao app'].replace('NAO',0)\n",
    "\n",
    "company['Reclamação quanto ao app']=company['Reclamação quanto ao app'].replace('SIM',1)\n",
    "company['Reclamação quanto ao app']=company['Reclamação quanto ao app'].replace('NÃO',0)\n",
    "company['Reclamação quanto ao app']=company['Reclamação quanto ao app'].replace('NAO',0)\n",
    "\n",
    "company['Elogio a Instituição']=company['Elogio a Instituição'].replace('SIM',1)\n",
    "company['Elogio a Instituição']=company['Elogio a Instituição'].replace('NÃO',0)\n",
    "company['Elogio a Instituição']=company['Elogio a Instituição'].replace('NAO',0)\n",
    "\n",
    "company['Reclamação a Instituição']=company['Reclamação a Instituição'].replace('SIM',1)\n",
    "company['Reclamação a Instituição']=company['Reclamação a Instituição'].replace('NÃO',0)\n",
    "company['Reclamação a Instituição']=company['Reclamação a Instituição'].replace('NAO',0)\n",
    "\n",
    "company['Não Classificável']=company['Não Classificável'].replace('SIM',1)\n",
    "company['Não Classificável']=company['Não Classificável'].replace('NÃO',0)\n",
    "company['Não Classificável']=company['Não Classificável'].replace('NAO',0)\n",
    "\n",
    "# converter para inteiro/ int / numerico\n",
    "\n",
    "company['Elogio a Instituição'] = company['Elogio a Instituição'].astype(int)\n",
    "company['Elogio quanto ao app'] = company['Elogio quanto ao app'].astype(int)\n",
    "\n",
    "company['Classificação'] = company['Classificação'].replace(2,-1)\n",
    "company['Classificação'] = company['Classificação'].replace(1,-1)\n",
    "company['Classificação'] = company['Classificação'].replace(5,1)\n",
    "company['Classificação'] = company['Classificação'].replace(4,1)\n",
    "company['Classificação'] = company['Classificação'].replace(3,0)\n",
    "\n",
    "company.head()\n"
   ]
  },
  {
   "cell_type": "code",
   "execution_count": null,
   "metadata": {},
   "outputs": [],
   "source": [
    "### Clauclar a media de classificação por instituição\n",
    "### Gorupby\n",
    "\n",
    "company_classificacao = company.groupby(['Instituição'])['Classificação'].agg('mean').reset_index()\n",
    "company_classificacao['Classificação'] = company_classificacao['Classificação'] *100"
   ]
  },
  {
   "cell_type": "code",
   "execution_count": null,
   "metadata": {},
   "outputs": [],
   "source": [
    "### Grafico\n",
    "seab.barplot(x=company_classificacao['Instituição'],y= company_classificacao['Classificação'])\n"
   ]
  },
  {
   "cell_type": "code",
   "execution_count": null,
   "metadata": {},
   "outputs": [],
   "source": [
    "### Clauclar a media de classificação por instituição\n",
    "### Gorupby\n",
    "\n",
    "company_Reclamação = company.groupby(['Instituição'])['Reclamação quanto ao app'].agg('mean').reset_index()\n",
    "company_Reclamação['Classificação'] = company_Reclamação['Reclamação quanto ao app'] *100\n",
    "\n",
    "### Grafico\n",
    "seab.barplot(x=company_Reclamação['Instituição'],y= company_Reclamação['Reclamação quanto ao app'])\n"
   ]
  },
  {
   "cell_type": "code",
   "execution_count": null,
   "metadata": {},
   "outputs": [],
   "source": [
    "### Clauclar a media de classificação por instituição\n",
    "### Gorupby\n",
    "\n",
    "company_Elogio = company.groupby(['Instituição'])['Elogio a Instituição'].agg('mean').reset_index()\n",
    "company_Elogio['Classificação'] = company_Elogio['Elogio a Instituição'] *100\n",
    "\n",
    "### Grafico\n",
    "seab.barplot(x=company_Elogio['Instituição'],y= company_Elogio['Elogio a Instituição'])\n"
   ]
  },
  {
   "cell_type": "code",
   "execution_count": null,
   "metadata": {},
   "outputs": [],
   "source": [
    "### Clauclar a media de classificação por instituição\n",
    "### Gorupby\n",
    "\n",
    "company_Reclamação = company.groupby(['Instituição'])['Reclamação a Instituição'].agg('mean').reset_index()\n",
    "company_Reclamação['Classificação'] = company_Reclamação['Reclamação a Instituição'] *100\n",
    "\n",
    "### Grafico\n",
    "seab.barplot(x=company_Reclamação['Instituição'],y= company_Reclamação['Reclamação a Instituição'])\n"
   ]
  },
  {
   "cell_type": "code",
   "execution_count": null,
   "metadata": {},
   "outputs": [],
   "source": [
    "### Clauclar a media de classificação por instituição\n",
    "### Gorupby\n",
    "\n",
    "company_Classificável = company.groupby(['Instituição'])['Não Classificável'].agg('mean').reset_index()\n",
    "company_Classificável['Classificação'] = company_Classificável['Não Classificável'] *100\n",
    "\n",
    "### Grafico\n",
    "seab.barplot(x=company_Classificável['Instituição'],y= company_Classificável['Não Classificável'])\n"
   ]
  },
  {
   "cell_type": "code",
   "execution_count": null,
   "metadata": {},
   "outputs": [],
   "source": [
    "### Aula 13/11/2023\n",
    "### Amazon / Microsoft / Google\n",
    "### scikit-learn - Biblioteca de Marchine learning"
   ]
  },
  {
   "cell_type": "code",
   "execution_count": null,
   "metadata": {},
   "outputs": [],
   "source": [
    "### Instação da Biblioteca Scikit-learn\n",
    "!pip list ## Apresentar as bibliotecas instalada, utilizar o terminal ctrl + aspas\"\n",
    "# pip unistall ## Desistalando uma biblioteca\n",
    "# pip install \"biblioteca\" ## Instalando um biblioteca\n"
   ]
  },
  {
   "cell_type": "code",
   "execution_count": null,
   "metadata": {},
   "outputs": [],
   "source": [
    "### Primeiros Passos com Marchine learning\n",
    "### Conceitos: 1 Treinar || 2 Teste\n",
    "### scikit-learn - Scikit-model seletion"
   ]
  },
  {
   "cell_type": "code",
   "execution_count": null,
   "metadata": {},
   "outputs": [],
   "source": [
    "### scikit-learn - Datasets embutidos\n",
    "### Carregar Dataset iris\n",
    "from sklearn.datasets import load_iris #datasets com informações publicas\n",
    "\n",
    "iris = load_iris(return_X_y=True)\n",
    "print (iris)\n",
    "len(iris) ## Veifica as informações no datafarm"
   ]
  },
  {
   "cell_type": "code",
   "execution_count": null,
   "metadata": {},
   "outputs": [],
   "source": [
    "### Separar os dados em Treino e Teste\n",
    "### Importa Biblioteca para separar Dados\n",
    "from sklearn.model_selection import train_test_split # Dividir amostras\n",
    "from sklearn.datasets import load_diabetes #datasets com informações publicas\n"
   ]
  },
  {
   "cell_type": "code",
   "execution_count": null,
   "metadata": {},
   "outputs": [],
   "source": [
    "### Serar os dados de x e y\n",
    "# x ,y = iris\n",
    "# print(len(iris))\n",
    "# print(len(x))\n",
    "# print(len(y))\n",
    "\n",
    "### Fatiar os dados em Treino e Teste\n",
    "x_train, x_test, y_train, y_test = train_test_split(x, y, test_size=0.5)"
   ]
  },
  {
   "cell_type": "code",
   "execution_count": null,
   "metadata": {},
   "outputs": [],
   "source": [
    "### Visualizando amostras de dados \n",
    "\n",
    "\n",
    "print(f'dados de x = {len(x)}')\n",
    "print(f'dados de x_train = {len(x_train)}')\n",
    "print(f'dados de x_test = {len(x_test)}')\n"
   ]
  },
  {
   "cell_type": "code",
   "execution_count": null,
   "metadata": {},
   "outputs": [],
   "source": [
    "### Exercicios Marchine learning\n",
    "### Exercicio lista 8 - Exercio 1\n",
    "\n",
    "from sklearn.model_selection import train_test_split # Dividir amostras\n",
    "from sklearn.datasets import load_diabetes #datasets com informações publicas\n",
    "from sklearn.datasets import load_diabetes #datasets com informações publicas\n"
   ]
  },
  {
   "cell_type": "code",
   "execution_count": null,
   "metadata": {},
   "outputs": [],
   "source": [
    "### Separar dados x, y\n",
    "\n",
    "# diabets = load_diabetes(return_X_y=True)\n",
    "# x,y = diabets\n",
    "# print(f'dados de x = {len(diabets)}')\n",
    "# print(f'dados de x = {len(x)}')\n",
    "\n",
    "#Dividir os dados\n",
    "x_train, x_test, y_train, y_test = train_test_split(x, y, test_size=0.35)\n",
    "print(f'dados de x = {len(x)}')\n",
    "print(f'dados de x_train = {len(x_train)}')\n",
    "print(f'dados de x_test = {len(x_test)}')"
   ]
  },
  {
   "cell_type": "code",
   "execution_count": null,
   "metadata": {},
   "outputs": [],
   "source": [
    "### Aplicação de Marshine learning com uma base de dados\n",
    "### Bases car.csv\n",
    "\n",
    "from sklearn.linear_model import LinearRegression # Biblioteca de algoritmo de regressão\n",
    "\n",
    "### Carregar base de dados cars.csv\n",
    "caminhoarquivo = \"../Python Fundamentos de Bigdata - Diogo/arquivos/cars.csv\"\n",
    "cars = pd.read_csv(caminhoarquivo)\n",
    "\n",
    "### Ecluir um coluna da tabela/datafarme\n",
    "cars = cars.drop(['Unnamed: 0'], axis=1) #axis - axis=1 (exclui coluna) || axis=1 (exclui linha)\n",
    "\n",
    "### Verificar a forma do dataframe\n",
    "# cars.info()\n",
    "cars.head()\n",
    "# cars.shape\n",
    "len(cars)\n"
   ]
  },
  {
   "cell_type": "code",
   "execution_count": null,
   "metadata": {},
   "outputs": [],
   "source": [
    "### Separa variaveis em independente (x) e dependente (y)\n",
    "x = cars.loc[:,'dist'].values # Inserir o values, traz somente o dados e não o nome da variavel\n",
    "y = cars.loc[:,'speed'].values \n",
    "### Fatiar os dados em Treino e Teste\n",
    "print(len(x))\n",
    "print(len(y))\n",
    "print(type(x))\n",
    "\n",
    "### Calculo de correlação entra as VARIAVEIS\n",
    "correlção = np.corrcoef(x, y) # correcoef faz a correção do dados || Biblioteca numpy\n",
    "correlção\n",
    "\n"
   ]
  },
  {
   "cell_type": "code",
   "execution_count": null,
   "metadata": {},
   "outputs": [],
   "source": [
    "### Criar formato de matriz com uma coluna a mais\n",
    "x = x.reshape(-1,1)\n",
    "x # Apresenta valor do datafarme\n",
    "\n"
   ]
  },
  {
   "cell_type": "code",
   "execution_count": null,
   "metadata": {},
   "outputs": [],
   "source": [
    "### Criação do modelo a ser treinado\n",
    "### (fit indica que o treinamento deve se executado)\n",
    "\n",
    "modelo = LinearRegression()\n",
    "modelo.fit(x, y) # treinar com esses dados"
   ]
  },
  {
   "cell_type": "code",
   "execution_count": null,
   "metadata": {},
   "outputs": [],
   "source": [
    "### Visualição dos coeficientes\n",
    "modelo.intercept_"
   ]
  },
  {
   "cell_type": "code",
   "execution_count": null,
   "metadata": {},
   "outputs": [],
   "source": [
    "### Visualição dos inclinação\n",
    "modelo.coef_"
   ]
  },
  {
   "cell_type": "code",
   "execution_count": null,
   "metadata": {},
   "outputs": [],
   "source": [
    "### Preve a velocidade para uma distancia de 22km\n",
    "modelo.predict([[22]]) # Fazer uma previsão para 22km, a informação dentro da Matriz ([[]])"
   ]
  },
  {
   "cell_type": "code",
   "execution_count": null,
   "metadata": {},
   "outputs": [],
   "source": [
    "### Visualizar os dados com grafico de dispersão\n",
    "mat.scatter(x,y)\n",
    "mat.plot(x, modelo.predict(x), color='red')"
   ]
  },
  {
   "cell_type": "code",
   "execution_count": null,
   "metadata": {},
   "outputs": [],
   "source": [
    "cars.describe()"
   ]
  },
  {
   "cell_type": "code",
   "execution_count": null,
   "metadata": {},
   "outputs": [],
   "source": [
    "### Exercicios Situação Problema\n",
    "import pandas as pd\n",
    "import matplotlib.pyplot as plt\n",
    "import seaborn as sns\n",
    "from sklearn.model_selection import train_test_split\n",
    "from sklearn.linear_model import LinearRegression\n",
    "\n",
    "caminhoarquivo = '../Python Fundamentos de Bigdata - Diogo/arquivos/IceCreamData.csv'\n",
    "IceCreamData = pd.read_csv(caminhoarquivo)\n",
    "\n",
    "## Cabeçalho = df.head()\n",
    "# print(IceCreamData.head())\n",
    "## ultimas linhas = df.tail()\n",
    "# print(IceCreamData.tail())\n",
    "## describe = df.describe()\n",
    "# print(IceCreamData.describe())\n",
    "## info de tipo de dados = df.info()\n",
    "print(IceCreamData.info())\n"
   ]
  },
  {
   "cell_type": "code",
   "execution_count": null,
   "metadata": {},
   "outputs": [],
   "source": [
    "### Etapa de 04: Gerar algumas visualizações Graficas\n",
    "\n",
    "sns.jointplot(data=IceCreamData, x = 'Temperature', y='Revenue', color=\"gray\" ) ## Grafico de barra - Distribuição por instograma e distribuição linear e correlação"
   ]
  },
  {
   "cell_type": "code",
   "execution_count": null,
   "metadata": {},
   "outputs": [],
   "source": [
    "sns.pairplot(IceCreamData)"
   ]
  },
  {
   "cell_type": "code",
   "execution_count": null,
   "metadata": {},
   "outputs": [],
   "source": [
    "sns.lmplot(x='Temperature', y='Revenue', data=IceCreamData)"
   ]
  },
  {
   "cell_type": "code",
   "execution_count": null,
   "metadata": {},
   "outputs": [],
   "source": [
    "### Criar e testar o Modelo Marshine Learning\n",
    "\n",
    "# Criação da variavel depemdmete Y > RESPOSTA\n",
    "y = IceCreamData['Revenue']\n",
    "\n",
    "# Criação da Variavel independete X > Entrada\n",
    "\n",
    "x = IceCreamData[['Temperature']]\n",
    "\n",
    "## Separar os dados para Teste e Treino\n",
    "\n",
    "x_train, x_test, y_train, y_test = train_test_split(x, y, test_size=0.25)\n",
    "\n"
   ]
  },
  {
   "cell_type": "code",
   "execution_count": null,
   "metadata": {},
   "outputs": [],
   "source": [
    "### Criação do modelo a ser treinado\n",
    "### (fit indica que o treinamento deve se executado)\n",
    "\n",
    "modelo = LinearRegression() \n",
    "modelo.fit(x_train, y_train) \n"
   ]
  },
  {
   "cell_type": "code",
   "execution_count": null,
   "metadata": {},
   "outputs": [],
   "source": [
    "\n",
    "### Exibindo os coeficientes\n",
    "\n",
    "print(f'Coenficiente linear (b) {modelo.intercept_}')\n",
    "print(f'Coenficiente linear (b) {modelo.coef_}')"
   ]
  },
  {
   "cell_type": "code",
   "execution_count": null,
   "metadata": {},
   "outputs": [],
   "source": [
    "### Testando o Modelo\n",
    "\n",
    "x_predict = modelo.predict(x_test)\n",
    "x_predict.mean()"
   ]
  },
  {
   "cell_type": "code",
   "execution_count": null,
   "metadata": {},
   "outputs": [],
   "source": [
    "\n",
    "### Visualizar minha previsão do modelo teste\n",
    "\n",
    "minha_previsao = modelo.predict([[45]])\n",
    "print(f'Minha previsão a 45° {int(minha_previsao)}')"
   ]
  },
  {
   "cell_type": "code",
   "execution_count": null,
   "metadata": {},
   "outputs": [],
   "source": [
    "### Aula 17/11/2023\n"
   ]
  },
  {
   "cell_type": "code",
   "execution_count": 11,
   "metadata": {},
   "outputs": [],
   "source": [
    "#### Import das Biblioteca\n",
    "\n",
    "### Carregar bibliotecas\n",
    "import numpy as np      ### Bibliotecas de processamento de dados\n",
    "import keyword          ### biblioteca de palavras reservadas\n",
    "import math as mt       ### Arrendondar\n",
    "import pandas as pd     ### Pandas\n",
    "import os as os         ### Bibliotecas do python, para gerenciar o sistema operacional\n",
    "import matplotlib.pyplot as mat ### import biblioteca matplotlib\n",
    "import seaborn as seab  ## Biblioteca de graficos\n",
    "import pylab as pyl\n",
    "from pylab import randn ### Imprta somente uma função, função de numeros aleatorios\n",
    "### Marshine learning\n",
    "from sklearn.model_selection import train_test_split # Dividir amostras\n",
    "from sklearn.datasets import load_diabetes #datasets com informações publicas\n",
    "from sklearn.datasets import load_diabetes #datasets com informações publicas\n",
    "from sklearn.linear_model import LinearRegression # Biblioteca de algoritmo de regressão\n",
    "#print(keyword.kwlist)   ### listar palavras"
   ]
  },
  {
   "cell_type": "code",
   "execution_count": 12,
   "metadata": {},
   "outputs": [
    {
     "name": "stdout",
     "output_type": "stream",
     "text": [
      "<class 'pandas.core.frame.DataFrame'>\n",
      "RangeIndex: 500 entries, 0 to 499\n",
      "Data columns (total 2 columns):\n",
      " #   Column            Non-Null Count  Dtype  \n",
      "---  ------            --------------  -----  \n",
      " 0   horas_estudo_mes  500 non-null    float64\n",
      " 1   salario           500 non-null    float64\n",
      "dtypes: float64(2)\n",
      "memory usage: 7.9 KB\n"
     ]
    }
   ],
   "source": [
    "### Carrega o arquivo HorasDeEstudo.csv\n",
    "\n",
    "caminho_destino = \"../Python Fundamentos de Bigdata - Diogo/Arquivos/horasDeEstudo.csv\"\n",
    "horasDeEstudo = pd.read_csv(caminho_destino)\n",
    "horasDeEstudo.info()"
   ]
  },
  {
   "cell_type": "code",
   "execution_count": null,
   "metadata": {},
   "outputs": [],
   "source": [
    "### Visualizar informações do dataframe\n",
    "horasDeEstudo.head()"
   ]
  },
  {
   "cell_type": "code",
   "execution_count": null,
   "metadata": {},
   "outputs": [],
   "source": [
    "### Visualizar o final do dataframe\n",
    "\n",
    "horasDeEstudo.tail()"
   ]
  },
  {
   "cell_type": "code",
   "execution_count": null,
   "metadata": {},
   "outputs": [],
   "source": [
    "### Visualizar informações Nulos\n",
    "horasDeEstudo.isnull().sum()\n"
   ]
  },
  {
   "cell_type": "code",
   "execution_count": null,
   "metadata": {},
   "outputs": [],
   "source": [
    "### Resumo estatico do dataframe\n",
    "\n",
    "horasDeEstudo.describe()"
   ]
  },
  {
   "cell_type": "code",
   "execution_count": 13,
   "metadata": {},
   "outputs": [
    {
     "data": {
      "text/html": [
       "<div>\n",
       "<style scoped>\n",
       "    .dataframe tbody tr th:only-of-type {\n",
       "        vertical-align: middle;\n",
       "    }\n",
       "\n",
       "    .dataframe tbody tr th {\n",
       "        vertical-align: top;\n",
       "    }\n",
       "\n",
       "    .dataframe thead th {\n",
       "        text-align: right;\n",
       "    }\n",
       "</style>\n",
       "<table border=\"1\" class=\"dataframe\">\n",
       "  <thead>\n",
       "    <tr style=\"text-align: right;\">\n",
       "      <th></th>\n",
       "      <th>horas_estudo_mes</th>\n",
       "      <th>salario</th>\n",
       "    </tr>\n",
       "  </thead>\n",
       "  <tbody>\n",
       "    <tr>\n",
       "      <th>horas_estudo_mes</th>\n",
       "      <td>1.000000</td>\n",
       "      <td>0.818576</td>\n",
       "    </tr>\n",
       "    <tr>\n",
       "      <th>salario</th>\n",
       "      <td>0.818576</td>\n",
       "      <td>1.000000</td>\n",
       "    </tr>\n",
       "  </tbody>\n",
       "</table>\n",
       "</div>"
      ],
      "text/plain": [
       "                  horas_estudo_mes   salario\n",
       "horas_estudo_mes          1.000000  0.818576\n",
       "salario                   0.818576  1.000000"
      ]
     },
     "execution_count": 13,
     "metadata": {},
     "output_type": "execute_result"
    }
   ],
   "source": [
    "### Correlação\n",
    "### Analizar a Correlação\n",
    "horasDeEstudo.corr()\n"
   ]
  },
  {
   "cell_type": "code",
   "execution_count": null,
   "metadata": {},
   "outputs": [],
   "source": [
    "### Criando Grafico de disperção\n",
    "\n",
    "mat.scatter(\n",
    "    data=horasDeEstudo  #Conjunto de dados\n",
    "    ,x='horas_estudo_mes' #Variavel Preditora\n",
    "    ,y='salario'         #Variavel reposta\n",
    "    ,label = \"Dados Reais Historico\"\n",
    "    ,color = 'red'\n",
    ")\n",
    "mat.xlabel(\"Horas de estudo\")   #Nome eixo X \n",
    "mat.ylabel(\"Salario\")           #Nome eixo Y\n",
    "mat.legend()                    #Adionar legendas\n",
    "mat.grid()                      #Adicionar lista"
   ]
  },
  {
   "cell_type": "code",
   "execution_count": 14,
   "metadata": {},
   "outputs": [
    {
     "data": {
      "text/plain": [
       "Text(0, 0.5, 'Frequencia')"
      ]
     },
     "execution_count": 14,
     "metadata": {},
     "output_type": "execute_result"
    },
    {
     "data": {
      "image/png": "[encoded data removed]",
      "text/plain": [
       "<Figure size 640x480 with 1 Axes>"
      ]
     },
     "metadata": {},
     "output_type": "display_data"
    }
   ],
   "source": [
    "### Construir um histograma para analisar o comportamento da variavel Preditora\n",
    "### Curva de distribução Normal\n",
    "\n",
    "seab.histplot(\n",
    "    data = horasDeEstudo    #Conjuto de dados, dataframe\n",
    "    ,x = 'horas_estudo_mes' #Variavel x\n",
    "    ,kde=True               #Curva de distribuição\n",
    ")\n",
    "\n",
    "mat.xlabel(\"Classe de distribuição\")\n",
    "mat.ylabel(\"Frequencia\")"
   ]
  },
  {
   "cell_type": "code",
   "execution_count": 24,
   "metadata": {},
   "outputs": [
    {
     "name": "stdout",
     "output_type": "stream",
     "text": [
      "O tipo de dados da variavel X é <class 'pandas.core.series.Series'>\n"
     ]
    }
   ],
   "source": [
    "### Preparar os dados\n",
    "## Separa as variaveis\n",
    "\n",
    "x = horasDeEstudo['horas_estudo_mes']\n",
    "#Verificar o tipo de dados\n",
    "print(f'O tipo de dados da variavel X é {type(x)}')"
   ]
  },
  {
   "cell_type": "code",
   "execution_count": 25,
   "metadata": {},
   "outputs": [
    {
     "name": "stdout",
     "output_type": "stream",
     "text": [
      "A quantidade de dados da variavel X é 500\n"
     ]
    }
   ],
   "source": [
    "y = horasDeEstudo['salario']\n",
    "#Verificar o tipo de dados\n",
    "print(f'A quantidade de dados da variavel X é {len(y)}')"
   ]
  },
  {
   "cell_type": "code",
   "execution_count": 26,
   "metadata": {},
   "outputs": [
    {
     "name": "stdout",
     "output_type": "stream",
     "text": [
      "O tipo de dados da variavel X é <class 'numpy.ndarray'>\n"
     ]
    }
   ],
   "source": [
    "### Converter a varivael X para uma matriz 1x1\n",
    "## Ultilizando n.arry\n",
    "\n",
    "x = np.array(x)\n",
    "\n",
    "# Ultilizando np.reshape(Transforma em Linhas e Colunas)\n",
    "x = x.reshape(-1,1)\n",
    "print(f'O tipo de dados da variavel X é {type(x)}')\n",
    "# x"
   ]
  },
  {
   "cell_type": "code",
   "execution_count": 27,
   "metadata": {},
   "outputs": [
    {
     "name": "stdout",
     "output_type": "stream",
     "text": [
      "dados de x = 500\n",
      "dados de x_train = 400\n",
      "dados de x_test = 100\n"
     ]
    }
   ],
   "source": [
    "### Visualizando amostras de dados \n",
    "### Separe os dados em treino e teste, utilizando o comando train_teste_split. Adote como tamanho da \n",
    "### amostra de treino como sendo 20% e Random_state igual a 42;\n",
    "\n",
    "x_train, x_test, y_train, y_test = train_test_split(x, y, test_size=0.2, random_state=42)\n",
    "\n",
    "print(f'dados de x = {len(x)}')\n",
    "print(f'dados de x_train = {len(x_train)}')\n",
    "print(f'dados de x_test = {len(x_test)}')\n"
   ]
  },
  {
   "cell_type": "code",
   "execution_count": 28,
   "metadata": {},
   "outputs": [
    {
     "data": {
      "text/html": [
       "<style>#sk-container-id-3 {color: black;}#sk-container-id-3 pre{padding: 0;}#sk-container-id-3 div.sk-toggleable {background-color: white;}#sk-container-id-3 label.sk-toggleable__label {cursor: pointer;display: block;width: 100%;margin-bottom: 0;padding: 0.3em;box-sizing: border-box;text-align: center;}#sk-container-id-3 label.sk-toggleable__label-arrow:before {content: \"▸\";float: left;margin-right: 0.25em;color: #696969;}#sk-container-id-3 label.sk-toggleable__label-arrow:hover:before {color: black;}#sk-container-id-3 div.sk-estimator:hover label.sk-toggleable__label-arrow:before {color: black;}#sk-container-id-3 div.sk-toggleable__content {max-height: 0;max-width: 0;overflow: hidden;text-align: left;background-color: #f0f8ff;}#sk-container-id-3 div.sk-toggleable__content pre {margin: 0.2em;color: black;border-radius: 0.25em;background-color: #f0f8ff;}#sk-container-id-3 input.sk-toggleable__control:checked~div.sk-toggleable__content {max-height: 200px;max-width: 100%;overflow: auto;}#sk-container-id-3 input.sk-toggleable__control:checked~label.sk-toggleable__label-arrow:before {content: \"▾\";}#sk-container-id-3 div.sk-estimator input.sk-toggleable__control:checked~label.sk-toggleable__label {background-color: #d4ebff;}#sk-container-id-3 div.sk-label input.sk-toggleable__control:checked~label.sk-toggleable__label {background-color: #d4ebff;}#sk-container-id-3 input.sk-hidden--visually {border: 0;clip: rect(1px 1px 1px 1px);clip: rect(1px, 1px, 1px, 1px);height: 1px;margin: -1px;overflow: hidden;padding: 0;position: absolute;width: 1px;}#sk-container-id-3 div.sk-estimator {font-family: monospace;background-color: #f0f8ff;border: 1px dotted black;border-radius: 0.25em;box-sizing: border-box;margin-bottom: 0.5em;}#sk-container-id-3 div.sk-estimator:hover {background-color: #d4ebff;}#sk-container-id-3 div.sk-parallel-item::after {content: \"\";width: 100%;border-bottom: 1px solid gray;flex-grow: 1;}#sk-container-id-3 div.sk-label:hover label.sk-toggleable__label {background-color: #d4ebff;}#sk-container-id-3 div.sk-serial::before {content: \"\";position: absolute;border-left: 1px solid gray;box-sizing: border-box;top: 0;bottom: 0;left: 50%;z-index: 0;}#sk-container-id-3 div.sk-serial {display: flex;flex-direction: column;align-items: center;background-color: white;padding-right: 0.2em;padding-left: 0.2em;position: relative;}#sk-container-id-3 div.sk-item {position: relative;z-index: 1;}#sk-container-id-3 div.sk-parallel {display: flex;align-items: stretch;justify-content: center;background-color: white;position: relative;}#sk-container-id-3 div.sk-item::before, #sk-container-id-3 div.sk-parallel-item::before {content: \"\";position: absolute;border-left: 1px solid gray;box-sizing: border-box;top: 0;bottom: 0;left: 50%;z-index: -1;}#sk-container-id-3 div.sk-parallel-item {display: flex;flex-direction: column;z-index: 1;position: relative;background-color: white;}#sk-container-id-3 div.sk-parallel-item:first-child::after {align-self: flex-end;width: 50%;}#sk-container-id-3 div.sk-parallel-item:last-child::after {align-self: flex-start;width: 50%;}#sk-container-id-3 div.sk-parallel-item:only-child::after {width: 0;}#sk-container-id-3 div.sk-dashed-wrapped {border: 1px dashed gray;margin: 0 0.4em 0.5em 0.4em;box-sizing: border-box;padding-bottom: 0.4em;background-color: white;}#sk-container-id-3 div.sk-label label {font-family: monospace;font-weight: bold;display: inline-block;line-height: 1.2em;}#sk-container-id-3 div.sk-label-container {text-align: center;}#sk-container-id-3 div.sk-container {/* jupyter's `normalize.less` sets `[hidden] { display: none; }` but bootstrap.min.css set `[hidden] { display: none !important; }` so we also need the `!important` here to be able to override the default hidden behavior on the sphinx rendered scikit-learn.org. See: https://github.com/scikit-learn/scikit-learn/issues/21755 */display: inline-block !important;position: relative;}#sk-container-id-3 div.sk-text-repr-fallback {display: none;}</style><div id=\"sk-container-id-3\" class=\"sk-top-container\"><div class=\"sk-text-repr-fallback\"><pre>LinearRegression()</pre><b>In a Jupyter environment, please rerun this cell to show the HTML representation or trust the notebook. <br />On GitHub, the HTML representation is unable to render, please try loading this page with nbviewer.org.</b></div><div class=\"sk-container\" hidden><div class=\"sk-item\"><div class=\"sk-estimator sk-toggleable\"><input class=\"sk-toggleable__control sk-hidden--visually\" id=\"sk-estimator-id-3\" type=\"checkbox\" checked><label for=\"sk-estimator-id-3\" class=\"sk-toggleable__label sk-toggleable__label-arrow\">LinearRegression</label><div class=\"sk-toggleable__content\"><pre>LinearRegression()</pre></div></div></div></div></div>"
      ],
      "text/plain": [
       "LinearRegression()"
      ]
     },
     "execution_count": 28,
     "metadata": {},
     "output_type": "execute_result"
    }
   ],
   "source": [
    "### Criação do modelo a ser treinado\n",
    "### (fit indica que o treinamento deve se executado)\n",
    "\n",
    "modelo = LinearRegression() \n",
    "modelo.fit(x_train, y_train) \n",
    "\n"
   ]
  },
  {
   "cell_type": "code",
   "execution_count": 29,
   "metadata": {},
   "outputs": [
    {
     "name": "stdout",
     "output_type": "stream",
     "text": [
      "Coenficiente angular (a): [48.18185277]\n",
      "Coenficiente linear (b): 3596.783724372753\n"
     ]
    }
   ],
   "source": [
    "### Exibindo os coeficientes\n",
    "\n",
    "print('Coenficiente angular (a):', modelo.coef_)\n",
    "print('Coenficiente linear (b):', modelo.intercept_)\n"
   ]
  },
  {
   "cell_type": "code",
   "execution_count": 37,
   "metadata": {},
   "outputs": [
    {
     "name": "stdout",
     "output_type": "stream",
     "text": [
      "Para 60 horas aplicadas ao estudo \n",
      "tem uma probabilidade de você ter um salario de aproximadamente de 6487.69\n"
     ]
    }
   ],
   "source": [
    "### Inserir os valores para previsão\n",
    "Entrada = int(input('Digite a qtde de horas dedicadas'))\n",
    "horasestudos = np.array([[Entrada]])\n",
    "\n",
    "### Realizar a previsão\n",
    "salario = modelo.predict(horasestudos)\n",
    "\n",
    "print(f'Para {horasestudos[0][0]} horas aplicadas ao estudo ' + \n",
    "      f'\\ntem uma probabilidade de você ter um salario de aproximadamente de {round(salario[0],2)}') #Quebra de linhas"
   ]
  },
  {
   "cell_type": "code",
   "execution_count": 38,
   "metadata": {},
   "outputs": [
    {
     "name": "stdout",
     "output_type": "stream",
     "text": [
      "<class 'pandas.core.frame.DataFrame'>\n",
      "RangeIndex: 200 entries, 0 to 199\n",
      "Data columns (total 4 columns):\n",
      " #   Column     Non-Null Count  Dtype  \n",
      "---  ------     --------------  -----  \n",
      " 0   TV         200 non-null    float64\n",
      " 1   Radio      200 non-null    float64\n",
      " 2   Newspaper  200 non-null    float64\n",
      " 3   Sales      200 non-null    float64\n",
      "dtypes: float64(4)\n",
      "memory usage: 6.4 KB\n"
     ]
    }
   ],
   "source": [
    "### Exercicio 2\n",
    "\n",
    "### Carrega o arquivo HorasDeEstudo.csv\n",
    "\n",
    "caminho_destino = \"../Python Fundamentos de Bigdata - Diogo/Arquivos/advertising.csv\"\n",
    "advertising = pd.read_csv(caminho_destino)\n",
    "advertising.info()"
   ]
  },
  {
   "cell_type": "code",
   "execution_count": null,
   "metadata": {},
   "outputs": [],
   "source": [
    "'''\n",
    "Construa um modelo que preveja vendas com base no dinheiro gasto em diferentes plataformas de marketing.\n",
    "Use o conjunto de dados de publicidade fornecido no ISLR e analise a relação entre 'publicidade na TV' e 'vendas' usando um modelo de regressão linear simples.\n",
    "Neste caderno, construiremos um modelo de regressão linear para prever vendas usando uma variável preditora apropriada.\n",
    "'''"
   ]
  },
  {
   "cell_type": "code",
   "execution_count": 1,
   "metadata": {},
   "outputs": [],
   "source": [
    "### Importe as bibliotecas:\n",
    "### Pandas\n",
    "import pandas as pd\n",
    "### Numpy\n",
    "import numpy as np\n",
    "### Matplotlib\n",
    "import matplotlib.pyplot as mat ### import biblioteca matplotlib\n",
    "### Seaborn\n",
    "import seaborn as seab\n",
    "### OS\n",
    "import os as os \n",
    "### Scikit Learn\n",
    "from sklearn.model_selection import train_test_split # Dividir amostras\n",
    "from sklearn.linear_model import LinearRegression # Biblioteca de algoritmo de regressão\n",
    "\n"
   ]
  },
  {
   "cell_type": "code",
   "execution_count": 10,
   "metadata": {},
   "outputs": [
    {
     "name": "stdout",
     "output_type": "stream",
     "text": [
      "<class 'pandas.core.frame.DataFrame'>\n",
      "RangeIndex: 200 entries, 0 to 199\n",
      "Data columns (total 4 columns):\n",
      " #   Column     Non-Null Count  Dtype  \n",
      "---  ------     --------------  -----  \n",
      " 0   TV         200 non-null    float64\n",
      " 1   Radio      200 non-null    float64\n",
      " 2   Newspaper  200 non-null    float64\n",
      " 3   Sales      200 non-null    float64\n",
      "dtypes: float64(4)\n",
      "memory usage: 6.4 KB\n"
     ]
    }
   ],
   "source": [
    "### Carregue os dados do arquivo advertising.csv para um dataframe.\n",
    "caminho_destino = '../Python Fundamentos de Bigdata - Diogo/Arquivos/advertising.csv'\n",
    "vendas = pd.read_csv(caminho_destino)\n",
    "vendas.info()\n"
   ]
  },
  {
   "cell_type": "code",
   "execution_count": 11,
   "metadata": {},
   "outputs": [
    {
     "name": "stdout",
     "output_type": "stream",
     "text": [
      "      TV  Radio  Newspaper  Sales\n",
      "0  230.1   37.8       69.2   22.1\n",
      "1   44.5   39.3       45.1   10.4\n",
      "2   17.2   45.9       69.3   12.0\n",
      "3  151.5   41.3       58.5   16.5\n",
      "4  180.8   10.8       58.4   17.9\n",
      "        TV  Radio  Newspaper  Sales\n",
      "195   38.2    3.7       13.8    7.6\n",
      "196   94.2    4.9        8.1   14.0\n",
      "197  177.0    9.3        6.4   14.8\n",
      "198  283.6   42.0       66.2   25.5\n",
      "199  232.1    8.6        8.7   18.4\n",
      "<class 'pandas.core.frame.DataFrame'>\n",
      "RangeIndex: 200 entries, 0 to 199\n",
      "Data columns (total 4 columns):\n",
      " #   Column     Non-Null Count  Dtype  \n",
      "---  ------     --------------  -----  \n",
      " 0   TV         200 non-null    float64\n",
      " 1   Radio      200 non-null    float64\n",
      " 2   Newspaper  200 non-null    float64\n",
      " 3   Sales      200 non-null    float64\n",
      "dtypes: float64(4)\n",
      "memory usage: 6.4 KB\n",
      "None\n"
     ]
    }
   ],
   "source": [
    "### Visualizar algumas informações básicas do dataframe:\n",
    "\n",
    "### Cabeçalho;\n",
    "print(vendas.head())\n",
    "### Final do dataframe;\n",
    "print(vendas.tail())\n",
    "### Tipo de dados;\n",
    "print(vendas.info())\n"
   ]
  },
  {
   "cell_type": "code",
   "execution_count": 12,
   "metadata": {},
   "outputs": [
    {
     "name": "stdout",
     "output_type": "stream",
     "text": [
      "TV           0\n",
      "Radio        0\n",
      "Newspaper    0\n",
      "Sales        0\n",
      "dtype: int64\n",
      "               TV       Radio   Newspaper       Sales\n",
      "count  200.000000  200.000000  200.000000  200.000000\n",
      "mean   147.042500   23.264000   30.554000   15.130500\n",
      "std     85.854236   14.846809   21.778621    5.283892\n",
      "min      0.700000    0.000000    0.300000    1.600000\n",
      "25%     74.375000    9.975000   12.750000   11.000000\n",
      "50%    149.750000   22.900000   25.750000   16.000000\n",
      "75%    218.825000   36.525000   45.100000   19.050000\n",
      "max    296.400000   49.600000  114.000000   27.000000\n"
     ]
    }
   ],
   "source": [
    "### Limpeza e análise exploratória dos dados:\n",
    "### Verificar se há dados nulos e mostrar a quantidade;\n",
    "print(vendas.isnull().sum())\n",
    "### Resumo estatístico do dataframe;\n",
    "print(vendas.describe())\n"
   ]
  },
  {
   "cell_type": "code",
   "execution_count": 13,
   "metadata": {},
   "outputs": [
    {
     "name": "stdout",
     "output_type": "stream",
     "text": [
      "Axes(0.125,0.11;0.775x0.77)\n"
     ]
    },
    {
     "data": {
      "image/png": "[encoded data removed]",
      "text/plain": [
       "<Figure size 640x480 with 1 Axes>"
      ]
     },
     "metadata": {},
     "output_type": "display_data"
    }
   ],
   "source": [
    "### outliers\n",
    "### Analise se há outliers no conjunto de dados. Crie o seguinte comando para analisarmos os dados:\n",
    "### Um ponto fora da curva\n",
    "#'figsize\" tamanho da figura\n",
    "\n",
    "print(vendas.boxplot())"
   ]
  },
  {
   "cell_type": "code",
   "execution_count": 18,
   "metadata": {},
   "outputs": [
    {
     "data": {
      "image/png": "[encoded data removed]",
      "text/plain": [
       "<Figure size 500x500 with 3 Axes>"
      ]
     },
     "metadata": {},
     "output_type": "display_data"
    }
   ],
   "source": [
    "### outliers\n",
    "### Analise se há outliers no conjunto de dados. Crie o seguinte comando para analisarmos os dados:\n",
    "### Um ponto fora da curva\n",
    "#'figsize\" tamanho da figura\n",
    "# mat.subplots - junta figuras/ juntar graficos\n",
    "\n",
    "fig, axs = mat.subplots(3, figsize = (5,5))\n",
    "graf1 = seab.boxplot(vendas['TV'], ax=axs[0],orient='h', color='red')\n",
    "graf2 = seab.boxplot(vendas['Newspaper'], ax=axs[1],orient='h',color='green')\n",
    "graf3 = seab.boxplot(vendas['Radio'], ax=axs[2],orient='h',color='blue')\n",
    "\n",
    "mat.tight_layout() ### Divide em layouts individuais\n",
    "\n",
    "# print(advertising.boxplot())"
   ]
  },
  {
   "cell_type": "code",
   "execution_count": 19,
   "metadata": {},
   "outputs": [
    {
     "data": {
      "text/html": [
       "<div>\n",
       "<style scoped>\n",
       "    .dataframe tbody tr th:only-of-type {\n",
       "        vertical-align: middle;\n",
       "    }\n",
       "\n",
       "    .dataframe tbody tr th {\n",
       "        vertical-align: top;\n",
       "    }\n",
       "\n",
       "    .dataframe thead th {\n",
       "        text-align: right;\n",
       "    }\n",
       "</style>\n",
       "<table border=\"1\" class=\"dataframe\">\n",
       "  <thead>\n",
       "    <tr style=\"text-align: right;\">\n",
       "      <th></th>\n",
       "      <th>TV</th>\n",
       "      <th>Radio</th>\n",
       "      <th>Newspaper</th>\n",
       "      <th>Sales</th>\n",
       "    </tr>\n",
       "  </thead>\n",
       "  <tbody>\n",
       "    <tr>\n",
       "      <th>TV</th>\n",
       "      <td>1.000000</td>\n",
       "      <td>0.054809</td>\n",
       "      <td>0.056648</td>\n",
       "      <td>0.901208</td>\n",
       "    </tr>\n",
       "    <tr>\n",
       "      <th>Radio</th>\n",
       "      <td>0.054809</td>\n",
       "      <td>1.000000</td>\n",
       "      <td>0.354104</td>\n",
       "      <td>0.349631</td>\n",
       "    </tr>\n",
       "    <tr>\n",
       "      <th>Newspaper</th>\n",
       "      <td>0.056648</td>\n",
       "      <td>0.354104</td>\n",
       "      <td>1.000000</td>\n",
       "      <td>0.157960</td>\n",
       "    </tr>\n",
       "    <tr>\n",
       "      <th>Sales</th>\n",
       "      <td>0.901208</td>\n",
       "      <td>0.349631</td>\n",
       "      <td>0.157960</td>\n",
       "      <td>1.000000</td>\n",
       "    </tr>\n",
       "  </tbody>\n",
       "</table>\n",
       "</div>"
      ],
      "text/plain": [
       "                 TV     Radio  Newspaper     Sales\n",
       "TV         1.000000  0.054809   0.056648  0.901208\n",
       "Radio      0.054809  1.000000   0.354104  0.349631\n",
       "Newspaper  0.056648  0.354104   1.000000  0.157960\n",
       "Sales      0.901208  0.349631   0.157960  1.000000"
      ]
     },
     "execution_count": 19,
     "metadata": {},
     "output_type": "execute_result"
    }
   ],
   "source": [
    "vendas.corr()"
   ]
  },
  {
   "cell_type": "code",
   "execution_count": 30,
   "metadata": {},
   "outputs": [
    {
     "data": {
      "text/plain": [
       "<Axes: >"
      ]
     },
     "execution_count": 30,
     "metadata": {},
     "output_type": "execute_result"
    },
    {
     "data": {
      "image/png": "[encoded data removed]",
      "text/plain": [
       "<Figure size 640x480 with 2 Axes>"
      ]
     },
     "metadata": {},
     "output_type": "display_data"
    }
   ],
   "source": [
    "### Mapa de calor\n",
    "seab.heatmap(vendas.corr(), annot=True, cmap='YlGnBu')\n"
   ]
  },
  {
   "cell_type": "code",
   "execution_count": 20,
   "metadata": {},
   "outputs": [
    {
     "data": {
      "image/png": "[encoded data removed]",
      "text/plain": [
       "<Figure size 1200x400 with 3 Axes>"
      ]
     },
     "metadata": {},
     "output_type": "display_data"
    }
   ],
   "source": [
    "### Grafico linear por cada variavel\n",
    "\n",
    "seab.pairplot(\n",
    "    vendas\n",
    "    ,x_vars=['TV','Newspaper','Radio']\n",
    "    ,y_vars='Sales'\n",
    "    ,height=4\n",
    "    ,aspect=1\n",
    "    ,kind='scatter'\n",
    ")\n",
    "mat.show()"
   ]
  },
  {
   "cell_type": "code",
   "execution_count": 38,
   "metadata": {},
   "outputs": [
    {
     "name": "stdout",
     "output_type": "stream",
     "text": [
      "Tamanho dos dados para teste 60\n",
      "Tamanho dos dados para treino 140\n",
      "Tamanho dos dados 200\n"
     ]
    }
   ],
   "source": [
    "### Separação dos dados em treino e teste\n",
    "\n",
    "x = np.array(vendas['TV'])\n",
    "y = vendas['Sales']\n",
    "\n",
    "x = x.reshape(-1,1)\n",
    "\n",
    "x_train, x_test, y_train, y_test = train_test_split(x, y, test_size=0.3,random_state=0)\n",
    "print('Tamanho dos dados para teste', len(x_test))\n",
    "print('Tamanho dos dados para treino', len(x_train))\n",
    "print('Tamanho dos dados', len(x))"
   ]
  },
  {
   "cell_type": "code",
   "execution_count": 39,
   "metadata": {},
   "outputs": [
    {
     "data": {
      "text/html": [
       "<style>#sk-container-id-1 {color: black;}#sk-container-id-1 pre{padding: 0;}#sk-container-id-1 div.sk-toggleable {background-color: white;}#sk-container-id-1 label.sk-toggleable__label {cursor: pointer;display: block;width: 100%;margin-bottom: 0;padding: 0.3em;box-sizing: border-box;text-align: center;}#sk-container-id-1 label.sk-toggleable__label-arrow:before {content: \"▸\";float: left;margin-right: 0.25em;color: #696969;}#sk-container-id-1 label.sk-toggleable__label-arrow:hover:before {color: black;}#sk-container-id-1 div.sk-estimator:hover label.sk-toggleable__label-arrow:before {color: black;}#sk-container-id-1 div.sk-toggleable__content {max-height: 0;max-width: 0;overflow: hidden;text-align: left;background-color: #f0f8ff;}#sk-container-id-1 div.sk-toggleable__content pre {margin: 0.2em;color: black;border-radius: 0.25em;background-color: #f0f8ff;}#sk-container-id-1 input.sk-toggleable__control:checked~div.sk-toggleable__content {max-height: 200px;max-width: 100%;overflow: auto;}#sk-container-id-1 input.sk-toggleable__control:checked~label.sk-toggleable__label-arrow:before {content: \"▾\";}#sk-container-id-1 div.sk-estimator input.sk-toggleable__control:checked~label.sk-toggleable__label {background-color: #d4ebff;}#sk-container-id-1 div.sk-label input.sk-toggleable__control:checked~label.sk-toggleable__label {background-color: #d4ebff;}#sk-container-id-1 input.sk-hidden--visually {border: 0;clip: rect(1px 1px 1px 1px);clip: rect(1px, 1px, 1px, 1px);height: 1px;margin: -1px;overflow: hidden;padding: 0;position: absolute;width: 1px;}#sk-container-id-1 div.sk-estimator {font-family: monospace;background-color: #f0f8ff;border: 1px dotted black;border-radius: 0.25em;box-sizing: border-box;margin-bottom: 0.5em;}#sk-container-id-1 div.sk-estimator:hover {background-color: #d4ebff;}#sk-container-id-1 div.sk-parallel-item::after {content: \"\";width: 100%;border-bottom: 1px solid gray;flex-grow: 1;}#sk-container-id-1 div.sk-label:hover label.sk-toggleable__label {background-color: #d4ebff;}#sk-container-id-1 div.sk-serial::before {content: \"\";position: absolute;border-left: 1px solid gray;box-sizing: border-box;top: 0;bottom: 0;left: 50%;z-index: 0;}#sk-container-id-1 div.sk-serial {display: flex;flex-direction: column;align-items: center;background-color: white;padding-right: 0.2em;padding-left: 0.2em;position: relative;}#sk-container-id-1 div.sk-item {position: relative;z-index: 1;}#sk-container-id-1 div.sk-parallel {display: flex;align-items: stretch;justify-content: center;background-color: white;position: relative;}#sk-container-id-1 div.sk-item::before, #sk-container-id-1 div.sk-parallel-item::before {content: \"\";position: absolute;border-left: 1px solid gray;box-sizing: border-box;top: 0;bottom: 0;left: 50%;z-index: -1;}#sk-container-id-1 div.sk-parallel-item {display: flex;flex-direction: column;z-index: 1;position: relative;background-color: white;}#sk-container-id-1 div.sk-parallel-item:first-child::after {align-self: flex-end;width: 50%;}#sk-container-id-1 div.sk-parallel-item:last-child::after {align-self: flex-start;width: 50%;}#sk-container-id-1 div.sk-parallel-item:only-child::after {width: 0;}#sk-container-id-1 div.sk-dashed-wrapped {border: 1px dashed gray;margin: 0 0.4em 0.5em 0.4em;box-sizing: border-box;padding-bottom: 0.4em;background-color: white;}#sk-container-id-1 div.sk-label label {font-family: monospace;font-weight: bold;display: inline-block;line-height: 1.2em;}#sk-container-id-1 div.sk-label-container {text-align: center;}#sk-container-id-1 div.sk-container {/* jupyter's `normalize.less` sets `[hidden] { display: none; }` but bootstrap.min.css set `[hidden] { display: none !important; }` so we also need the `!important` here to be able to override the default hidden behavior on the sphinx rendered scikit-learn.org. See: https://github.com/scikit-learn/scikit-learn/issues/21755 */display: inline-block !important;position: relative;}#sk-container-id-1 div.sk-text-repr-fallback {display: none;}</style><div id=\"sk-container-id-1\" class=\"sk-top-container\"><div class=\"sk-text-repr-fallback\"><pre>LinearRegression()</pre><b>In a Jupyter environment, please rerun this cell to show the HTML representation or trust the notebook. <br />On GitHub, the HTML representation is unable to render, please try loading this page with nbviewer.org.</b></div><div class=\"sk-container\" hidden><div class=\"sk-item\"><div class=\"sk-estimator sk-toggleable\"><input class=\"sk-toggleable__control sk-hidden--visually\" id=\"sk-estimator-id-1\" type=\"checkbox\" checked><label for=\"sk-estimator-id-1\" class=\"sk-toggleable__label sk-toggleable__label-arrow\">LinearRegression</label><div class=\"sk-toggleable__content\"><pre>LinearRegression()</pre></div></div></div></div></div>"
      ],
      "text/plain": [
       "LinearRegression()"
      ]
     },
     "execution_count": 39,
     "metadata": {},
     "output_type": "execute_result"
    }
   ],
   "source": [
    "modelo = LinearRegression() \n",
    "modelo.fit(x_train, y_train) "
   ]
  },
  {
   "cell_type": "code",
   "execution_count": 44,
   "metadata": {},
   "outputs": [
    {
     "data": {
      "text/plain": [
       "[<matplotlib.lines.Line2D at 0x28866546d10>]"
      ]
     },
     "execution_count": 44,
     "metadata": {},
     "output_type": "execute_result"
    },
    {
     "data": {
      "image/png": "[encoded data removed]",
      "text/plain": [
       "<Figure size 640x480 with 1 Axes>"
      ]
     },
     "metadata": {},
     "output_type": "display_data"
    }
   ],
   "source": [
    "mat.scatter(x ,y ,color='gray')\n",
    "mat.plot(x ,modelo.predict(x) ,color='red')"
   ]
  }
 ],
 "metadata": {
  "kernelspec": {
   "display_name": "Python 3",
   "language": "python",
   "name": "python3"
  },
  "language_info": {
   "codemirror_mode": {
    "name": "ipython",
    "version": 3
   },
   "file_extension": ".py",
   "mimetype": "text/x-python",
   "name": "python",
   "nbconvert_exporter": "python",
   "pygments_lexer": "ipython3",
   "version": "3.11.0"
  }
 },
 "nbformat": 4,
 "nbformat_minor": 2
}
