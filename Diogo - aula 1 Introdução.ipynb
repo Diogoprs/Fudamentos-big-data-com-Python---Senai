{
 "cells": [
  {
   "cell_type": "markdown",
   "metadata": {},
   "source": [
    "#### Gerando uma mensagem no console\n",
    "\n",
    "Markdown é um texto que não reconhecido pela linguagem"
   ]
  },
  {
   "cell_type": "markdown",
   "metadata": {},
   "source": [
    "\n",
    "Site para programação\n",
    "https://stackoverflow.com/\n",
    "\n",
    "Apredendo outras linguagens\n",
    "https://www.w3schools.com/\n",
    "\n",
    "Python documentação\n",
    "https://docs.python.org/pt-br/3/library/"
   ]
  },
  {
   "cell_type": "code",
   "execution_count": null,
   "metadata": {},
   "outputs": [],
   "source": [
    "### Aula dia 16/10/2023\n",
    "### Auala 01"
   ]
  },
  {
   "cell_type": "code",
   "execution_count": null,
   "metadata": {},
   "outputs": [],
   "source": [
    "### Carregar bibliotecas\n",
    "import numpy as np      ### Bibliotecas de processamento de dados\n",
    "import keyword          ### biblioteca de palavras reservadas\n",
    "print(keyword.kwlist)   ### listar palavras\n",
    "import math as mt            ### Arrendondar\n"
   ]
  },
  {
   "cell_type": "code",
   "execution_count": null,
   "metadata": {},
   "outputs": [],
   "source": [
    "### Funções\n",
    "\"\"\"\n",
    "type()  - Verifica o tipo de dados\n",
    "int()   - Numero Inteiro\n",
    "float() - Numero Decimal\n",
    "str()   - Tipo texto\n",
    "print() - apresenta resultado\n",
    "range() - (start, stop)\n",
    "\"\"\"\n",
    "### Funções texto\n",
    "\"\"\"\n",
    ".startswith   - Verificar a inicial\n",
    ".__contains__ - Verifica se Contem dentro do texto, funciona como um like no sql\n",
    "\"\"\"\n",
    "\n",
    "### Funções Buit-in\n",
    "\"\"\"\n",
    "sum - Soma\n",
    "max - Maior numero\n",
    "min - Menor numero\n",
    "len - Contar numero de itens ou elementos\n",
    "\"\"\""
   ]
  },
  {
   "cell_type": "code",
   "execution_count": null,
   "metadata": {},
   "outputs": [],
   "source": [
    "### Operadores\n",
    "\"\"\"\n",
    "+       - soma\n",
    "-       - subtração\n",
    "*       - multiplicação\n",
    "/       - divisão\n",
    "**      - potencia/elevado\n",
    "**(1/2) - fração\n",
    "\"\"\"\n",
    "\n",
    "### Operadores Relacionais\n",
    "\"\"\"\n",
    "==  - Igual\n",
    ">   - Maior\n",
    "<   - Menor\n",
    ">=  - Maior ou igual\n",
    "<=  - Menor ou Igual\n",
    "!=  - Diferente\n",
    "max - Maior\n",
    "nim - Menor\n",
    "\"\"\"\n",
    "\n",
    "### Operadore Logicos\n",
    "\"\"\"\n",
    "and - e\n",
    "or  - ou\n",
    "not - não\n",
    "\"\"\""
   ]
  },
  {
   "cell_type": "code",
   "execution_count": null,
   "metadata": {},
   "outputs": [],
   "source": [
    "print('Hello, baby') ### Apresenta valores"
   ]
  },
  {
   "cell_type": "code",
   "execution_count": null,
   "metadata": {},
   "outputs": [],
   "source": [
    "#### Aula 1 - Criando as variaveis e atribuindo valores a elas\n",
    "#### Exercício 01 – Crie um programa para receber dois valores e em seguida, exiba o valor da soma.\n",
    "num1 = 20\n",
    "num2 = 5\n",
    "num3 = 6\n",
    "\n",
    "soma = num1+num2+num3\n",
    "\n",
    "print(soma)"
   ]
  },
  {
   "cell_type": "code",
   "execution_count": null,
   "metadata": {},
   "outputs": [],
   "source": [
    "### Exercício 02 – Crie um programa para receber dois valores e em seguida, exiba o valor da diferença entre eles.\n",
    "num1 = 10\n",
    "num2 = 5\n",
    "soma = num1 - num2\n",
    "print(f'O resultado da substração é {soma}.')"
   ]
  },
  {
   "cell_type": "code",
   "execution_count": null,
   "metadata": {},
   "outputs": [],
   "source": [
    "### Exercício 03 – Crie um programa para receber dois valores e em seguida, exiba o produto entre eles.\n",
    "num1 = input(\"Digite o primeiro valor\")\n",
    "num2 = input(\"Digite o segundo valor\")\n",
    "produto = float(num1) * float(num2)\n",
    "print('O resultado é: ',produto,'ok')"
   ]
  },
  {
   "cell_type": "code",
   "execution_count": null,
   "metadata": {},
   "outputs": [],
   "source": [
    "### Calcular o Raio\n",
    "### Utilizando a função PI da biblioteca numpy\n",
    "### Utilizando INPUT para informar um valor\n",
    "\n",
    "raio = float(input(\"digite o raio\"))\n",
    "pi = round(float(np.pi),3)\n",
    "Area_circulo = pi*raio**2\n",
    "\n",
    "print(f\"O Ciruclo com raio de {raio}mm, tem uma area de {Area_circulo}mm² \")\n",
    "print(round(float(Area_circulo),3))"
   ]
  },
  {
   "cell_type": "code",
   "execution_count": null,
   "metadata": {},
   "outputs": [],
   "source": [
    "## Calcular o Lado\n",
    "\n",
    "lado = float(input(\"digite o lado\"))\n",
    "Aq = round(float(2),3)\n",
    "Calculo_lado = lado**Aq\n",
    "\n",
    "print(round(float(Calculo_lado),3))"
   ]
  },
  {
   "cell_type": "code",
   "execution_count": null,
   "metadata": {},
   "outputs": [],
   "source": [
    "## Calcular o F\n",
    "\n",
    "Ac = round(float(1.8),3)\n",
    "raio = Ac*float(input(\"digite o raio\"))+32\n",
    "\n",
    "print(round(float(raio),3))"
   ]
  },
  {
   "cell_type": "code",
   "execution_count": null,
   "metadata": {},
   "outputs": [],
   "source": [
    "### Aula dia 18/10/2023\n",
    "### Auala 02"
   ]
  },
  {
   "cell_type": "code",
   "execution_count": null,
   "metadata": {},
   "outputs": [],
   "source": [
    "### Exercício 15 - Faça um Programa que peça a temperatura em graus Celsius, transforme e mostre em graus Fahrenheit.\n",
    "\n",
    "celsius = float(input('Digite aqui a temperatura em celsius'))\n",
    "fahrenheit = (celsius * 9/5) + 32\n",
    "\n",
    "print (f'A temperatura de {celsius} graus Celsius é equivalente a {fahrenheit} graus fahrenheit !')"
   ]
  },
  {
   "cell_type": "code",
   "execution_count": null,
   "metadata": {},
   "outputs": [],
   "source": [
    "### Exercício 16 - Faça um Programa que peça 2 números inteiros e um número real. Calcule e mostre:\n",
    "\n",
    "### Numero Inteiro\n",
    "valor1 = int(input('Digite o primeiro valor'))\n",
    "valor2 = int(input('Digite o segundo valor'))\n",
    "### Numero real\n",
    "valor3 = float(input('Digite o terceiro valor'))\n",
    "\n",
    "### A o produto do dobro do primeiro com metade do segundo.\n",
    "calc_A = (valor1 * 2) + (valor2 / 2) \n",
    "print('Resposta A: ',int(calc_A))\n",
    "### B a soma do triplo do primeiro com o terceiro.\n",
    "calc_B = (valor1 * 3) + valor3\n",
    "print('Resposta B: ',int(calc_B))\n",
    "### C o terceiro elevado ao cubo.\n",
    "calc_C= (valor3 ** 3)\n",
    "print('Resposta C: ',int(calc_C))\n"
   ]
  },
  {
   "cell_type": "code",
   "execution_count": null,
   "metadata": {},
   "outputs": [],
   "source": [
    "### Exercício 17 - João Papo-de-Pescador\n",
    "\"\"\"\n",
    "Homem de bem, comprou um microcomputador\n",
    "para controlar o rendimento diário de seu trabalho. Toda vez que ele traz um peso de\n",
    "peixes maior que o estabelecido pelo regulamento de pesca do estado de São Paulo\n",
    "(50 quilos) deve pagar uma multa de R$ 4,00 por quilo excedente. João precisa que\n",
    "você faça um programa que leia a variável peso (peso de peixes) e calcule o excesso.\n",
    "Gravar na variável excesso a quantidade de quilos além do limite e na variável multa o\n",
    "valor da multa que João deverá pagar. Imprima os dados do programa com as\n",
    "mensagens adequadas.\n",
    "\"\"\"\n",
    "Entrada = float(50)\n",
    "Peso = float(input('Digite o peso do peixes ?'))\n",
    "if Peso <= 50:\n",
    "    print('Sem Multa')\n",
    "else:\n",
    "    VlPorKL = 4\n",
    "    Excesso = (Peso - Entrada)\n",
    "    multa = (Peso - Entrada)*VlPorKL\n",
    "    print('Valor Excesso: ',Excesso)\n",
    "    print('Valor Multa: ',multa)\n"
   ]
  },
  {
   "cell_type": "code",
   "execution_count": null,
   "metadata": {},
   "outputs": [],
   "source": [
    "### Exercício 18 - Calculo Salarial \n",
    "\"\"\"\n",
    "Faça um Programa que pergunte quanto você ganha por hora e o número\n",
    "de horas trabalhadas no mês. Calcule e mostre o total do seu salário no referido mês,\n",
    "sabendo-se que são descontados 11% para o Imposto de Renda, 8% para o INSS e 5%\n",
    "para o sindicato, faça um programa que nos dê:\n",
    "\"\"\"\n",
    "### a) salário bruto.\n",
    "ValorHora = round(float(input('Valor Salario por hora ?')),0)\n",
    "HorasTrabalhadas = round(float(input('Horas trabalhadas no mês ?')),0)\n",
    "print('Salario por hora :', ValorHora)\n",
    "print('Horas trabalhadas :',HorasTrabalhadas)\n",
    "\n",
    "### a) salário bruto.\n",
    "SalarioBruto = ValorHora * HorasTrabalhadas\n",
    "print('Salario Bruto :',SalarioBruto)\n",
    "\n",
    "### IR (11%) : R$\n",
    "per_ir = 0.11\n",
    "DescontoIr = SalarioBruto * per_ir\n",
    "print('Valor desconto IR: ',DescontoIr)\n",
    "\n",
    "### INSS (8%) : R$\n",
    "per_inss = 0.08\n",
    "DescontoInss = SalarioBruto * per_inss\n",
    "print('Valor desconto INSS: ',DescontoInss)\n",
    "\n",
    "### Sindicato ( 5%) : R$\n",
    "per_sindicato = 0.05\n",
    "DescontoSindicato = SalarioBruto * per_sindicato\n",
    "print('Valor desconto Sindicato: ',DescontoSindicato)\n",
    "\n",
    "### Salário Liquido : R$\n",
    "SalarioLiquido = SalarioBruto - DescontoIr - DescontoInss - DescontoSindicato\n",
    "print('Valor Salário Liquido: ',SalarioLiquido)\n"
   ]
  },
  {
   "cell_type": "code",
   "execution_count": null,
   "metadata": {},
   "outputs": [],
   "source": [
    "### Exercício 19 - Calculo de Preço \n",
    "\"\"\"\n",
    "Faça um programa para uma loja de tintas. O programa deverá pedir o\n",
    "tamanho em metros quadrados da área a ser pintada. Considere que a cobertura da\n",
    "tinta é de 1 litro para cada 3 metros quadrados e que a tinta é vendida em latas de 18\n",
    "litros, que custam R$ 80,00. Informe ao usuário a quantidades de latas de tinta a serem\n",
    "compradas e o preço total.\n",
    "\"\"\"\n",
    "largura = round(float(input('Informe a largura total')),0)\n",
    "altura = round(float(input('Informe a largura Altura')),0)\n",
    "\n",
    "areaTotal = largura * altura\n",
    "\n",
    "formula = mt.ceil(float((areaTotal)/(18*3))) ### função mt.ceil arrendoda para cima\n",
    "\n",
    "ValorLata = round(float(formula),1) * 80\n",
    "\n",
    "print('Area total de pitura: ',areaTotal)\n",
    "print('Quantidade de latas: ',formula)\n",
    "print('Custo Total: ',ValorLata)\n"
   ]
  },
  {
   "cell_type": "code",
   "execution_count": null,
   "metadata": {},
   "outputs": [],
   "source": [
    "### Função IF e ELSE\n",
    "\n",
    "### Exercício 01 – \n",
    "\"\"\"\n",
    "Crie uma variável chamada \"idade\" e atribua um valor inteiro a ela.\n",
    "Verifique se a idade é maior ou igual a 18 e imprima \"Maior de idade\" ou \"Menor de\n",
    "idade\" de acordo com a condição.\n",
    "\"\"\"\n",
    "\n",
    "Idade = int(input('Informe sua idade'))\n",
    "if Idade >=18:\n",
    "    print('Maior de idade')\n",
    "else:\n",
    "    print('Menor de Idade')"
   ]
  },
  {
   "cell_type": "code",
   "execution_count": null,
   "metadata": {},
   "outputs": [],
   "source": [
    "### Exercício 02 - Positivo ou Negativo\n",
    "\"\"\"\n",
    "Crie uma variável chamada \"número\" e atribua um valor inteiro a ela.\n",
    "Verifique se o número é positivo, negativo ou zero e imprima a mensagem\n",
    "correspondente.\n",
    "\"\"\"\n",
    "Numero = int(input('Informe numero'))\n",
    "\n",
    "if Numero >0:\n",
    "    print('Positivo')\n",
    "elif Numero <0:\n",
    "    print('Negativo')\n",
    "else:\n",
    "    print('Neutro')\n"
   ]
  },
  {
   "cell_type": "code",
   "execution_count": null,
   "metadata": {},
   "outputs": [],
   "source": [
    "### Aula dia 23/10/2023\n",
    "### Auala 03"
   ]
  },
  {
   "cell_type": "code",
   "execution_count": null,
   "metadata": {},
   "outputs": [],
   "source": [
    "### Exercício 03 - Reprovado ou Aprovado\n",
    "\"\"\"\n",
    "Crie duas variáveis, \"nota1\" e \"nota2\", e atribua valores numéricos a elas.\n",
    "Verifique se a média das notas é maior ou igual a 7 e imprima \"Aprovado\" ou\n",
    "\"Reprovado\" de acordo com a condição.\n",
    "\"\"\"\n",
    "\n",
    "Nota1 = round(float(input('Informe Nota 1')),1)\n",
    "Nota2 = round(float(input('Informe Nota 2')),1)\n",
    "Media = (Nota1 + Nota2)/2\n",
    "print(Media)\n",
    "\n",
    "if Media >= 7:\n",
    "    print('Aprovado')\n",
    "else:\n",
    "    print('Reprovado')"
   ]
  },
  {
   "cell_type": "code",
   "execution_count": null,
   "metadata": {},
   "outputs": [],
   "source": [
    "### Exercício 04 - Idade Valida\n",
    "\"\"\"\n",
    "Crie uma variável chamada \"idade\" e atribua um valor inteiro a ela.\n",
    "Verifique se a idade está dentro do intervalo de 18 a 30 (inclusive) e imprima a\n",
    "mensagem \"Idade válida\" ou \"Idade inválida\" de acordo com a condição.\n",
    "\"\"\"\n",
    "\n",
    "Idade = int(input('Informe Sua Idade'))\n",
    "print(Idade)\n",
    "\n",
    "if Idade >= 18 and Idade <= 30:\n",
    "    print('Idade válida')\n",
    "else:\n",
    "    print('Idade inválida')"
   ]
  },
  {
   "cell_type": "code",
   "execution_count": null,
   "metadata": {},
   "outputs": [],
   "source": [
    "### Exercício 05 - Par ou impar\n",
    "\"\"\"\n",
    "Crie uma variável chamada \"numero\" e atribua um valor inteiro a ela.\n",
    "Verifique se o número é par ou ímpar e imprima a mensagem correspondente.\n",
    "\"\"\"\n",
    "\n",
    "Numero = int(input('Informe um numero'))\n",
    "\n",
    "### Este bloco calcula o resto da divisão do valor inserido por 2\n",
    "Resto = Numero % 2\n",
    "print(Resto)\n",
    "\n",
    "if Numero % 2 == 0:\n",
    "    print(f\"Número {Numero} é par.\")\n",
    "else:\n",
    "    print(f\"Número {Numero} é ímpar.\")"
   ]
  },
  {
   "cell_type": "code",
   "execution_count": null,
   "metadata": {},
   "outputs": [],
   "source": [
    "### Exercício 06 - Verificar periodo\n",
    "\"\"\"\n",
    "Crie uma variável chamada \"horario\" e atribua um valor inteiro\n",
    "representando a hora do dia (em formato 24 horas). Verifique se o horário está dentro\n",
    "do período da manhã (das 6h às 12h), da tarde (das 12h às 18h) ou da noite (das 18h\n",
    "às 23h) e imprima a mensagem correspondente.\n",
    "\"\"\"\n",
    "\n",
    "Horario = int(input('Informe um horario'))\n",
    "print(f'Horario informado: {Horario}hs.')\n",
    "\n",
    "\n",
    "\n",
    "if Horario >= 6 and Horario < 12:\n",
    "    print('Periodo da Manhã.')\n",
    "elif Horario >= 12 and Horario < 18:\n",
    "    print('Periodo da tarde.')\n",
    "elif Horario >= 18 and Horario <= 23:\n",
    "    print('Periodo da Noite.')\n",
    "else:\n",
    "    print('Meia noite')\n"
   ]
  },
  {
   "cell_type": "code",
   "execution_count": null,
   "metadata": {},
   "outputs": [],
   "source": [
    "### Exercício 07 - Verificar peso\n",
    "\"\"\"\n",
    "Crie uma variável chamada \"peso\" e atribua um valor numérico a ela.\n",
    "Verifique se o peso está dentro do intervalo de 50 a 100 (inclusive) e imprima a\n",
    "mensagem \"Peso válido\" ou \"Peso inválido\" de acordo com a condição.\n",
    "\"\"\"\n",
    "Peso = int(input('Informe seu peso'))\n",
    "print(f'Peso informado: {Peso}.')\n",
    "\n",
    "if Peso >= 50 and Peso <= 100:\n",
    "    print('Peso válido.')\n",
    "else:\n",
    "    print('Peso inválido.')"
   ]
  },
  {
   "cell_type": "code",
   "execution_count": null,
   "metadata": {},
   "outputs": [],
   "source": [
    "### Exercício 08 - Multiplos de 3 e 5\n",
    "\"\"\"\n",
    "Crie uma variável chamada \"numero\" e atribua um valor inteiro a ela.\n",
    "Verifique se o número é múltiplo de 3 e de 5 ao mesmo tempo e imprima a mensagem\n",
    "correspondente.\n",
    "\"\"\"\n",
    "Numero = int(input('Informe um numero'))\n",
    "\n",
    "### Este bloco calcula o resto da divisão do valor inserido por 2\n",
    "Resto = (Numero % 3) and (Numero % 5)\n",
    "print(Resto)\n",
    "\n",
    "if (Numero % 3 == 0) and (Numero % 5 == 0):\n",
    "    print(f\"O Numero {Numero} é Multiplo de 3 e 5.\")\n",
    "else:\n",
    "    print(f\"O Numero {Numero}, não é Multiplo de 3 e 5.\")\n"
   ]
  },
  {
   "cell_type": "code",
   "execution_count": null,
   "metadata": {},
   "outputs": [],
   "source": [
    "### Exercício 09 - Valida ano Bissexto\n",
    "\"\"\"\n",
    "Crie uma variável chamada \"ano\" e atribua um valor inteiro\n",
    "representando um ano. Verifique se o ano é bissexto (divisível por 4, mas não por 100,\n",
    "exceto se for divisível por 400) e imprima a mensagem correspondente.\n",
    "\"\"\"\n",
    "\n",
    "Ano = int(input('Informe um numero'))\n",
    "\n",
    "if (Ano % 4 ==0 and Ano % 100 !=0) or (Ano % 400 ==0):\n",
    "    print(f'O {Ano} é bissexto.')\n",
    "else:\n",
    "    print(f'O {Ano} não é bissexto.')"
   ]
  },
  {
   "cell_type": "code",
   "execution_count": null,
   "metadata": {},
   "outputs": [],
   "source": [
    "### Exercício 15 - \n",
    "\"\"\"\n",
    "Faça um programa para a leitura de duas notas parciais de um aluno. \n",
    "O programa deve calcular a média alcançada por aluno e apresentar:\n",
    "• A mensagem \"Aprovado\", se a média alcançada for maior ou igual a sete;\n",
    "• A mensagem \"Reprovado\", se a média for menor do que sete;\n",
    "• A mensagem \"Aprovado com Distinção\", se a média for igual a dez.\n",
    "\"\"\"\n",
    "\n",
    "Nota1 = round(float(input('Nota 1')),1)\n",
    "Nota2 = round(float(input('Nota 2')),1)\n",
    "\n",
    "Notamedia = ((Nota1 + Nota2)/2)\n",
    "print(Notamedia)\n",
    "\n",
    "if Notamedia >=7 and Notamedia <10:\n",
    "    print(f'Aluno aprovado com media {Notamedia}.')\n",
    "elif Notamedia == 10:\n",
    "    print(f'Aluno aprovado com Distinção com media {Notamedia}.')\n",
    "else:\n",
    "    print(f'Aluno reprovado com media {Notamedia}.')"
   ]
  },
  {
   "cell_type": "code",
   "execution_count": null,
   "metadata": {},
   "outputs": [],
   "source": [
    "### Exercício 16 - Verificar o maior numero\n",
    "\"\"\"\n",
    "Faça um Programa que leia três números e mostre o maior deles.\n",
    "\"\"\"\n",
    "\n",
    "Numero1 = round(float(input('Nota 1')),1)\n",
    "Numero2 = round(float(input('Nota 2')),1)\n",
    "Numero3 = round(float(input('Nota 2')),1)\n",
    "\n",
    "NumeroMaior = max(Numero1,Numero2,Numero3)\n",
    "print(NumeroMaior)"
   ]
  },
  {
   "cell_type": "code",
   "execution_count": null,
   "metadata": {},
   "outputs": [],
   "source": [
    "### Exercício 16 - Verificar o maior numero\n",
    "\"\"\"\n",
    "Faça um Programa que leia três números e mostre o maior deles.\n",
    "\"\"\"\n",
    "\n",
    "Numero1 = round(float(input('Numero 1')),1)\n",
    "Numero2 = round(float(input('Numero 2')),1)\n",
    "Numero3 = round(float(input('Numero 2')),1)\n",
    "\n",
    "\n",
    "if (Numero1 > Numero2 and Numero1 > Numero3):\n",
    "   print(f'Numero 1 é o maior {Numero1}')\n",
    "elif (Numero2 > Numero1 and Numero2 > Numero3):\n",
    "   print(f'Numero 2 é o maior {Numero2}')\n",
    "elif (Numero3 > Numero1 and Numero3 > Numero2):\n",
    "   print(f'Numero 3 é o maior {Numero3}')\n",
    "else:\n",
    "   print('tudo errado')"
   ]
  },
  {
   "cell_type": "code",
   "execution_count": null,
   "metadata": {},
   "outputs": [],
   "source": [
    "### Exercício 17 - Verificar o Maior e menor\n",
    "\"\"\"\n",
    "Faça um Programa que leia três números e mostre o maior e o menor deles.\n",
    "\"\"\"\n",
    "Numero1 = round(float(input('Nota 1')),1)\n",
    "Numero2 = round(float(input('Nota 2')),1)\n",
    "Numero3 = round(float(input('Nota 2')),1)\n",
    "\n",
    "NumeroMaior = max(Numero1,Numero2,Numero3)\n",
    "print(NumeroMaior)\n",
    "\n",
    "NumeroMenor = min(Numero1,Numero2,Numero3)\n",
    "print(NumeroMenor)"
   ]
  },
  {
   "cell_type": "code",
   "execution_count": null,
   "metadata": {},
   "outputs": [],
   "source": [
    "### Exercício 17 - Verificar o Maior e menor\n",
    "\"\"\"\n",
    "Faça um Programa que leia três números e mostre o maior e o menor deles.\n",
    "\"\"\"\n",
    "Numero1 = round(float(input('Numero 1')),1)\n",
    "Numero2 = round(float(input('Numero 2')),1)\n",
    "Numero3 = round(float(input('Numero 2')),1)\n",
    "\n",
    "if (Numero1 > Numero2 and Numero1 > Numero3):\n",
    "   print(f'Numero 1 é o maior {Numero1}')\n",
    "elif (Numero2 > Numero1 and Numero2 > Numero3):\n",
    "   print(f'Numero 2 é o maior {Numero2}')\n",
    "elif (Numero3 > Numero1 and Numero3 > Numero2):\n",
    "   print(f'Numero 3 é o maior {Numero3}')\n",
    "\n",
    "if (Numero1 < Numero2 and Numero1 < Numero3):\n",
    "   print(f'Numero 1 é o menor {Numero1}')\n",
    "elif (Numero2 < Numero1 and Numero2 < Numero3):\n",
    "   print(f'Numero 2 é o menor {Numero2}')\n",
    "elif (Numero3 < Numero1 and Numero3 < Numero2):\n",
    "   print(f'Numero 3 é o menor {Numero3}')\n",
    "\n",
    "else:\n",
    "   print('tudo errado')"
   ]
  },
  {
   "cell_type": "code",
   "execution_count": null,
   "metadata": {},
   "outputs": [],
   "source": [
    "### Exercício 18 - Verificar o produto mais barato\n",
    "\"\"\"\n",
    "Faça um programa que pergunte o preço de três produtos e informe qual\n",
    "produto você deve comprar, sabendo que a decisão é sempre pelo mais barato.\n",
    "\"\"\"\n",
    "\n",
    "Produto1 = round(float(input('Produto 1')),1)\n",
    "Produto2 = round(float(input('Produto 2')),1)\n",
    "Produto3 = round(float(input('Produto 2')),1)\n",
    "\n",
    "if (Produto1 < Produto2 and Produto1 < Produto3):\n",
    "   print(f'Produto 1 é o menor, valor {Produto1}')\n",
    "elif (Produto2 < Produto1 and Produto2 < Produto3):\n",
    "   print(f'Produto 2 é o menor, valor {Produto2}')\n",
    "elif (Produto3 < Produto1 and Produto3 < Produto2):\n",
    "   print(f'Produto 3 é o menor, valor {Produto3}')\n",
    "\n",
    "else:\n",
    "   print('tudo errado')\n"
   ]
  },
  {
   "cell_type": "code",
   "execution_count": null,
   "metadata": {},
   "outputs": [],
   "source": [
    "### Aula 4 - 35/10/2023\n",
    "\n",
    "### Lista | Tupulas | Dicionarios"
   ]
  },
  {
   "cell_type": "code",
   "execution_count": null,
   "metadata": {},
   "outputs": [],
   "source": [
    "### Lista\n",
    "\n",
    "aluno = ['Ana','Amanda','Bruno','Joao',1]\n",
    "notas = [10,9,8,7]\n"
   ]
  },
  {
   "cell_type": "code",
   "execution_count": null,
   "metadata": {},
   "outputs": [],
   "source": [
    "### Indice\n",
    "### O indice no pytho, começa sempre com 0\n",
    "\n",
    "### Exibir o primeiro nome da lista aluno\n",
    "print(aluno[0])\n",
    "\n",
    "### Exibir o primeiro nome da lista notas\n",
    "print(notas[2])\n"
   ]
  },
  {
   "cell_type": "code",
   "execution_count": null,
   "metadata": {},
   "outputs": [],
   "source": [
    "### Listas(List) - Acessando Itens - Python sem inicia a lista com \"0\" sendo a primeira posição\n",
    "### Visualizar mais que um item da lista, Posição Inicia : Posição Final +1\n",
    "### Criamos utilizando []\n",
    "aluno[2:4]\n",
    "aluno[2:] ### apartir do 2 até o ultimo elemento da lista\n"
   ]
  },
  {
   "cell_type": "code",
   "execution_count": null,
   "metadata": {},
   "outputs": [],
   "source": [
    "### Identifica o tipo de dado\n",
    "print(type(aluno))\n",
    "print(type(aluno[4])) ### Verifica o tipo de dados da posição\n",
    "\n",
    "### Contar a quantidade de elementos da lista\n",
    "print(len(aluno))"
   ]
  },
  {
   "cell_type": "code",
   "execution_count": null,
   "metadata": {},
   "outputs": [],
   "source": [
    "### Exercício 01 - Criando Lista de times\n",
    "'''\n",
    "Crie uma lista com nomes de 4 times de futebol. \n",
    "a) Palmeiras \n",
    "b) São Paulo \n",
    "c) Santos \n",
    "d) Água Santa \n",
    "e) Acesse o time que está na 3a posição. \n",
    "f) Crie uma lista com duas listas de 3 times de futebol, cada uma de uma  divisão diferente. \n",
    "'''\n",
    "### Lista de times\n",
    "times = ['Palmeiras','São Paulo','Santos','Água Santa']\n",
    "\n",
    "### Acessar posição 3\n",
    "print(times[2])\n",
    "\n",
    "### Criando sublista\n",
    "### Acessar a lista com 3 times\n",
    "print(times[1:4])\n",
    "\n"
   ]
  },
  {
   "cell_type": "code",
   "execution_count": null,
   "metadata": {},
   "outputs": [],
   "source": [
    "### juntando duas listas \n",
    "\n",
    "Com_mundial = ['São Paulo','Corinthians','Santos']\n",
    "Sem_mundial = ['Palmeiras','Cruzeiro','Agua Negra']\n",
    "\n",
    "lista_times = [Com_mundial,Sem_mundial]\n",
    "print(lista_times[0][0])"
   ]
  },
  {
   "cell_type": "code",
   "execution_count": null,
   "metadata": {},
   "outputs": [],
   "source": [
    "### Exercício 02 - Inserir novas informações na lista\n",
    "'''\n",
    "Crie uma lista com 3 diferentes moedas. Acrescente mais 2  outras moedas à essa mesma lista\n",
    "'''\n",
    "Moedas = ['Dolar','Real','Euro']\n",
    "print(Moedas)\n"
   ]
  },
  {
   "cell_type": "code",
   "execution_count": null,
   "metadata": {},
   "outputs": [],
   "source": [
    "### Inserir novos informações na lista, o \"Append\" adiciona novo elemento no final da lista\n",
    "Moedas.append('Peso')\n",
    "print(Moedas)\n"
   ]
  },
  {
   "cell_type": "code",
   "execution_count": null,
   "metadata": {},
   "outputs": [],
   "source": [
    "#### Inseri em uma posição especifica, utilizar o \"Insert (lista.insert(posicao,valor)\"\n",
    "Moedas.insert(1,\"Rand\")\n",
    "print(Moedas)"
   ]
  },
  {
   "cell_type": "code",
   "execution_count": null,
   "metadata": {},
   "outputs": [],
   "source": [
    "#### Deletar um elemento da lista\n",
    "Moedas.remove(\"Peso\")\n",
    "print(Moedas)"
   ]
  },
  {
   "cell_type": "code",
   "execution_count": null,
   "metadata": {},
   "outputs": [],
   "source": [
    "### Lista (list) - Conversão de lista para string\n",
    "\n",
    "Supermercado = ['Batata','Oleo','Margarina','Cafe']\n",
    "print(supermecado)\n",
    "print(type(Supermercado))\n",
    "\n",
    "\n",
    "### Convertendo de list para string\n",
    "ListaConvertida = ';'.join(Supermercado)\n",
    "print(ListaConvertida)\n",
    "print(type(ListaConvertida))\n",
    "\n",
    "\n",
    "### Convertendo de string para list\n",
    "\n",
    "lista = ListaConvertida.split(';')\n",
    "print(lista)\n",
    "print(type(lista))"
   ]
  },
  {
   "cell_type": "code",
   "execution_count": null,
   "metadata": {},
   "outputs": [],
   "source": [
    "MoedasConvertidas = ';'.join(Moedas)\n",
    "print(MoedasConvertidas)\n",
    "print(type(MoedasConvertidas))\n",
    "\n",
    "MoedasLista = MoedasConvertidas.split(';')\n",
    "print(MoedasLista)\n",
    "print(type(MoedasLista))\n"
   ]
  },
  {
   "cell_type": "code",
   "execution_count": null,
   "metadata": {},
   "outputs": [],
   "source": [
    "### Tuplas(tuple) - Criamos utilizando () || Separamos os elementos por virgula \n",
    "### Tuplas não pode ser alterada a estrutura de criação\n",
    "\n",
    "valores = ('diogo','maya','rosa')\n",
    "print(valores)\n",
    "type(valores)"
   ]
  },
  {
   "cell_type": "code",
   "execution_count": null,
   "metadata": {},
   "outputs": [],
   "source": [
    "my_list = [1, 2] ### Criando Lista\n",
    "my_list[0] = 10\n",
    "print(my_list)\n",
    "type(my_list)\n"
   ]
  },
  {
   "cell_type": "code",
   "execution_count": null,
   "metadata": {},
   "outputs": [],
   "source": [
    "my_tuple = (1, 2) ### Criando tuplas\n",
    "\n",
    "print(my_tuple)\n",
    "type(my_tuple)\n",
    "\n",
    "try:\n",
    "    my_tuple[0] = 3\n",
    "except TypeError:\n",
    "    print('Tuplas não é possivel alterar')\n"
   ]
  },
  {
   "cell_type": "code",
   "execution_count": null,
   "metadata": {},
   "outputs": [],
   "source": [
    "### Tuplas é idael para criação de função\n",
    "### Criando uma função com tuplas\n",
    "\n",
    "def sum_and_product (x, y):\n",
    "    return (x + y),(x * y)"
   ]
  },
  {
   "cell_type": "code",
   "execution_count": null,
   "metadata": {},
   "outputs": [],
   "source": [
    "### Chamando a função criado\n",
    "print(sum_and_product(10,5))\n",
    "print(type(sum_and_product(10,5)))"
   ]
  },
  {
   "cell_type": "code",
   "execution_count": null,
   "metadata": {},
   "outputs": [],
   "source": [
    "### Dicionarios\n",
    "### Dicionarios são estruturas\n",
    "### Chave: Valor que permite associar valores a um identificador.\n",
    "### *** É criado com Chaves {}\n",
    "### *** Permite alterações\n",
    "\n",
    "'''\n",
    "Exemplo:\n",
    "Chave || Valor\n",
    "'Ana':10\n",
    "'Jorge':cpf,rg,sexo\n",
    "'Maria':horario,turma,sala\n",
    "'''"
   ]
  },
  {
   "cell_type": "code",
   "execution_count": null,
   "metadata": {},
   "outputs": [],
   "source": [
    "### Criando um Dicionario\n",
    "d_altura = {\n",
    "    'Amanda':1.65\n",
    "    ,'Ana':1.72\n",
    "    ,'Joao':1.5\n",
    "}\n",
    "print(d_altura)\n",
    "type(d_altura)\n",
    "\n",
    "\n",
    "d_peso = {\n",
    "    'Amanda':60\n",
    "    ,'Ana':82\n",
    "    ,'Joao':100\n",
    "}\n",
    "print(d_peso)\n",
    "type(d_peso)"
   ]
  },
  {
   "cell_type": "code",
   "execution_count": null,
   "metadata": {},
   "outputs": [],
   "source": [
    "### Acessar/filtra as informações do dicionairio\n",
    "d_altura['Amanda']"
   ]
  },
  {
   "cell_type": "code",
   "execution_count": null,
   "metadata": {},
   "outputs": [],
   "source": [
    "### Exercício 05 - Criando dicionario referente o almoço da servido na semana\n",
    "'''\n",
    "Crie um dicionário chamado cardápio em que as chaves são os  dias da semana e os respectivos valores sejam os pratos do dia\n",
    "'''\n",
    "\n",
    "AlmocoSemanal = {\n",
    "     'Segunda':'Virada Paulista'\n",
    "    ,'Terca':'Peixe'\n",
    "    ,'Quarta':'Feijoada'\n",
    "    ,'Quinta':'Lasanha'\n",
    "    ,'Sexta':'Churasco'\n",
    "    ,'Sabado':'Feijoada'\n",
    "    ,'Domingo':'Fechado'\n",
    "\n",
    "}\n",
    "\n",
    "print(AlmocoSemanal)\n",
    "print(AlmocoSemanal['Terca'])"
   ]
  },
  {
   "cell_type": "code",
   "execution_count": null,
   "metadata": {},
   "outputs": [],
   "source": [
    "### Exercício 06 - Criando dicionario de hemograma\n",
    "'''\n",
    "Crie um dicionário chamado hemograma que contenha as  seguintes chaves:valor. \n",
    "'''\n",
    "hemograma = {\n",
    "    'hemacias':4.71\n",
    "    ,'hemoglobina':14.1\n",
    "    ,'hematocrito':41.2\n",
    "    ,'linfócitos':38\n",
    "    ,'monocitos':7\n",
    "    ,'resultado':'saudável' \n",
    "}\n",
    "\n",
    "print(hemograma)\n",
    "\n",
    "print(hemograma['resultado'])\n"
   ]
  },
  {
   "cell_type": "code",
   "execution_count": null,
   "metadata": {},
   "outputs": [],
   "source": [
    "### Alterar dado no dicionario\n",
    "\n",
    "### Exercício 07 - Corrija o dicionário acima com monocitos:12\n",
    "\n",
    "hemograma['monocitos']=12\n",
    "\n",
    "print(hemograma)\n",
    "\n",
    "print(hemograma['monocitos'])"
   ]
  },
  {
   "cell_type": "code",
   "execution_count": null,
   "metadata": {},
   "outputs": [],
   "source": [
    "### Aula 27/10/2023\n",
    "### Estrutura de Repetição\n",
    "\n",
    "### for \"variavel\" in \"lista de elementos\" - O \"in\" captura e retor a informação para o \"for\" de acordo com a quantidade de elementos\n",
    "### for /while"
   ]
  },
  {
   "cell_type": "code",
   "execution_count": 10,
   "metadata": {},
   "outputs": [
    {
     "name": "stdout",
     "output_type": "stream",
     "text": [
      "A\n",
      "E\n",
      "B\n",
      "Z\n",
      "E\n"
     ]
    }
   ],
   "source": [
    "repeticao = ['A','E','B','Z','E']\n",
    "for repeticao in repeticao:\n",
    "    print(repeticao)"
   ]
  },
  {
   "cell_type": "code",
   "execution_count": 18,
   "metadata": {},
   "outputs": [
    {
     "name": "stdout",
     "output_type": "stream",
     "text": [
      "zebra\n"
     ]
    }
   ],
   "source": [
    "### Incluindo um condição \"if\" dentro do \"for\"\n",
    "\n",
    "repeticao = ['abacaxi','elefante','banana','zebra','cobra']\n",
    "for repeticao in repeticao:\n",
    "    if repeticao.startswith('eb'):\n",
    "        print(repeticao)"
   ]
  },
  {
   "cell_type": "code",
   "execution_count": 29,
   "metadata": {},
   "outputs": [
    {
     "name": "stdout",
     "output_type": "stream",
     "text": [
      "1\n",
      "3\n",
      "6\n",
      "10\n",
      "15\n",
      "21\n",
      "28\n",
      "36\n",
      "45\n",
      "55\n",
      "55\n"
     ]
    }
   ],
   "source": [
    "### Incluindo a variaveç Acumuladora/\"soma\" no \"for\"\n",
    "\n",
    "numerofor = [1,2,3,4,5,6,7,8,9,10]\n",
    "soma = 0 # Variavel Acumuladora\n",
    "for numerofor in numerofor:\n",
    "    soma=soma + numerofor\n",
    "    print(soma) ### Apresenta o processo completa\n",
    "print(soma) ### Apresenta somente o resultado final\n"
   ]
  },
  {
   "cell_type": "code",
   "execution_count": 57,
   "metadata": {},
   "outputs": [
    {
     "name": "stdout",
     "output_type": "stream",
     "text": [
      "1\n",
      "2\n",
      "3\n",
      "4\n",
      "5\n",
      "6\n",
      "7\n",
      "8\n",
      "9\n",
      "10\n",
      "11\n",
      "12\n",
      "13\n",
      "14\n",
      "15\n",
      "16\n",
      "17\n",
      "18\n",
      "19\n",
      "20\n"
     ]
    }
   ],
   "source": [
    "### Exercício 06 - Listar numero diagonal e horizontal\n",
    "### Adicionando a função \"range\" \n",
    "'''\n",
    "Faça um programa que imprima na tela os números de 1 a 20, um abaixo\n",
    "do outro. Depois modifique o programa para que ele mostre os números um ao lado do\n",
    "outro.\n",
    "'''\n",
    "\n",
    "rangernumeto = range(1,21)\n",
    "\n",
    "for rangernumeto in rangernumeto:\n",
    "    if rangernumeto >0:\n",
    "        print(rangernumeto)\n"
   ]
  },
  {
   "cell_type": "code",
   "execution_count": 61,
   "metadata": {},
   "outputs": [
    {
     "name": "stdout",
     "output_type": "stream",
     "text": [
      "[1]\n",
      "[1, 2]\n",
      "[1, 2, 3]\n",
      "[1, 2, 3, 4]\n",
      "[1, 2, 3, 4, 5]\n",
      "[1, 2, 3, 4, 5, 6]\n",
      "[1, 2, 3, 4, 5, 6, 7]\n",
      "[1, 2, 3, 4, 5, 6, 7, 8]\n",
      "[1, 2, 3, 4, 5, 6, 7, 8, 9]\n",
      "[1, 2, 3, 4, 5, 6, 7, 8, 9, 10]\n",
      "[1, 2, 3, 4, 5, 6, 7, 8, 9, 10, 11]\n",
      "[1, 2, 3, 4, 5, 6, 7, 8, 9, 10, 11, 12]\n",
      "[1, 2, 3, 4, 5, 6, 7, 8, 9, 10, 11, 12, 13]\n",
      "[1, 2, 3, 4, 5, 6, 7, 8, 9, 10, 11, 12, 13, 14]\n",
      "[1, 2, 3, 4, 5, 6, 7, 8, 9, 10, 11, 12, 13, 14, 15]\n",
      "[1, 2, 3, 4, 5, 6, 7, 8, 9, 10, 11, 12, 13, 14, 15, 16]\n",
      "[1, 2, 3, 4, 5, 6, 7, 8, 9, 10, 11, 12, 13, 14, 15, 16, 17]\n",
      "[1, 2, 3, 4, 5, 6, 7, 8, 9, 10, 11, 12, 13, 14, 15, 16, 17, 18]\n",
      "[1, 2, 3, 4, 5, 6, 7, 8, 9, 10, 11, 12, 13, 14, 15, 16, 17, 18, 19]\n",
      "[1, 2, 3, 4, 5, 6, 7, 8, 9, 10, 11, 12, 13, 14, 15, 16, 17, 18, 19, 20]\n"
     ]
    }
   ],
   "source": [
    "rangernumeto = range(1,21)\n",
    "listavazia = [] ## lista vazia\n",
    "\n",
    "for inserirnumeros in rangernumeto:\n",
    "    listavazia.append(inserirnumeros) ## Inserir dado em uma lista vazia, utilizando o append\n",
    "    print(listavazia)"
   ]
  },
  {
   "cell_type": "code",
   "execution_count": 80,
   "metadata": {},
   "outputs": [
    {
     "name": "stdout",
     "output_type": "stream",
     "text": [
      "[1, 2, 3, 4, 5]\n",
      "O maior valor é 15\n",
      "O maior valor é 5\n",
      "O menor valor é 1\n",
      "Você informou 5 elementos\n"
     ]
    }
   ],
   "source": [
    "### Exercício 07 - Exercicio função sum, min, len\n",
    "'''\n",
    "Faça um programa que leia 5 números e informe o maior número. \n",
    "'''\n",
    "listacontrole = range(1,6) ## numero de elementos necessario\n",
    "listavazia = [] ## lista vazia\n",
    "for i in listacontrole: ## Contrele a posição range()\n",
    "    digitenumero= int(input(f'Informe o numero {i}')) ## Inserir dado em uma lista vazia, utilizando o append\n",
    "    listavazia.append(digitenumero) ## Inserir dado em uma lista vazia, utilizando o append\n",
    "print(listavazia)\n",
    "print(f'O maior valor é {sum(listavazia)}') ## soma dos elemento ou valores\n",
    "print(f'O maior valor é {max(listavazia)}') ## maior valor\n",
    "print(f'O menor valor é {min(listavazia)}') ## menor valor\n",
    "print(f'Você informou {len(listavazia)} elementos') ## conta a quantidade de elemento ou itens\n"
   ]
  },
  {
   "cell_type": "code",
   "execution_count": 88,
   "metadata": {},
   "outputs": [
    {
     "name": "stdout",
     "output_type": "stream",
     "text": [
      "[4, 1, 62, 5, 6]\n",
      "O maior valor é 78\n",
      "O maior valor é 62\n",
      "O menor valor é 1\n",
      "Quantidade de elementos 5\n",
      "O maior valor é 15.6\n"
     ]
    }
   ],
   "source": [
    "### Exercício 08 - Inserindo o len() e a media (soma e media, utilizando sum e len)\n",
    "'''\n",
    "Faça um programa que leia 5 números e informe a soma e a média dos  números. \n",
    "'''\n",
    "\n",
    "listacontrole = range(1,6) ## numero de elementos necessario\n",
    "listavazia = [] ## lista vazia\n",
    "for i in listacontrole: ## Contrele a posição range()\n",
    "    digitenumero= int(input(f'Informe o numero {i}')) ## Inserir dado em uma lista vazia, utilizando o append\n",
    "    listavazia.append(digitenumero) ## Inserir dado em uma lista vazia, utilizando o append\n",
    "print(listavazia)\n",
    "print(f'O maior valor é {sum(listavazia)}') ## soma dos elemento ou valores\n",
    "print(f'O maior valor é {max(listavazia)}') ## maior valor\n",
    "print(f'O menor valor é {min(listavazia)}') ## menor valor\n",
    "print(f'Quantidade de elementos {len(listavazia)}') ## conta a quantidade de elemento ou itens\n",
    "print(f'O maior valor é {round(float((sum(listavazia)/len(listavazia))),1)}') ## soma e media, utilizando sum e len\n"
   ]
  },
  {
   "cell_type": "code",
   "execution_count": 113,
   "metadata": {},
   "outputs": [
    {
     "name": "stdout",
     "output_type": "stream",
     "text": [
      "1\n",
      "3\n",
      "5\n",
      "7\n",
      "9\n",
      "11\n",
      "13\n",
      "15\n",
      "17\n",
      "19\n",
      "21\n",
      "23\n",
      "25\n",
      "27\n",
      "29\n",
      "31\n",
      "33\n",
      "35\n",
      "37\n",
      "39\n",
      "41\n",
      "43\n",
      "45\n",
      "47\n",
      "49\n"
     ]
    }
   ],
   "source": [
    "### Exercício 09 - Apresentar numeros impares\n",
    "'''\n",
    "Faça um programa que imprima na tela apenas os números ímpares  entre 1 e 50. \n",
    "'''\n",
    "listacontrole = range(1,51) ## numero de elementos necessario\n",
    "for i in listacontrole: ## Contrele a posição range()\n",
    "    if i % 2 != 0:\n",
    "        print(i)\n"
   ]
  },
  {
   "cell_type": "code",
   "execution_count": 159,
   "metadata": {},
   "outputs": [
    {
     "name": "stdout",
     "output_type": "stream",
     "text": [
      "[1, 2]\n",
      "Valor total 3\n"
     ]
    }
   ],
   "source": [
    "### Exercício 10 - \n",
    "'''\n",
    "Faça um programa que receba dois números inteiros e gere os números  inteiros que estão no intervalo compreendido por eles. \n",
    "'''\n",
    "listacontrole = range(int(input(\"Informe o 1° numero\")),int(input(\"Informe o 2° numero\"))) ## numero de elementos necessario\n",
    "listavazia = [] ## lista vazia\n",
    "for i in listacontrole: ## Contrele a posição range()\n",
    "        digitenumero = i\n",
    "        listavazia.append(digitenumero) ## Inserir dado em uma lista vazia, utilizando o append\n",
    "        ##print(i)\n",
    "print(listavazia)\n",
    "\n",
    "### Exercício 11 - Efetuando uma soma\n",
    "'''\n",
    "Altere o programa anterior para mostrar no final a soma dos números. \n",
    "'''\n",
    "print(f'Valor total {sum(listavazia)}') ## soma dos elemento ou valores\n"
   ]
  },
  {
   "cell_type": "code",
   "execution_count": 158,
   "metadata": {},
   "outputs": [
    {
     "name": "stdout",
     "output_type": "stream",
     "text": [
      "Valor da variavel x = 1\n",
      "Valor da variavel soma = 1\n",
      "Valor da variavel x = 2\n",
      "Valor da variavel soma = 3\n",
      "Valor da variavel x = 3\n",
      "Valor da variavel soma = 6\n"
     ]
    }
   ],
   "source": [
    "### Exercício 10 - Outra forma de fazer\n",
    "\n",
    "numInferior = int(input(\"Informe o 1° numero\"))\n",
    "numsuperior = int(input(\"Informe o 2° numero\")) ## numero de elementos necessario\n",
    "soma = 0\n",
    "for x in range(numInferior,numsuperior +1):\n",
    "    soma += x\n",
    "    print('Valor da variavel x =',x)\n",
    "    print(f'Valor da variavel soma = {soma}')"
   ]
  },
  {
   "cell_type": "code",
   "execution_count": 169,
   "metadata": {},
   "outputs": [
    {
     "name": "stdout",
     "output_type": "stream",
     "text": [
      "11 x 0 = 0\n",
      "11 x 1 = 11\n",
      "11 x 2 = 22\n",
      "11 x 3 = 33\n",
      "11 x 4 = 44\n",
      "11 x 5 = 55\n",
      "11 x 6 = 66\n",
      "11 x 7 = 77\n",
      "11 x 8 = 88\n",
      "11 x 9 = 99\n",
      "11 x 10 = 110\n"
     ]
    }
   ],
   "source": [
    "### Exercício 12 - Criando uma Tabuada\n",
    "'''\n",
    "Desenvolva um gerador de tabuada, capaz de gerar a tabuada de  qualquer número inteiro entre 1 a 10. \n",
    "O usuário deve informar de qual numero ele deseja  ver a tabuada. A saída deve ser conforme o exemplo abaixo: \n",
    "'''\n",
    "tabuada = int(input(\"Digite o numero da tabuada\"))\n",
    "for multiplicador in range(11):\n",
    "    print(f'{tabuada} x {multiplicador} = {tabuada * multiplicador}')"
   ]
  },
  {
   "cell_type": "code",
   "execution_count": null,
   "metadata": {},
   "outputs": [],
   "source": [
    "### Estrutura de Repetição \"While\"\n",
    "'''\n",
    "\"While\" Condição ex( ==, >, <, >=, <=, !=)\n",
    "Ações a serem reoetidas enquanto a condição for \"VERDADEIRA\"\n",
    "'''"
   ]
  },
  {
   "cell_type": "code",
   "execution_count": 174,
   "metadata": {},
   "outputs": [
    {
     "name": "stdout",
     "output_type": "stream",
     "text": [
      "1\n",
      "2\n",
      "3\n",
      "4\n",
      "5\n",
      "6\n",
      "7\n",
      "8\n",
      "9\n",
      "10\n"
     ]
    }
   ],
   "source": [
    "### LOOP WHILE\n",
    "'''\n",
    "A estrutura de repetição \"while\" é utilizada quando precisamos repetir uma ação alguma vezes ou fazer uma interação até que uma condição seja satisfeita\n",
    "'''\n",
    "\n",
    "i = 1 ## Variavel de controle\n",
    "soma = 0 ## Variavel acumulado\n",
    "\n",
    "while i <= 10:\n",
    "    soma +=1\n",
    "    i += 1\n",
    "    print(soma)"
   ]
  }
 ],
 "metadata": {
  "kernelspec": {
   "display_name": "Python 3",
   "language": "python",
   "name": "python3"
  },
  "language_info": {
   "codemirror_mode": {
    "name": "ipython",
    "version": 3
   },
   "file_extension": ".py",
   "mimetype": "text/x-python",
   "name": "python",
   "nbconvert_exporter": "python",
   "pygments_lexer": "ipython3",
   "version": "3.11.0"
  }
 },
 "nbformat": 4,
 "nbformat_minor": 2
}
