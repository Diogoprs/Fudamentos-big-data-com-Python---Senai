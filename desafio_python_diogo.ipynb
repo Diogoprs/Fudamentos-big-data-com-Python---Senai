{
 "cells": [
  {
   "cell_type": "code",
   "execution_count": 1,
   "metadata": {},
   "outputs": [],
   "source": [
    "###import bibliotecas\n",
    "\n",
    "import pandas as pd     ### Pandas\n",
    "import numpy as np      ### Bibliotecas de processamento de dados\n",
    "import matplotlib.pyplot as mat ### import biblioteca matplotlib\n",
    "import seaborn as seab  ## Biblioteca de graficos\n",
    "import os as os         ### Bibliotecas do python, para gerenciar o sistema operacional\n",
    "from sklearn.model_selection import train_test_split # Dividir amostras"
   ]
  },
  {
   "cell_type": "code",
   "execution_count": 15,
   "metadata": {},
   "outputs": [
    {
     "name": "stdout",
     "output_type": "stream",
     "text": [
      "../Desafio_Python_diogo/arquivos/Vendas 2017.xlsx\n",
      "../Desafio_Python_diogo/arquivos/Vendas 2018.xlsx\n",
      "../Desafio_Python_diogo/arquivos/Vendas 2019.xlsx\n",
      "../Desafio_Python_diogo/arquivos/Vendas 2020.xlsx\n",
      "../Desafio_Python_diogo/arquivos/Vendas 2021.xlsx\n",
      "../Desafio_Python_diogo/arquivos/Vendas 2022.xlsx\n"
     ]
    },
    {
     "data": {
      "text/plain": [
       "['../Desafio_Python_diogo/arquivos/Vendas 2017.xlsx',\n",
       " '../Desafio_Python_diogo/arquivos/Vendas 2018.xlsx',\n",
       " '../Desafio_Python_diogo/arquivos/Vendas 2019.xlsx',\n",
       " '../Desafio_Python_diogo/arquivos/Vendas 2020.xlsx',\n",
       " '../Desafio_Python_diogo/arquivos/Vendas 2021.xlsx',\n",
       " '../Desafio_Python_diogo/arquivos/Vendas 2022.xlsx']"
      ]
     },
     "execution_count": 15,
     "metadata": {},
     "output_type": "execute_result"
    }
   ],
   "source": [
    "#### Carregar diverços arquivos\n",
    "caminhoarquivo = '../Desafio_Python_diogo/arquivos/'\n",
    "os.listdir(caminhoarquivo) ## Verificar os arquivos que contem na pasta\n",
    "\n",
    "diretorio = []  ## Criando um lista/caminho vazio\n",
    "for file in os.listdir(caminhoarquivo): ## localizando os arquivos com \"os\"\n",
    "    if file.endswith('.xlsx'): ## filtro em string\n",
    "            print(caminhoarquivo + file)\n",
    "            diretorio.append(caminhoarquivo + file)\n",
    "diretorio"
   ]
  },
  {
   "cell_type": "code",
   "execution_count": 20,
   "metadata": {},
   "outputs": [
    {
     "name": "stdout",
     "output_type": "stream",
     "text": [
      "      DataEmissao DataVencimento      NFe  cdCliente  cdVendedor  cdProduto  \\\n",
      "0      2017-01-12     2017-02-22  1492762    3140218         265       1073   \n",
      "1      2017-01-12     2017-02-22  1492762    3140218         265       1420   \n",
      "2      2017-01-12     2017-02-22  1492762    3140218         265        264   \n",
      "3      2017-01-13     2017-01-29  1492719    2983332         265       1154   \n",
      "4      2017-01-13     2017-01-29  1492719    2983332         265       1527   \n",
      "...           ...            ...      ...        ...         ...        ...   \n",
      "14243  2022-03-12     2022-04-14  2173547     673190         265        202   \n",
      "14244  2022-03-12     2022-04-14  2173547     673190         265       1154   \n",
      "14245  2022-03-12     2022-04-14  2173547     673190         265        668   \n",
      "14246  2022-03-12     2022-04-14  2173547     673190         265       1527   \n",
      "14247  2022-03-13     2022-04-05  2172961    3771379         215        257   \n",
      "\n",
      "       QtdItens  ValorUnitario  Peso Líquido  \n",
      "0             6           8.83          0.60  \n",
      "1             6           4.44          5.40  \n",
      "2            10           0.96          1.92  \n",
      "3             6           2.92          1.26  \n",
      "4             6           2.81          1.40  \n",
      "...         ...            ...           ...  \n",
      "14243        24           1.62          1.50  \n",
      "14244        12           3.25          1.75  \n",
      "14245        12           3.26          1.00  \n",
      "14246        12           3.14          1.00  \n",
      "14247         6           4.42          1.20  \n",
      "\n",
      "[302840 rows x 9 columns]\n"
     ]
    }
   ],
   "source": [
    "### Subir varios arquivos - Abri arquivos e agrupar todos arquivos\n",
    "\n",
    "arquivos_emp = pd.DataFrame()\n",
    "for arquivo in diretorio:\n",
    "    # print(arquivo)\n",
    "    filearquivos = pd.read_excel(arquivo)\n",
    "    arquivos_emp = pd.concat([arquivos_emp,filearquivos]) ##pd.concat - comando para juntar dataframe \"destino,origem\"\n",
    "print(arquivos_emp)"
   ]
  },
  {
   "cell_type": "code",
   "execution_count": 21,
   "metadata": {},
   "outputs": [],
   "source": [
    "### Salvar dataframe com arquivos na pasta\n",
    "\n",
    "arquivos_emp.to_csv('../Desafio_Python_diogo/arquivos/arquivo_consolidado.csv')"
   ]
  },
  {
   "cell_type": "code",
   "execution_count": 121,
   "metadata": {},
   "outputs": [
    {
     "name": "stdout",
     "output_type": "stream",
     "text": [
      "<class 'pandas.core.frame.DataFrame'>\n",
      "RangeIndex: 792 entries, 3 to 794\n",
      "Data columns (total 3 columns):\n",
      " #   Column      Non-Null Count  Dtype \n",
      "---  ------      --------------  ----- \n",
      " 0   cdvendedor  792 non-null    object\n",
      " 1   data        792 non-null    object\n",
      " 2   meta        792 non-null    object\n",
      "dtypes: object(3)\n",
      "memory usage: 18.7+ KB\n",
      "None\n",
      "cdvendedor    0\n",
      "data          0\n",
      "meta          0\n",
      "dtype: int64\n",
      "Qtde duplicado: 0\n"
     ]
    }
   ],
   "source": [
    "### criando novos daframe\n",
    "## Criar dataframe - Metas\n",
    "\n",
    "## Criar dataframe - base-meta-new\n",
    "arquivosmetas = '../Desafio_Python_diogo/arquivos/base-meta-new.xlsx'\n",
    "arquivosmetas\n",
    "metas = pd.read_excel(arquivosmetas)\n",
    "metas = metas.iloc[3:,1:] ## Comando loc, localizar [linha,colunas] - LOC OU ILOC\n",
    "metas.reset_index(0,drop=True) ## reset.index - recalcular o indice para iniciar do 0\n",
    "metas.columns=['cdvendedor','data','meta'] ##renomear todas os titulos\n",
    "print(metas.info()) ##Verificar informações\n",
    "print(metas.isnull().sum()) ##Verificar Nulos\n",
    "print(f'Qtde duplicado: {metas.duplicated().sum()}') ## Verificar os itens duplicados, por quantidade"
   ]
  },
  {
   "cell_type": "code",
   "execution_count": 120,
   "metadata": {},
   "outputs": [
    {
     "name": "stdout",
     "output_type": "stream",
     "text": [
      "<class 'pandas.core.frame.DataFrame'>\n",
      "RangeIndex: 1411 entries, 0 to 1410\n",
      "Data columns (total 6 columns):\n",
      " #   Column        Non-Null Count  Dtype \n",
      "---  ------        --------------  ----- \n",
      " 0   cdcliente     1411 non-null   int64 \n",
      " 1   razao_social  1411 non-null   object\n",
      " 2   status        1411 non-null   object\n",
      " 3   categoria     1411 non-null   object\n",
      " 4   cidade        1411 non-null   object\n",
      " 5   uf            1411 non-null   object\n",
      "dtypes: int64(1), object(5)\n",
      "memory usage: 66.3+ KB\n",
      "None\n",
      "cdcliente       0\n",
      "razao_social    0\n",
      "status          0\n",
      "categoria       0\n",
      "cidade          0\n",
      "uf              0\n",
      "dtype: int64\n",
      "Qtde duplicado: 0\n"
     ]
    }
   ],
   "source": [
    "### Renomear titulos - clientes\n",
    "arquivosdimensoes = '../Desafio_Python_diogo/arquivos/Dimensões.xlsx'\n",
    "clientes = pd.read_excel(arquivosdimensoes, sheet_name='Cliente')\n",
    "clientes.columns = ['cdcliente','razao_social','status','categoria','cidade','uf']\n",
    "print(clientes.info()) ##Verificar informações\n",
    "print(clientes.isnull().sum()) ##Verificar Nulos\n",
    "print(f'Qtde duplicado: {clientes.duplicated().sum()}') ## Verificar os itens duplicados, por quantidade"
   ]
  },
  {
   "cell_type": "code",
   "execution_count": 119,
   "metadata": {},
   "outputs": [
    {
     "name": "stdout",
     "output_type": "stream",
     "text": [
      "<class 'pandas.core.frame.DataFrame'>\n",
      "RangeIndex: 2736 entries, 0 to 2735\n",
      "Data columns (total 3 columns):\n",
      " #   Column     Non-Null Count  Dtype \n",
      "---  ------     --------------  ----- \n",
      " 0   cdproduto  2736 non-null   int64 \n",
      " 1   descricao  2736 non-null   object\n",
      " 2   cdgrupo    2736 non-null   int64 \n",
      "dtypes: int64(2), object(1)\n",
      "memory usage: 64.2+ KB\n",
      "None\n",
      "cdproduto    0\n",
      "descricao    0\n",
      "cdgrupo      0\n",
      "dtype: int64\n",
      "Qtde duplicado: 0\n"
     ]
    }
   ],
   "source": [
    "arquivosdimensoes = '../Desafio_Python_diogo/arquivos/Dimensões.xlsx'\n",
    "Produto = pd.read_excel(arquivosdimensoes, sheet_name='Produto')\n",
    "Produto.columns = ['cdproduto','descricao','cdgrupo']\n",
    "print(Produto.info()) ##Verificar informações\n",
    "print(Produto.isnull().sum()) ##Verificar Nulos\n",
    "print(f'Qtde duplicado: {Produto.duplicated().sum()}') ## Verificar os itens duplicados, por quantidade"
   ]
  },
  {
   "cell_type": "code",
   "execution_count": 118,
   "metadata": {},
   "outputs": [
    {
     "name": "stdout",
     "output_type": "stream",
     "text": [
      "<class 'pandas.core.frame.DataFrame'>\n",
      "RangeIndex: 36 entries, 0 to 35\n",
      "Data columns (total 3 columns):\n",
      " #   Column   Non-Null Count  Dtype \n",
      "---  ------   --------------  ----- \n",
      " 0   cdgrupo  36 non-null     int64 \n",
      " 1   grupo    36 non-null     object\n",
      " 2   linha    36 non-null     object\n",
      "dtypes: int64(1), object(2)\n",
      "memory usage: 992.0+ bytes\n",
      "None\n",
      "cdgrupo    0\n",
      "grupo      0\n",
      "linha      0\n",
      "dtype: int64\n",
      "Qtde duplicado: 0\n"
     ]
    }
   ],
   "source": [
    "arquivosdimensoes = '../Desafio_Python_diogo/arquivos/Dimensões.xlsx'\n",
    "GrupoProduto = pd.read_excel(arquivosdimensoes, sheet_name='GrupoProduto')\n",
    "GrupoProduto.columns = ['cdgrupo','grupo','linha']\n",
    "print(GrupoProduto.info()) ##Verificar informações\n",
    "print(GrupoProduto.isnull().sum()) ##Verificar Nulos\n",
    "print(f'Qtde duplicado: {GrupoProduto.duplicated().sum()}') ## Verificar os itens duplicados, por quantidade\n"
   ]
  },
  {
   "cell_type": "code",
   "execution_count": 117,
   "metadata": {},
   "outputs": [
    {
     "name": "stdout",
     "output_type": "stream",
     "text": [
      "<class 'pandas.core.frame.DataFrame'>\n",
      "RangeIndex: 12 entries, 0 to 11\n",
      "Data columns (total 7 columns):\n",
      " #   Column        Non-Null Count  Dtype \n",
      "---  ------        --------------  ----- \n",
      " 0   cdvendedor    12 non-null     int64 \n",
      " 1   vendedor      12 non-null     object\n",
      " 2   cdsupervisor  12 non-null     int64 \n",
      " 3   supervisor    12 non-null     object\n",
      " 4   cdgerente     12 non-null     int64 \n",
      " 5   gerente       12 non-null     object\n",
      " 6   equipe        12 non-null     object\n",
      "dtypes: int64(3), object(4)\n",
      "memory usage: 800.0+ bytes\n",
      "None\n",
      "cdvendedor      0\n",
      "vendedor        0\n",
      "cdsupervisor    0\n",
      "supervisor      0\n",
      "cdgerente       0\n",
      "gerente         0\n",
      "equipe          0\n",
      "dtype: int64\n",
      "Qtde duplicado: 0\n"
     ]
    }
   ],
   "source": [
    "arquivosdimensoes = '../Desafio_Python_diogo/arquivos/Dimensões.xlsx'\n",
    "Vendedor = pd.read_excel(arquivosdimensoes, sheet_name='Vendedor')\n",
    "Vendedor.columns = ['cdvendedor','vendedor','cdsupervisor','supervisor','cdgerente','gerente','equipe']\n",
    "print(Vendedor.info()) ##Verificar informações\n",
    "print(Vendedor.isnull().sum()) ##Verificar Nulos\n",
    "print(f'Qtde duplicado: {Vendedor.duplicated().sum()}') ## Verificar os itens duplicados, por quantidade"
   ]
  },
  {
   "cell_type": "code",
   "execution_count": 116,
   "metadata": {},
   "outputs": [
    {
     "name": "stdout",
     "output_type": "stream",
     "text": [
      "<class 'pandas.core.frame.DataFrame'>\n",
      "RangeIndex: 1095 entries, 0 to 1094\n",
      "Data columns (total 5 columns):\n",
      " #   Column  Non-Null Count  Dtype         \n",
      "---  ------  --------------  -----         \n",
      " 0   data    1095 non-null   datetime64[ns]\n",
      " 1   ano     1095 non-null   int64         \n",
      " 2   mes     1095 non-null   object        \n",
      " 3   mesnum  1095 non-null   int64         \n",
      " 4   dia     1095 non-null   int64         \n",
      "dtypes: datetime64[ns](1), int64(3), object(1)\n",
      "memory usage: 42.9+ KB\n",
      "None\n",
      "data      0\n",
      "ano       0\n",
      "mes       0\n",
      "mesnum    0\n",
      "dia       0\n",
      "dtype: int64\n",
      "Qtde duplicado: 0\n"
     ]
    }
   ],
   "source": [
    "arquivosdimensoes = '../Desafio_Python_diogo/arquivos/Dimensões.xlsx'\n",
    "Data = pd.read_excel(arquivosdimensoes, sheet_name='Data')\n",
    "Data.columns = ['data','ano','mes','mesnum','dia']\n",
    "print(Data.info()) ##Verificar informações\n",
    "print(Data.isnull().sum()) ##Verificar Nulos\n",
    "print(f'Qtde duplicado: {Data.duplicated().sum()}') ## Verificar os itens duplicados, por quantidade\n"
   ]
  },
  {
   "cell_type": "code",
   "execution_count": 138,
   "metadata": {},
   "outputs": [
    {
     "data": {
      "text/html": [
       "<div>\n",
       "<style scoped>\n",
       "    .dataframe tbody tr th:only-of-type {\n",
       "        vertical-align: middle;\n",
       "    }\n",
       "\n",
       "    .dataframe tbody tr th {\n",
       "        vertical-align: top;\n",
       "    }\n",
       "\n",
       "    .dataframe thead th {\n",
       "        text-align: right;\n",
       "    }\n",
       "</style>\n",
       "<table border=\"1\" class=\"dataframe\">\n",
       "  <thead>\n",
       "    <tr style=\"text-align: right;\">\n",
       "      <th></th>\n",
       "      <th>DataEmissao</th>\n",
       "      <th>DataVencimento</th>\n",
       "      <th>NFe</th>\n",
       "      <th>cdCliente</th>\n",
       "      <th>cdVendedor</th>\n",
       "      <th>cdProduto</th>\n",
       "      <th>QtdItens</th>\n",
       "      <th>ValorUnitario</th>\n",
       "      <th>Peso Líquido</th>\n",
       "      <th>valortotal</th>\n",
       "    </tr>\n",
       "  </thead>\n",
       "  <tbody>\n",
       "    <tr>\n",
       "      <th>0</th>\n",
       "      <td>2017-01-12</td>\n",
       "      <td>2017-02-22</td>\n",
       "      <td>1492762</td>\n",
       "      <td>3140218</td>\n",
       "      <td>265</td>\n",
       "      <td>1073</td>\n",
       "      <td>6</td>\n",
       "      <td>8.83</td>\n",
       "      <td>0.60</td>\n",
       "      <td>52.98</td>\n",
       "    </tr>\n",
       "    <tr>\n",
       "      <th>1</th>\n",
       "      <td>2017-01-12</td>\n",
       "      <td>2017-02-22</td>\n",
       "      <td>1492762</td>\n",
       "      <td>3140218</td>\n",
       "      <td>265</td>\n",
       "      <td>1420</td>\n",
       "      <td>6</td>\n",
       "      <td>4.44</td>\n",
       "      <td>5.40</td>\n",
       "      <td>26.64</td>\n",
       "    </tr>\n",
       "    <tr>\n",
       "      <th>2</th>\n",
       "      <td>2017-01-12</td>\n",
       "      <td>2017-02-22</td>\n",
       "      <td>1492762</td>\n",
       "      <td>3140218</td>\n",
       "      <td>265</td>\n",
       "      <td>264</td>\n",
       "      <td>10</td>\n",
       "      <td>0.96</td>\n",
       "      <td>1.92</td>\n",
       "      <td>9.60</td>\n",
       "    </tr>\n",
       "    <tr>\n",
       "      <th>3</th>\n",
       "      <td>2017-01-13</td>\n",
       "      <td>2017-01-29</td>\n",
       "      <td>1492719</td>\n",
       "      <td>2983332</td>\n",
       "      <td>265</td>\n",
       "      <td>1154</td>\n",
       "      <td>6</td>\n",
       "      <td>2.92</td>\n",
       "      <td>1.26</td>\n",
       "      <td>17.52</td>\n",
       "    </tr>\n",
       "    <tr>\n",
       "      <th>4</th>\n",
       "      <td>2017-01-13</td>\n",
       "      <td>2017-01-29</td>\n",
       "      <td>1492719</td>\n",
       "      <td>2983332</td>\n",
       "      <td>265</td>\n",
       "      <td>1527</td>\n",
       "      <td>6</td>\n",
       "      <td>2.81</td>\n",
       "      <td>1.40</td>\n",
       "      <td>16.86</td>\n",
       "    </tr>\n",
       "    <tr>\n",
       "      <th>...</th>\n",
       "      <td>...</td>\n",
       "      <td>...</td>\n",
       "      <td>...</td>\n",
       "      <td>...</td>\n",
       "      <td>...</td>\n",
       "      <td>...</td>\n",
       "      <td>...</td>\n",
       "      <td>...</td>\n",
       "      <td>...</td>\n",
       "      <td>...</td>\n",
       "    </tr>\n",
       "    <tr>\n",
       "      <th>14243</th>\n",
       "      <td>2022-03-12</td>\n",
       "      <td>2022-04-14</td>\n",
       "      <td>2173547</td>\n",
       "      <td>673190</td>\n",
       "      <td>265</td>\n",
       "      <td>202</td>\n",
       "      <td>24</td>\n",
       "      <td>1.62</td>\n",
       "      <td>1.50</td>\n",
       "      <td>38.88</td>\n",
       "    </tr>\n",
       "    <tr>\n",
       "      <th>14244</th>\n",
       "      <td>2022-03-12</td>\n",
       "      <td>2022-04-14</td>\n",
       "      <td>2173547</td>\n",
       "      <td>673190</td>\n",
       "      <td>265</td>\n",
       "      <td>1154</td>\n",
       "      <td>12</td>\n",
       "      <td>3.25</td>\n",
       "      <td>1.75</td>\n",
       "      <td>39.00</td>\n",
       "    </tr>\n",
       "    <tr>\n",
       "      <th>14245</th>\n",
       "      <td>2022-03-12</td>\n",
       "      <td>2022-04-14</td>\n",
       "      <td>2173547</td>\n",
       "      <td>673190</td>\n",
       "      <td>265</td>\n",
       "      <td>668</td>\n",
       "      <td>12</td>\n",
       "      <td>3.26</td>\n",
       "      <td>1.00</td>\n",
       "      <td>39.12</td>\n",
       "    </tr>\n",
       "    <tr>\n",
       "      <th>14246</th>\n",
       "      <td>2022-03-12</td>\n",
       "      <td>2022-04-14</td>\n",
       "      <td>2173547</td>\n",
       "      <td>673190</td>\n",
       "      <td>265</td>\n",
       "      <td>1527</td>\n",
       "      <td>12</td>\n",
       "      <td>3.14</td>\n",
       "      <td>1.00</td>\n",
       "      <td>37.68</td>\n",
       "    </tr>\n",
       "    <tr>\n",
       "      <th>14247</th>\n",
       "      <td>2022-03-13</td>\n",
       "      <td>2022-04-05</td>\n",
       "      <td>2172961</td>\n",
       "      <td>3771379</td>\n",
       "      <td>215</td>\n",
       "      <td>257</td>\n",
       "      <td>6</td>\n",
       "      <td>4.42</td>\n",
       "      <td>1.20</td>\n",
       "      <td>26.52</td>\n",
       "    </tr>\n",
       "  </tbody>\n",
       "</table>\n",
       "<p>302840 rows × 10 columns</p>\n",
       "</div>"
      ],
      "text/plain": [
       "      DataEmissao DataVencimento      NFe  cdCliente  cdVendedor  cdProduto  \\\n",
       "0      2017-01-12     2017-02-22  1492762    3140218         265       1073   \n",
       "1      2017-01-12     2017-02-22  1492762    3140218         265       1420   \n",
       "2      2017-01-12     2017-02-22  1492762    3140218         265        264   \n",
       "3      2017-01-13     2017-01-29  1492719    2983332         265       1154   \n",
       "4      2017-01-13     2017-01-29  1492719    2983332         265       1527   \n",
       "...           ...            ...      ...        ...         ...        ...   \n",
       "14243  2022-03-12     2022-04-14  2173547     673190         265        202   \n",
       "14244  2022-03-12     2022-04-14  2173547     673190         265       1154   \n",
       "14245  2022-03-12     2022-04-14  2173547     673190         265        668   \n",
       "14246  2022-03-12     2022-04-14  2173547     673190         265       1527   \n",
       "14247  2022-03-13     2022-04-05  2172961    3771379         215        257   \n",
       "\n",
       "       QtdItens  ValorUnitario  Peso Líquido  valortotal  \n",
       "0             6           8.83          0.60       52.98  \n",
       "1             6           4.44          5.40       26.64  \n",
       "2            10           0.96          1.92        9.60  \n",
       "3             6           2.92          1.26       17.52  \n",
       "4             6           2.81          1.40       16.86  \n",
       "...         ...            ...           ...         ...  \n",
       "14243        24           1.62          1.50       38.88  \n",
       "14244        12           3.25          1.75       39.00  \n",
       "14245        12           3.26          1.00       39.12  \n",
       "14246        12           3.14          1.00       37.68  \n",
       "14247         6           4.42          1.20       26.52  \n",
       "\n",
       "[302840 rows x 10 columns]"
      ]
     },
     "execution_count": 138,
     "metadata": {},
     "output_type": "execute_result"
    }
   ],
   "source": [
    "### Verificar alguns dados statisticos\n",
    "### Analises exploratorioas - Criando um nova variavel\n",
    "arquivos_emp['valortotal'] = arquivos_emp['QtdItens'] * arquivos_emp['ValorUnitario'] ##Criando variavel valortotal multiplicando duas variaveis\n",
    "arquivos_emp\n"
   ]
  },
  {
   "cell_type": "code",
   "execution_count": 153,
   "metadata": {},
   "outputs": [
    {
     "name": "stdout",
     "output_type": "stream",
     "text": [
      "<class 'pandas.core.frame.DataFrame'>\n",
      "RangeIndex: 260096 entries, 0 to 260095\n",
      "Data columns (total 2 columns):\n",
      " #   Column       Non-Null Count   Dtype         \n",
      "---  ------       --------------   -----         \n",
      " 0   DataEmissao  260096 non-null  datetime64[ns]\n",
      " 1   ano          260096 non-null  int64         \n",
      "dtypes: datetime64[ns](1), int64(1)\n",
      "memory usage: 4.0 MB\n",
      "None\n"
     ]
    }
   ],
   "source": [
    "### Cruzar tabelas = left sql ou procv no excel\n",
    "arquivos_emp2 = pd.merge(\n",
    "    arquivos_emp ##Tabela da esquerda(principal)\n",
    "    ,Data ##Tabela da esquerda(auxiliar)\n",
    "    ### cheves primarias para cruzamento \"on\" no sql\n",
    "    ,left_on='DataEmissao' ##Variavel de cruzamento da principal\n",
    "    ,right_on='data' ##Variavel de cruzamento da auxiliar\n",
    "    \n",
    ").loc[:,['DataEmissao','ano']]\n",
    "\n",
    "print(arquivos_emp2.info())\n",
    "# print(Data.info())\n"
   ]
  },
  {
   "cell_type": "code",
   "execution_count": 141,
   "metadata": {},
   "outputs": [
    {
     "name": "stdout",
     "output_type": "stream",
     "text": [
      "QtdItens          7428139.00\n",
      "ValorUnitario     2077072.83\n",
      "valortotal       21047835.52\n",
      "dtype: float64\n"
     ]
    }
   ],
   "source": [
    "print(arquivos_emp[['QtdItens','ValorUnitario','valortotal']].sum()) ##Total das variaveis (count/sum)\n",
    "# arquivos_emp_g = arquivos_emp.groupby('Mês')['ValorVenda'].sum()\n",
    "\n",
    "# metas.describe()\n",
    "# clientes.describe()\n",
    "# Produto.describe()\n",
    "# GrupoProduto.describe()\n",
    "# Vendedor.describe()\n",
    "# Data.describe()"
   ]
  }
 ],
 "metadata": {
  "kernelspec": {
   "display_name": "Python 3",
   "language": "python",
   "name": "python3"
  },
  "language_info": {
   "codemirror_mode": {
    "name": "ipython",
    "version": 3
   },
   "file_extension": ".py",
   "mimetype": "text/x-python",
   "name": "python",
   "nbconvert_exporter": "python",
   "pygments_lexer": "ipython3",
   "version": "3.11.0"
  }
 },
 "nbformat": 4,
 "nbformat_minor": 2
}
